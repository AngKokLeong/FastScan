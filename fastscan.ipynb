{
 "cells": [
  {
   "cell_type": "markdown",
   "metadata": {},
   "source": [
    "# Shopping Checkout System"
   ]
  },
  {
   "cell_type": "markdown",
   "metadata": {},
   "source": [
    "Purpose"
   ]
  },
  {
   "cell_type": "markdown",
   "metadata": {},
   "source": [
    "## Use Case"
   ]
  },
  {
   "cell_type": "markdown",
   "metadata": {},
   "source": []
  },
  {
   "cell_type": "markdown",
   "metadata": {},
   "source": [
    "## Tools used"
   ]
  },
  {
   "cell_type": "markdown",
   "metadata": {},
   "source": [
    "- YOLOv11n\n",
    "- pandas\n",
    "- OpenCV"
   ]
  },
  {
   "cell_type": "markdown",
   "metadata": {},
   "source": [
    "## Software Dependencies Installation"
   ]
  },
  {
   "cell_type": "code",
   "execution_count": 1,
   "metadata": {},
   "outputs": [
    {
     "name": "stdout",
     "output_type": "stream",
     "text": [
      "Requirement already satisfied: pandas in c:\\users\\angko\\desktop\\shopping-checkout-system\\.conda\\lib\\site-packages (2.2.3)\n",
      "Requirement already satisfied: numpy>=1.26.0 in c:\\users\\angko\\desktop\\shopping-checkout-system\\.conda\\lib\\site-packages (from pandas) (2.1.1)\n",
      "Requirement already satisfied: python-dateutil>=2.8.2 in c:\\users\\angko\\desktop\\shopping-checkout-system\\.conda\\lib\\site-packages (from pandas) (2.9.0.post0)\n",
      "Requirement already satisfied: pytz>=2020.1 in c:\\users\\angko\\desktop\\shopping-checkout-system\\.conda\\lib\\site-packages (from pandas) (2025.1)\n",
      "Requirement already satisfied: tzdata>=2022.7 in c:\\users\\angko\\desktop\\shopping-checkout-system\\.conda\\lib\\site-packages (from pandas) (2025.1)\n",
      "Requirement already satisfied: six>=1.5 in c:\\users\\angko\\desktop\\shopping-checkout-system\\.conda\\lib\\site-packages (from python-dateutil>=2.8.2->pandas) (1.17.0)\n",
      "Note: you may need to restart the kernel to use updated packages.\n"
     ]
    },
    {
     "name": "stderr",
     "output_type": "stream",
     "text": [
      "WARNING: Ignoring invalid distribution ~orch (c:\\Users\\angko\\Desktop\\Shopping-Checkout-System\\.conda\\Lib\\site-packages)\n",
      "WARNING: Ignoring invalid distribution ~orch (c:\\Users\\angko\\Desktop\\Shopping-Checkout-System\\.conda\\Lib\\site-packages)\n",
      "WARNING: Ignoring invalid distribution ~orch (c:\\Users\\angko\\Desktop\\Shopping-Checkout-System\\.conda\\Lib\\site-packages)\n"
     ]
    },
    {
     "name": "stdout",
     "output_type": "stream",
     "text": [
      "Requirement already satisfied: opencv-python in c:\\users\\angko\\desktop\\shopping-checkout-system\\.conda\\lib\\site-packages (4.11.0.86)\n",
      "Requirement already satisfied: numpy>=1.21.2 in c:\\users\\angko\\desktop\\shopping-checkout-system\\.conda\\lib\\site-packages (from opencv-python) (2.1.1)\n",
      "Note: you may need to restart the kernel to use updated packages.\n"
     ]
    },
    {
     "name": "stderr",
     "output_type": "stream",
     "text": [
      "WARNING: Ignoring invalid distribution ~orch (c:\\Users\\angko\\Desktop\\Shopping-Checkout-System\\.conda\\Lib\\site-packages)\n",
      "WARNING: Ignoring invalid distribution ~orch (c:\\Users\\angko\\Desktop\\Shopping-Checkout-System\\.conda\\Lib\\site-packages)\n",
      "WARNING: Ignoring invalid distribution ~orch (c:\\Users\\angko\\Desktop\\Shopping-Checkout-System\\.conda\\Lib\\site-packages)\n"
     ]
    },
    {
     "name": "stdout",
     "output_type": "stream",
     "text": [
      "Requirement already satisfied: ultralytics in c:\\users\\angko\\desktop\\shopping-checkout-system\\.conda\\lib\\site-packages (8.3.75)\n",
      "Requirement already satisfied: numpy<=2.1.1,>=1.23.0 in c:\\users\\angko\\desktop\\shopping-checkout-system\\.conda\\lib\\site-packages (from ultralytics) (2.1.1)\n",
      "Requirement already satisfied: matplotlib>=3.3.0 in c:\\users\\angko\\desktop\\shopping-checkout-system\\.conda\\lib\\site-packages (from ultralytics) (3.10.0)\n",
      "Requirement already satisfied: opencv-python>=4.6.0 in c:\\users\\angko\\desktop\\shopping-checkout-system\\.conda\\lib\\site-packages (from ultralytics) (4.11.0.86)\n",
      "Requirement already satisfied: pillow>=7.1.2 in c:\\users\\angko\\desktop\\shopping-checkout-system\\.conda\\lib\\site-packages (from ultralytics) (11.1.0)\n",
      "Requirement already satisfied: pyyaml>=5.3.1 in c:\\users\\angko\\desktop\\shopping-checkout-system\\.conda\\lib\\site-packages (from ultralytics) (6.0.2)\n",
      "Requirement already satisfied: requests>=2.23.0 in c:\\users\\angko\\desktop\\shopping-checkout-system\\.conda\\lib\\site-packages (from ultralytics) (2.32.3)\n",
      "Requirement already satisfied: scipy>=1.4.1 in c:\\users\\angko\\desktop\\shopping-checkout-system\\.conda\\lib\\site-packages (from ultralytics) (1.15.1)\n",
      "Requirement already satisfied: torch>=1.8.0 in c:\\users\\angko\\desktop\\shopping-checkout-system\\.conda\\lib\\site-packages (from ultralytics) (2.6.0+cu124)\n",
      "Requirement already satisfied: torchvision>=0.9.0 in c:\\users\\angko\\desktop\\shopping-checkout-system\\.conda\\lib\\site-packages (from ultralytics) (0.21.0)\n",
      "Requirement already satisfied: tqdm>=4.64.0 in c:\\users\\angko\\desktop\\shopping-checkout-system\\.conda\\lib\\site-packages (from ultralytics) (4.67.1)\n",
      "Requirement already satisfied: psutil in c:\\users\\angko\\desktop\\shopping-checkout-system\\.conda\\lib\\site-packages (from ultralytics) (5.9.0)\n",
      "Requirement already satisfied: py-cpuinfo in c:\\users\\angko\\desktop\\shopping-checkout-system\\.conda\\lib\\site-packages (from ultralytics) (9.0.0)\n",
      "Requirement already satisfied: pandas>=1.1.4 in c:\\users\\angko\\desktop\\shopping-checkout-system\\.conda\\lib\\site-packages (from ultralytics) (2.2.3)\n",
      "Requirement already satisfied: seaborn>=0.11.0 in c:\\users\\angko\\desktop\\shopping-checkout-system\\.conda\\lib\\site-packages (from ultralytics) (0.13.2)\n",
      "Requirement already satisfied: ultralytics-thop>=2.0.0 in c:\\users\\angko\\desktop\\shopping-checkout-system\\.conda\\lib\\site-packages (from ultralytics) (2.0.14)\n",
      "Requirement already satisfied: contourpy>=1.0.1 in c:\\users\\angko\\desktop\\shopping-checkout-system\\.conda\\lib\\site-packages (from matplotlib>=3.3.0->ultralytics) (1.3.1)\n",
      "Requirement already satisfied: cycler>=0.10 in c:\\users\\angko\\desktop\\shopping-checkout-system\\.conda\\lib\\site-packages (from matplotlib>=3.3.0->ultralytics) (0.12.1)\n",
      "Requirement already satisfied: fonttools>=4.22.0 in c:\\users\\angko\\desktop\\shopping-checkout-system\\.conda\\lib\\site-packages (from matplotlib>=3.3.0->ultralytics) (4.56.0)\n",
      "Requirement already satisfied: kiwisolver>=1.3.1 in c:\\users\\angko\\desktop\\shopping-checkout-system\\.conda\\lib\\site-packages (from matplotlib>=3.3.0->ultralytics) (1.4.8)\n",
      "Requirement already satisfied: packaging>=20.0 in c:\\users\\angko\\desktop\\shopping-checkout-system\\.conda\\lib\\site-packages (from matplotlib>=3.3.0->ultralytics) (24.2)\n",
      "Requirement already satisfied: pyparsing>=2.3.1 in c:\\users\\angko\\desktop\\shopping-checkout-system\\.conda\\lib\\site-packages (from matplotlib>=3.3.0->ultralytics) (3.2.1)\n",
      "Requirement already satisfied: python-dateutil>=2.7 in c:\\users\\angko\\desktop\\shopping-checkout-system\\.conda\\lib\\site-packages (from matplotlib>=3.3.0->ultralytics) (2.9.0.post0)\n",
      "Requirement already satisfied: pytz>=2020.1 in c:\\users\\angko\\desktop\\shopping-checkout-system\\.conda\\lib\\site-packages (from pandas>=1.1.4->ultralytics) (2025.1)\n",
      "Requirement already satisfied: tzdata>=2022.7 in c:\\users\\angko\\desktop\\shopping-checkout-system\\.conda\\lib\\site-packages (from pandas>=1.1.4->ultralytics) (2025.1)\n",
      "Requirement already satisfied: charset-normalizer<4,>=2 in c:\\users\\angko\\desktop\\shopping-checkout-system\\.conda\\lib\\site-packages (from requests>=2.23.0->ultralytics) (3.4.1)\n",
      "Requirement already satisfied: idna<4,>=2.5 in c:\\users\\angko\\desktop\\shopping-checkout-system\\.conda\\lib\\site-packages (from requests>=2.23.0->ultralytics) (3.10)\n",
      "Requirement already satisfied: urllib3<3,>=1.21.1 in c:\\users\\angko\\desktop\\shopping-checkout-system\\.conda\\lib\\site-packages (from requests>=2.23.0->ultralytics) (2.3.0)\n",
      "Requirement already satisfied: certifi>=2017.4.17 in c:\\users\\angko\\desktop\\shopping-checkout-system\\.conda\\lib\\site-packages (from requests>=2.23.0->ultralytics) (2025.1.31)\n",
      "Requirement already satisfied: filelock in c:\\users\\angko\\desktop\\shopping-checkout-system\\.conda\\lib\\site-packages (from torch>=1.8.0->ultralytics) (3.17.0)\n",
      "Requirement already satisfied: typing-extensions>=4.10.0 in c:\\users\\angko\\desktop\\shopping-checkout-system\\.conda\\lib\\site-packages (from torch>=1.8.0->ultralytics) (4.12.2)\n",
      "Requirement already satisfied: networkx in c:\\users\\angko\\desktop\\shopping-checkout-system\\.conda\\lib\\site-packages (from torch>=1.8.0->ultralytics) (3.4.2)\n",
      "Requirement already satisfied: jinja2 in c:\\users\\angko\\desktop\\shopping-checkout-system\\.conda\\lib\\site-packages (from torch>=1.8.0->ultralytics) (3.1.5)\n",
      "Requirement already satisfied: fsspec in c:\\users\\angko\\desktop\\shopping-checkout-system\\.conda\\lib\\site-packages (from torch>=1.8.0->ultralytics) (2025.2.0)\n",
      "Requirement already satisfied: setuptools in c:\\users\\angko\\desktop\\shopping-checkout-system\\.conda\\lib\\site-packages (from torch>=1.8.0->ultralytics) (75.8.0)\n",
      "Requirement already satisfied: sympy==1.13.1 in c:\\users\\angko\\desktop\\shopping-checkout-system\\.conda\\lib\\site-packages (from torch>=1.8.0->ultralytics) (1.13.1)\n",
      "Requirement already satisfied: mpmath<1.4,>=1.1.0 in c:\\users\\angko\\desktop\\shopping-checkout-system\\.conda\\lib\\site-packages (from sympy==1.13.1->torch>=1.8.0->ultralytics) (1.3.0)\n",
      "Requirement already satisfied: colorama in c:\\users\\angko\\desktop\\shopping-checkout-system\\.conda\\lib\\site-packages (from tqdm>=4.64.0->ultralytics) (0.4.6)\n",
      "Requirement already satisfied: six>=1.5 in c:\\users\\angko\\desktop\\shopping-checkout-system\\.conda\\lib\\site-packages (from python-dateutil>=2.7->matplotlib>=3.3.0->ultralytics) (1.17.0)\n",
      "Requirement already satisfied: MarkupSafe>=2.0 in c:\\users\\angko\\desktop\\shopping-checkout-system\\.conda\\lib\\site-packages (from jinja2->torch>=1.8.0->ultralytics) (3.0.2)\n",
      "Note: you may need to restart the kernel to use updated packages.\n"
     ]
    },
    {
     "name": "stderr",
     "output_type": "stream",
     "text": [
      "WARNING: Ignoring invalid distribution ~orch (c:\\Users\\angko\\Desktop\\Shopping-Checkout-System\\.conda\\Lib\\site-packages)\n",
      "WARNING: Ignoring invalid distribution ~orch (c:\\Users\\angko\\Desktop\\Shopping-Checkout-System\\.conda\\Lib\\site-packages)\n",
      "WARNING: Ignoring invalid distribution ~orch (c:\\Users\\angko\\Desktop\\Shopping-Checkout-System\\.conda\\Lib\\site-packages)\n"
     ]
    },
    {
     "name": "stdout",
     "output_type": "stream",
     "text": [
      "Looking in indexes: https://download.pytorch.org/whl/cu124\n",
      "Requirement already satisfied: torch in c:\\users\\angko\\desktop\\shopping-checkout-system\\.conda\\lib\\site-packages (2.6.0+cu124)\n",
      "Requirement already satisfied: torchvision in c:\\users\\angko\\desktop\\shopping-checkout-system\\.conda\\lib\\site-packages (0.21.0)\n",
      "Collecting torchvision\n",
      "  Using cached https://download.pytorch.org/whl/cu124/torchvision-0.21.0%2Bcu124-cp312-cp312-win_amd64.whl.metadata (6.3 kB)\n",
      "Collecting torchaudio\n",
      "  Using cached https://download.pytorch.org/whl/cu124/torchaudio-2.6.0%2Bcu124-cp312-cp312-win_amd64.whl.metadata (6.8 kB)\n",
      "Requirement already satisfied: filelock in c:\\users\\angko\\desktop\\shopping-checkout-system\\.conda\\lib\\site-packages (from torch) (3.17.0)\n",
      "Requirement already satisfied: typing-extensions>=4.10.0 in c:\\users\\angko\\desktop\\shopping-checkout-system\\.conda\\lib\\site-packages (from torch) (4.12.2)\n",
      "Requirement already satisfied: networkx in c:\\users\\angko\\desktop\\shopping-checkout-system\\.conda\\lib\\site-packages (from torch) (3.4.2)\n",
      "Requirement already satisfied: jinja2 in c:\\users\\angko\\desktop\\shopping-checkout-system\\.conda\\lib\\site-packages (from torch) (3.1.5)\n",
      "Requirement already satisfied: fsspec in c:\\users\\angko\\desktop\\shopping-checkout-system\\.conda\\lib\\site-packages (from torch) (2025.2.0)\n",
      "Requirement already satisfied: setuptools in c:\\users\\angko\\desktop\\shopping-checkout-system\\.conda\\lib\\site-packages (from torch) (75.8.0)\n",
      "Requirement already satisfied: sympy==1.13.1 in c:\\users\\angko\\desktop\\shopping-checkout-system\\.conda\\lib\\site-packages (from torch) (1.13.1)\n",
      "Requirement already satisfied: mpmath<1.4,>=1.1.0 in c:\\users\\angko\\desktop\\shopping-checkout-system\\.conda\\lib\\site-packages (from sympy==1.13.1->torch) (1.3.0)\n",
      "Requirement already satisfied: numpy in c:\\users\\angko\\desktop\\shopping-checkout-system\\.conda\\lib\\site-packages (from torchvision) (2.1.1)\n",
      "Requirement already satisfied: pillow!=8.3.*,>=5.3.0 in c:\\users\\angko\\desktop\\shopping-checkout-system\\.conda\\lib\\site-packages (from torchvision) (11.1.0)\n",
      "Requirement already satisfied: MarkupSafe>=2.0 in c:\\users\\angko\\desktop\\shopping-checkout-system\\.conda\\lib\\site-packages (from jinja2->torch) (3.0.2)\n",
      "Using cached https://download.pytorch.org/whl/cu124/torchvision-0.21.0%2Bcu124-cp312-cp312-win_amd64.whl (6.1 MB)\n",
      "Using cached https://download.pytorch.org/whl/cu124/torchaudio-2.6.0%2Bcu124-cp312-cp312-win_amd64.whl (4.2 MB)\n",
      "Installing collected packages: torchvision, torchaudio\n",
      "  Attempting uninstall: torchvision\n",
      "    Found existing installation: torchvision 0.21.0\n",
      "    Uninstalling torchvision-0.21.0:\n",
      "      Successfully uninstalled torchvision-0.21.0\n",
      "Successfully installed torchaudio-2.6.0+cu124 torchvision-0.21.0+cu124\n",
      "Note: you may need to restart the kernel to use updated packages.\n"
     ]
    },
    {
     "name": "stderr",
     "output_type": "stream",
     "text": [
      "WARNING: Ignoring invalid distribution ~orch (c:\\Users\\angko\\Desktop\\Shopping-Checkout-System\\.conda\\Lib\\site-packages)\n",
      "WARNING: Ignoring invalid distribution ~orch (c:\\Users\\angko\\Desktop\\Shopping-Checkout-System\\.conda\\Lib\\site-packages)\n",
      "WARNING: Ignoring invalid distribution ~orch (c:\\Users\\angko\\Desktop\\Shopping-Checkout-System\\.conda\\Lib\\site-packages)\n"
     ]
    },
    {
     "name": "stdout",
     "output_type": "stream",
     "text": [
      "Requirement already satisfied: numpy==2.1.1 in c:\\users\\angko\\desktop\\shopping-checkout-system\\.conda\\lib\\site-packages (2.1.1)\n",
      "Note: you may need to restart the kernel to use updated packages.\n"
     ]
    },
    {
     "name": "stderr",
     "output_type": "stream",
     "text": [
      "WARNING: Ignoring invalid distribution ~orch (c:\\Users\\angko\\Desktop\\Shopping-Checkout-System\\.conda\\Lib\\site-packages)\n",
      "WARNING: Ignoring invalid distribution ~orch (c:\\Users\\angko\\Desktop\\Shopping-Checkout-System\\.conda\\Lib\\site-packages)\n",
      "WARNING: Ignoring invalid distribution ~orch (c:\\Users\\angko\\Desktop\\Shopping-Checkout-System\\.conda\\Lib\\site-packages)\n"
     ]
    },
    {
     "name": "stdout",
     "output_type": "stream",
     "text": [
      "Requirement already satisfied: matplotlib in c:\\users\\angko\\desktop\\shopping-checkout-system\\.conda\\lib\\site-packages (3.10.0)\n",
      "Requirement already satisfied: contourpy>=1.0.1 in c:\\users\\angko\\desktop\\shopping-checkout-system\\.conda\\lib\\site-packages (from matplotlib) (1.3.1)\n",
      "Requirement already satisfied: cycler>=0.10 in c:\\users\\angko\\desktop\\shopping-checkout-system\\.conda\\lib\\site-packages (from matplotlib) (0.12.1)\n",
      "Requirement already satisfied: fonttools>=4.22.0 in c:\\users\\angko\\desktop\\shopping-checkout-system\\.conda\\lib\\site-packages (from matplotlib) (4.56.0)\n",
      "Requirement already satisfied: kiwisolver>=1.3.1 in c:\\users\\angko\\desktop\\shopping-checkout-system\\.conda\\lib\\site-packages (from matplotlib) (1.4.8)\n",
      "Requirement already satisfied: numpy>=1.23 in c:\\users\\angko\\desktop\\shopping-checkout-system\\.conda\\lib\\site-packages (from matplotlib) (2.1.1)\n",
      "Requirement already satisfied: packaging>=20.0 in c:\\users\\angko\\desktop\\shopping-checkout-system\\.conda\\lib\\site-packages (from matplotlib) (24.2)\n",
      "Requirement already satisfied: pillow>=8 in c:\\users\\angko\\desktop\\shopping-checkout-system\\.conda\\lib\\site-packages (from matplotlib) (11.1.0)\n",
      "Requirement already satisfied: pyparsing>=2.3.1 in c:\\users\\angko\\desktop\\shopping-checkout-system\\.conda\\lib\\site-packages (from matplotlib) (3.2.1)\n",
      "Requirement already satisfied: python-dateutil>=2.7 in c:\\users\\angko\\desktop\\shopping-checkout-system\\.conda\\lib\\site-packages (from matplotlib) (2.9.0.post0)\n",
      "Requirement already satisfied: six>=1.5 in c:\\users\\angko\\desktop\\shopping-checkout-system\\.conda\\lib\\site-packages (from python-dateutil>=2.7->matplotlib) (1.17.0)\n",
      "Note: you may need to restart the kernel to use updated packages.\n"
     ]
    },
    {
     "name": "stderr",
     "output_type": "stream",
     "text": [
      "WARNING: Ignoring invalid distribution ~orch (c:\\Users\\angko\\Desktop\\Shopping-Checkout-System\\.conda\\Lib\\site-packages)\n",
      "WARNING: Ignoring invalid distribution ~orch (c:\\Users\\angko\\Desktop\\Shopping-Checkout-System\\.conda\\Lib\\site-packages)\n",
      "WARNING: Ignoring invalid distribution ~orch (c:\\Users\\angko\\Desktop\\Shopping-Checkout-System\\.conda\\Lib\\site-packages)\n"
     ]
    },
    {
     "name": "stdout",
     "output_type": "stream",
     "text": [
      "Requirement already satisfied: scikit-learn in c:\\users\\angko\\desktop\\shopping-checkout-system\\.conda\\lib\\site-packages (1.6.1)\n",
      "Requirement already satisfied: numpy>=1.19.5 in c:\\users\\angko\\desktop\\shopping-checkout-system\\.conda\\lib\\site-packages (from scikit-learn) (2.1.1)\n",
      "Requirement already satisfied: scipy>=1.6.0 in c:\\users\\angko\\desktop\\shopping-checkout-system\\.conda\\lib\\site-packages (from scikit-learn) (1.15.1)\n",
      "Requirement already satisfied: joblib>=1.2.0 in c:\\users\\angko\\desktop\\shopping-checkout-system\\.conda\\lib\\site-packages (from scikit-learn) (1.4.2)\n",
      "Requirement already satisfied: threadpoolctl>=3.1.0 in c:\\users\\angko\\desktop\\shopping-checkout-system\\.conda\\lib\\site-packages (from scikit-learn) (3.5.0)\n",
      "Note: you may need to restart the kernel to use updated packages.\n"
     ]
    },
    {
     "name": "stderr",
     "output_type": "stream",
     "text": [
      "WARNING: Ignoring invalid distribution ~orch (c:\\Users\\angko\\Desktop\\Shopping-Checkout-System\\.conda\\Lib\\site-packages)\n",
      "WARNING: Ignoring invalid distribution ~orch (c:\\Users\\angko\\Desktop\\Shopping-Checkout-System\\.conda\\Lib\\site-packages)\n",
      "WARNING: Ignoring invalid distribution ~orch (c:\\Users\\angko\\Desktop\\Shopping-Checkout-System\\.conda\\Lib\\site-packages)\n"
     ]
    }
   ],
   "source": [
    "%pip install --upgrade pandas\n",
    "%pip install --upgrade opencv-python\n",
    "%pip install --upgrade ultralytics\n",
    "%pip install --upgrade torch torchvision torchaudio --index-url https://download.pytorch.org/whl/cu124\n",
    "%pip install --upgrade numpy==2.1.1\n",
    "%pip install --upgrade matplotlib\n",
    "%pip install --upgrade scikit-learn"
   ]
  },
  {
   "cell_type": "markdown",
   "metadata": {},
   "source": [
    "## Import Python Packages"
   ]
  },
  {
   "cell_type": "code",
   "execution_count": 1,
   "metadata": {},
   "outputs": [],
   "source": [
    "from pathlib import Path\n",
    "import os\n",
    "import project_library.video_processor as video_processor\n",
    "import project_library.file_manager\n",
    "import cv2\n",
    "\n",
    "os.environ[\"KMP_DUPLICATE_LIB_OK\"]=\"TRUE\"\n",
    "from ultralytics import YOLO"
   ]
  },
  {
   "cell_type": "markdown",
   "metadata": {},
   "source": [
    "## Project Configuration"
   ]
  },
  {
   "cell_type": "code",
   "execution_count": 2,
   "metadata": {},
   "outputs": [],
   "source": [
    "PROJECT_ROOT_DIRECTORY: str = Path().resolve()\n",
    "DATASET_FILE_PATH: str = Path(\"datasets\").resolve()\n",
    "SHOPPING_DATASET_YAML_CONFIG: str = Path(\"datasets/shoppingDataset.yaml\").resolve()"
   ]
  },
  {
   "cell_type": "code",
   "execution_count": 3,
   "metadata": {},
   "outputs": [
    {
     "data": {
      "text/plain": [
       "WindowsPath('C:/Users/angko/Desktop/Shopping-Checkout-System/datasets/shoppingdataset.yaml')"
      ]
     },
     "execution_count": 3,
     "metadata": {},
     "output_type": "execute_result"
    }
   ],
   "source": [
    "SHOPPING_DATASET_YAML_CONFIG"
   ]
  },
  {
   "cell_type": "markdown",
   "metadata": {},
   "source": [
    "## Environment Setup"
   ]
  },
  {
   "cell_type": "markdown",
   "metadata": {},
   "source": [
    "### Create dataset folder structure"
   ]
  },
  {
   "cell_type": "code",
   "execution_count": 4,
   "metadata": {},
   "outputs": [],
   "source": [
    "# Create mydata folder\n",
    "\n",
    "# Create folder structure\n",
    "\n",
    "    # raw\n",
    "        # train\n",
    "        # train_background\n",
    "        # test\n",
    "        # test_background\n",
    "        # val\n",
    "        # val_background\n",
    "    # labels\n",
    "        # train\n",
    "        # test\n",
    "        # val\n",
    "    # images\n",
    "        # train\n",
    "        # test\n",
    "        # val\n",
    "\n",
    "import project_library.file_manager\n",
    "\n",
    "train_folder_dict, test_folder_dict, validation_folder_dict = project_library.file_manager.CreateFolderStructure.create_dataset_folder_structure(project_library.file_manager.FileInformation.get_absolute_folder_location(\"datasets\"), \"shoppingdataset\")"
   ]
  },
  {
   "cell_type": "markdown",
   "metadata": {},
   "source": [
    "### Process video files to extract all frames and convert to images"
   ]
  },
  {
   "cell_type": "code",
   "execution_count": 5,
   "metadata": {},
   "outputs": [
    {
     "name": "stdout",
     "output_type": "stream",
     "text": [
      "Processing IMG_4651 2025-02-12 04_36_25.mp4 ....\n",
      "Complete Processing IMG_4651 2025-02-12 04_36_25.mp4.\n",
      "Processing IMG_4653 2025-02-12 04_35_56.mp4 ....\n",
      "Complete Processing IMG_4653 2025-02-12 04_35_56.mp4.\n",
      "Processing IMG_4655 2025-02-12 04_17_31.mp4 ....\n",
      "Complete Processing IMG_4655 2025-02-12 04_17_31.mp4.\n",
      "Processing IMG_4656 2025-02-12 04_16_10.mp4 ....\n",
      "Complete Processing IMG_4656 2025-02-12 04_16_10.mp4.\n",
      "Processing IMG_4657 2025-02-12 04_13_01.mp4 ....\n",
      "Complete Processing IMG_4657 2025-02-12 04_13_01.mp4.\n",
      "Processing IMG_4658 2025-02-12 03_54_56.mp4 ....\n",
      "Complete Processing IMG_4658 2025-02-12 03_54_56.mp4.\n",
      "Processing IMG_4659 2025-02-12 03_54_45.mp4 ....\n",
      "Complete Processing IMG_4659 2025-02-12 03_54_45.mp4.\n",
      "Processing IMG_4660 2025-02-12 03_54_34.mp4 ....\n",
      "Complete Processing IMG_4660 2025-02-12 03_54_34.mp4.\n",
      "Processing IMG_4661 2025-02-12 03_54_25.mp4 ....\n",
      "Complete Processing IMG_4661 2025-02-12 03_54_25.mp4.\n",
      "Processing IMG_4662 2025-02-12 03_54_16.mp4 ....\n",
      "Complete Processing IMG_4662 2025-02-12 03_54_16.mp4.\n",
      "Processing IMG_4663 2025-02-12 03_54_09.mp4 ....\n",
      "Complete Processing IMG_4663 2025-02-12 03_54_09.mp4.\n",
      "Processing IMG_4664 2025-02-12 03_54_00.mp4 ....\n",
      "Complete Processing IMG_4664 2025-02-12 03_54_00.mp4.\n",
      "Processing IMG_4665 2025-02-12 03_53_54.mp4 ....\n",
      "Complete Processing IMG_4665 2025-02-12 03_53_54.mp4.\n",
      "Processing IMG_4666 2025-02-12 03_53_46.mp4 ....\n",
      "Complete Processing IMG_4666 2025-02-12 03_53_46.mp4.\n",
      "Processing IMG_4667 2025-02-12 03_53_41.mp4 ....\n",
      "Complete Processing IMG_4667 2025-02-12 03_53_41.mp4.\n"
     ]
    }
   ],
   "source": [
    "video_folder_path: Path = project_library.file_manager.FileInformation.get_absolute_folder_location(\"video\")\n",
    "\n",
    "image_data_collection = project_library.video_processor.VideoExtraction.process_video_files_within_folder_to_image_data(video_folder_path, 640)"
   ]
  },
  {
   "cell_type": "markdown",
   "metadata": {},
   "source": [
    "### Reduce the number of frame in the data collection by selecting every 10th frame"
   ]
  },
  {
   "cell_type": "code",
   "execution_count": 6,
   "metadata": {},
   "outputs": [],
   "source": [
    "import numpy\n",
    "processed_images_data_collection: list[list[numpy.ndarray]] = project_library.video_processor.VideoExtraction.extract_Nth_image_from_image_collection(image_data_collection=image_data_collection, N_value=10)"
   ]
  },
  {
   "cell_type": "code",
   "execution_count": 4,
   "metadata": {},
   "outputs": [],
   "source": [
    "raw_dataset_folder_path: str = os.path.join(Path(\"datasets\").resolve(), \"raw_custom_image_dataset\")"
   ]
  },
  {
   "cell_type": "markdown",
   "metadata": {},
   "source": [
    "### Output the images to folder from data collection"
   ]
  },
  {
   "cell_type": "code",
   "execution_count": 8,
   "metadata": {},
   "outputs": [],
   "source": [
    "project_library.video_processor.VideoExtraction.output_image_data_collection_to_folder(processed_images_data_collection, destination_folder_path=raw_dataset_folder_path)"
   ]
  },
  {
   "cell_type": "markdown",
   "metadata": {},
   "source": [
    "### Extract all label data to a folder"
   ]
  },
  {
   "cell_type": "code",
   "execution_count": 4,
   "metadata": {},
   "outputs": [],
   "source": [
    "label_information_zip_archive_location: str = Path(\"datasets/label_information_zip_archive\").resolve()"
   ]
  },
  {
   "cell_type": "code",
   "execution_count": 5,
   "metadata": {},
   "outputs": [
    {
     "data": {
      "text/plain": [
       "WindowsPath('C:/Users/angko/Desktop/Shopping-Checkout-System/datasets/label_information_zip_archive')"
      ]
     },
     "execution_count": 5,
     "metadata": {},
     "output_type": "execute_result"
    }
   ],
   "source": [
    "label_information_zip_archive_location"
   ]
  },
  {
   "cell_type": "code",
   "execution_count": null,
   "metadata": {},
   "outputs": [
    {
     "name": "stdout",
     "output_type": "stream",
     "text": [
      "The extracted files from the zip archive are located in C:\\Users\\angko\\Desktop\\Shopping-Checkout-System\\datasets\\label_information_data_folder \n",
      "The extracted files from the zip archive are located in C:\\Users\\angko\\Desktop\\Shopping-Checkout-System\\datasets\\label_information_data_folder \n",
      "The extracted files from the zip archive are located in C:\\Users\\angko\\Desktop\\Shopping-Checkout-System\\datasets\\label_information_data_folder \n",
      "The extracted files from the zip archive are located in C:\\Users\\angko\\Desktop\\Shopping-Checkout-System\\datasets\\label_information_data_folder \n",
      "The extracted files from the zip archive are located in C:\\Users\\angko\\Desktop\\Shopping-Checkout-System\\datasets\\label_information_data_folder \n"
     ]
    }
   ],
   "source": [
    "\n",
    "project_library.file_manager.FileExtraction.extract_all_zip_archive_in_the_folder(zip_archive_source_file_path=label_information_zip_archive_location, destination_extraction_file_path=os.path.join(DATASET_FILE_PATH, \"label_information_data_folder\"))"
   ]
  },
  {
   "cell_type": "markdown",
   "metadata": {},
   "source": [
    "### Extract the file name from the raw_custom_image_dataset folder into a list"
   ]
  },
  {
   "cell_type": "code",
   "execution_count": 4,
   "metadata": {},
   "outputs": [],
   "source": [
    "LABEL_INFORMATION_DATA_FOLDER: Path = Path(DATASET_FILE_PATH, \"label_information_data_folder\")\n",
    "RAW_CUSTOM_IMAGE_DATASET_FOLDER: str = os.path.join(DATASET_FILE_PATH, \"raw_custom_image_dataset\")"
   ]
  },
  {
   "cell_type": "code",
   "execution_count": 5,
   "metadata": {},
   "outputs": [],
   "source": [
    "SHOPPING_DATASET_RAW_FOLDER: Path = Path(DATASET_FILE_PATH, \"shoppingdataset\", \"raw\")\n",
    "SHOPPING_DATASET_LABEL_FOLDER: Path = Path(DATASET_FILE_PATH, \"shoppingdataset\", \"labels\")\n",
    "SHOPPING_DATASET_LABEL_TRAIN_FOLDER: Path = Path(SHOPPING_DATASET_LABEL_FOLDER, \"train\")\n",
    "SHOPPING_DATASET_LABEL_VALIDATION_FOLDER: Path = Path(SHOPPING_DATASET_LABEL_FOLDER, \"val\")\n",
    "SHOPPING_DATASET_LABEL_TEST_FOLDER: Path = Path(SHOPPING_DATASET_LABEL_FOLDER, \"test\")\n",
    "\n",
    "SHOPPING_DATASET_RAW_TRAIN_FOLDER: Path = Path(SHOPPING_DATASET_RAW_FOLDER, \"train\")\n",
    "SHOPPING_DATASET_RAW_VALIDATION_FOLDER: Path = Path(SHOPPING_DATASET_RAW_FOLDER, \"val\")\n",
    "SHOPPING_DATASET_RAW_TEST_FOLDER: Path = Path(SHOPPING_DATASET_RAW_FOLDER, \"test\")\n",
    "\n",
    "SHOPPING_DATASET_RAW_TRAIN_BACKGROUND_FOLDER: Path = Path(SHOPPING_DATASET_RAW_FOLDER, \"train_background\")\n",
    "SHOPPING_DATASET_RAW_TEST_BACKGROUND_FOLDER: Path = Path(SHOPPING_DATASET_RAW_FOLDER, \"test_background\")\n",
    "SHOPPING_DATASET_RAW_VALIDATION_BACKGROUND_FOLDER: Path = Path(SHOPPING_DATASET_RAW_FOLDER, \"val_background\")\n"
   ]
  },
  {
   "cell_type": "code",
   "execution_count": 8,
   "metadata": {},
   "outputs": [
    {
     "data": {
      "text/plain": [
       "WindowsPath('C:/Users/angko/Desktop/Shopping-Checkout-System/datasets/shoppingdataset/labels/train')"
      ]
     },
     "execution_count": 8,
     "metadata": {},
     "output_type": "execute_result"
    }
   ],
   "source": [
    "SHOPPING_DATASET_LABEL_TRAIN_FOLDER"
   ]
  },
  {
   "cell_type": "code",
   "execution_count": 33,
   "metadata": {},
   "outputs": [],
   "source": [
    "label_data_file_list: list = project_library.file_manager.FileInformation.extract_file_names_into_list(LABEL_INFORMATION_DATA_FOLDER)\n",
    "raw_custom_image_data_list: list = project_library.file_manager.FileInformation.extract_file_names_into_list(RAW_CUSTOM_IMAGE_DATASET_FOLDER)"
   ]
  },
  {
   "cell_type": "markdown",
   "metadata": {},
   "source": [
    "### Extract the filename from the folder to prepare for creating train, test and validation dataset"
   ]
  },
  {
   "cell_type": "code",
   "execution_count": 34,
   "metadata": {},
   "outputs": [
    {
     "name": "stdout",
     "output_type": "stream",
     "text": [
      "Train dataset is at C:\\Users\\angko\\Desktop\\Shopping-Checkout-System\\datasets\\shoppingdataset\\raw\\train\n",
      "Validation dataset is at C:\\Users\\angko\\Desktop\\Shopping-Checkout-System\\datasets\\shoppingdataset\\raw\\val\n",
      "Test Dataset is at C:\\Users\\angko\\Desktop\\Shopping-Checkout-System\\datasets\\shoppingdataset\\raw\\test\n"
     ]
    }
   ],
   "source": [
    "dataset_identifier: dict[str] = {\n",
    "    \"TRAIN\": \"train\",\n",
    "    \"VALIDATION\": \"val\",\n",
    "    \"TEST\": \"test\"\n",
    "}\n",
    "\n",
    "                                                                                   #train       #validation     # test\n",
    "# Perform train_test_split on the image file name and then split the dataset to 50% (50%, 50%), [30%(60%) , 20% ( 40%)]\n",
    "# Move the image files to the respective folders in raw folder (train, validation, test )\n",
    "\n",
    "raw_train_dataset_folder_path_list, raw_validation_dataset_folder_path_list, raw_test_dataset_folder_path_list = project_library.file_manager.MoveFilesAndFolder.move_images_to_train_validation_test_folder(RAW_CUSTOM_IMAGE_DATASET_FOLDER, raw_custom_image_data_list, SHOPPING_DATASET_RAW_FOLDER,dataset_identifier)\n"
   ]
  },
  {
   "cell_type": "markdown",
   "metadata": {},
   "source": [
    "### Modify file extension to .txt from .jpg to create a list of filename for moving label files to respective folders (train, val, test)"
   ]
  },
  {
   "cell_type": "markdown",
   "metadata": {},
   "source": [
    "This code prepares the label txt file to move to the labels folder"
   ]
  },
  {
   "cell_type": "code",
   "execution_count": 35,
   "metadata": {},
   "outputs": [],
   "source": [
    "raw_label_data_train_dataset_folder_path_list = project_library.file_manager.FileInformation.update_list_containing_file_extension_into_list(raw_train_dataset_folder_path_list, \".txt\")\n",
    "raw_label_data_validation_dataset_folder_path_list = project_library.file_manager.FileInformation.update_list_containing_file_extension_into_list(raw_validation_dataset_folder_path_list, \".txt\")\n",
    "raw_label_data_test_dataset_folder_path_list = project_library.file_manager.FileInformation.update_list_containing_file_extension_into_list(raw_test_dataset_folder_path_list, \".txt\")\n"
   ]
  },
  {
   "cell_type": "markdown",
   "metadata": {},
   "source": [
    "### Move Label Data to the label folder"
   ]
  },
  {
   "cell_type": "markdown",
   "metadata": {},
   "source": [
    "The code implementation calls the move_files_to_another_folder method will move all files that exists in the folder\n",
    "\n",
    "All remaining file name that does not exists in the source folder are considered images that do not have any label. Therefore, it is highly likely that the image does not contain any object of interest to label and is a background image."
   ]
  },
  {
   "cell_type": "code",
   "execution_count": 36,
   "metadata": {},
   "outputs": [],
   "source": [
    "missing_train_files_list: list = project_library.file_manager.MoveFilesAndFolder.move_files_to_another_folder(LABEL_INFORMATION_DATA_FOLDER, raw_label_data_train_dataset_folder_path_list, SHOPPING_DATASET_LABEL_TRAIN_FOLDER)\n",
    "missing_validation_files_list: list = project_library.file_manager.MoveFilesAndFolder.move_files_to_another_folder(LABEL_INFORMATION_DATA_FOLDER, raw_label_data_validation_dataset_folder_path_list, SHOPPING_DATASET_LABEL_VALIDATION_FOLDER)\n",
    "missing_test_files_list: list = project_library.file_manager.MoveFilesAndFolder.move_files_to_another_folder(LABEL_INFORMATION_DATA_FOLDER, raw_label_data_test_dataset_folder_path_list, SHOPPING_DATASET_LABEL_TEST_FOLDER)\n"
   ]
  },
  {
   "cell_type": "markdown",
   "metadata": {},
   "source": [
    "### Move images that do not have label file to background folder"
   ]
  },
  {
   "cell_type": "code",
   "execution_count": 40,
   "metadata": {},
   "outputs": [],
   "source": [
    "missing_train_image_label_list = project_library.file_manager.FileInformation.update_list_containing_file_extension_into_list(missing_train_files_list, \".jpg\")\n",
    "missing_validation_image_label_list = project_library.file_manager.FileInformation.update_list_containing_file_extension_into_list(missing_validation_files_list, \".jpg\")\n",
    "missing_test_image_label_list = project_library.file_manager.FileInformation.update_list_containing_file_extension_into_list(missing_test_files_list, \".jpg\")\n"
   ]
  },
  {
   "cell_type": "code",
   "execution_count": 41,
   "metadata": {},
   "outputs": [],
   "source": [
    "missing_train_image_list = project_library.file_manager.MoveFilesAndFolder.move_files_to_another_folder(SHOPPING_DATASET_RAW_TRAIN_FOLDER, missing_train_image_label_list, SHOPPING_DATASET_RAW_TRAIN_BACKGROUND_FOLDER)\n",
    "missing_validation_image_list: list = project_library.file_manager.MoveFilesAndFolder.move_files_to_another_folder(SHOPPING_DATASET_RAW_VALIDATION_FOLDER, missing_validation_image_label_list, SHOPPING_DATASET_RAW_VALIDATION_BACKGROUND_FOLDER)\n",
    "missing_test_image_list: list = project_library.file_manager.MoveFilesAndFolder.move_files_to_another_folder(SHOPPING_DATASET_RAW_TEST_FOLDER, missing_test_image_label_list, SHOPPING_DATASET_RAW_TEST_BACKGROUND_FOLDER)\n"
   ]
  },
  {
   "cell_type": "code",
   "execution_count": 26,
   "metadata": {},
   "outputs": [
    {
     "name": "stdout",
     "output_type": "stream",
     "text": [
      "[]\n",
      "[]\n",
      "[]\n"
     ]
    }
   ],
   "source": [
    "print(missing_train_image_list)\n",
    "print(missing_validation_image_list)\n",
    "print(missing_test_image_list)"
   ]
  },
  {
   "cell_type": "markdown",
   "metadata": {},
   "source": [
    "### Move raw images from train, test and val to images folder"
   ]
  },
  {
   "cell_type": "code",
   "execution_count": 4,
   "metadata": {},
   "outputs": [],
   "source": [
    "SHOPPING_DATASET_IMAGES_FOLDER: Path = Path(DATASET_FILE_PATH, \"shoppingdataset\", \"images\")\n",
    "SHOPPING_DATASET_IMAGES_TRAIN_FOLDER: Path = Path(SHOPPING_DATASET_IMAGES_FOLDER, \"train\")\n",
    "SHOPPING_DATASET_IMAGES_TEST_FOLDER: Path = Path(SHOPPING_DATASET_IMAGES_FOLDER, \"test\")\n",
    "SHOPPING_DATASET_IMAGES_VALIDATION_FOLDER: Path = Path(SHOPPING_DATASET_IMAGES_FOLDER, \"val\")"
   ]
  },
  {
   "cell_type": "code",
   "execution_count": 7,
   "metadata": {},
   "outputs": [],
   "source": [
    "# Extract the file name from the raw train folder\n",
    "raw_image_train_data_file_name_list: list = project_library.file_manager.FileInformation.extract_file_names_into_list(SHOPPING_DATASET_RAW_TRAIN_FOLDER)\n",
    "\n",
    "# Extract the file name from the raw val folder\n",
    "raw_image_validation_data_file_name_list: list = project_library.file_manager.FileInformation.extract_file_names_into_list(SHOPPING_DATASET_RAW_VALIDATION_FOLDER)\n",
    "\n",
    "\n",
    "# Extract the file name from the raw test folder\n",
    "raw_image_test_data_file_name_list: list = project_library.file_manager.FileInformation.extract_file_names_into_list(SHOPPING_DATASET_RAW_TEST_FOLDER)"
   ]
  },
  {
   "cell_type": "code",
   "execution_count": 10,
   "metadata": {},
   "outputs": [],
   "source": [
    "missing_train_files_list: list = project_library.file_manager.MoveFilesAndFolder.move_files_to_another_folder(SHOPPING_DATASET_RAW_TRAIN_FOLDER, raw_image_train_data_file_name_list, SHOPPING_DATASET_IMAGES_TRAIN_FOLDER)\n",
    "missing_validation_files_list: list = project_library.file_manager.MoveFilesAndFolder.move_files_to_another_folder(SHOPPING_DATASET_RAW_VALIDATION_FOLDER, raw_image_validation_data_file_name_list, SHOPPING_DATASET_IMAGES_VALIDATION_FOLDER)\n",
    "missing_test_files_list: list = project_library.file_manager.MoveFilesAndFolder.move_files_to_another_folder(SHOPPING_DATASET_RAW_TEST_FOLDER, raw_image_test_data_file_name_list, SHOPPING_DATASET_IMAGES_TEST_FOLDER)\n"
   ]
  },
  {
   "cell_type": "markdown",
   "metadata": {},
   "source": [
    "### Setup YOLO model"
   ]
  },
  {
   "cell_type": "code",
   "execution_count": 4,
   "metadata": {},
   "outputs": [],
   "source": [
    "shopping_dataset_config_file_path: str = Path(\"datasets/shoppingdataset.yaml\").resolve()"
   ]
  },
  {
   "cell_type": "code",
   "execution_count": 5,
   "metadata": {},
   "outputs": [
    {
     "name": "stdout",
     "output_type": "stream",
     "text": [
      "Ultralytics 8.3.75  Python-3.12.9 torch-2.6.0+cu124 CUDA:0 (NVIDIA RTX A500 Laptop GPU, 4096MiB)\n",
      "Setup complete  (16 CPUs, 31.7 GB RAM, 377.6/951.6 GB disk)\n"
     ]
    }
   ],
   "source": [
    "import ultralytics\n",
    "\n",
    "ultralytics.checks()"
   ]
  },
  {
   "cell_type": "code",
   "execution_count": 6,
   "metadata": {},
   "outputs": [],
   "source": [
    "import os\n",
    "os.environ[\"KMP_DUPLICATE_LIB_OK\"]=\"TRUE\"\n",
    "\n",
    "from ultralytics import YOLO"
   ]
  },
  {
   "cell_type": "code",
   "execution_count": null,
   "metadata": {},
   "outputs": [
    {
     "name": "stdout",
     "output_type": "stream",
     "text": [
      "Ultralytics 8.3.75  Python-3.12.9 torch-2.6.0+cu124 CUDA:0 (NVIDIA RTX A500 Laptop GPU, 4096MiB)\n",
      "\u001b[34m\u001b[1mengine\\trainer: \u001b[0mtask=detect, mode=train, model=yolo11n.pt, data=C:\\Users\\angko\\Desktop\\Shopping-Checkout-System\\datasets\\shoppingdataset.yaml, epochs=30, time=None, patience=100, batch=32, imgsz=640, save=True, save_period=-1, cache=False, device=None, workers=8, project=None, name=train5, exist_ok=False, pretrained=True, optimizer=auto, verbose=True, seed=0, deterministic=True, single_cls=False, rect=False, cos_lr=False, close_mosaic=10, resume=False, amp=True, fraction=1.0, profile=False, freeze=None, multi_scale=False, overlap_mask=True, mask_ratio=4, dropout=0.0, val=True, split=val, save_json=False, save_hybrid=False, conf=None, iou=0.7, max_det=300, half=False, dnn=False, plots=True, source=None, vid_stride=1, stream_buffer=False, visualize=False, augment=False, agnostic_nms=False, classes=None, retina_masks=False, embed=None, show=False, save_frames=False, save_txt=False, save_conf=False, save_crop=False, show_labels=True, show_conf=True, show_boxes=True, line_width=None, format=torchscript, keras=False, optimize=False, int8=False, dynamic=False, simplify=True, opset=None, workspace=None, nms=False, lr0=0.001, lrf=0.001, momentum=0.937, weight_decay=0.0005, warmup_epochs=3.0, warmup_momentum=0.8, warmup_bias_lr=0.1, box=7.5, cls=0.5, dfl=1.5, pose=12.0, kobj=1.0, nbs=64, hsv_h=0.015, hsv_s=0.7, hsv_v=0.4, degrees=0.0, translate=0.1, scale=0.5, shear=0.0, perspective=0.0, flipud=0.0, fliplr=0.5, bgr=0.0, mosaic=1.0, mixup=0.0, copy_paste=0.0, copy_paste_mode=flip, auto_augment=randaugment, erasing=0.4, crop_fraction=1.0, cfg=None, tracker=botsort.yaml, save_dir=runs\\detect\\train5\n",
      "Overriding model.yaml nc=80 with nc=2\n",
      "\n",
      "                   from  n    params  module                                       arguments                     \n",
      "  0                  -1  1       464  ultralytics.nn.modules.conv.Conv             [3, 16, 3, 2]                 \n",
      "  1                  -1  1      4672  ultralytics.nn.modules.conv.Conv             [16, 32, 3, 2]                \n",
      "  2                  -1  1      6640  ultralytics.nn.modules.block.C3k2            [32, 64, 1, False, 0.25]      \n",
      "  3                  -1  1     36992  ultralytics.nn.modules.conv.Conv             [64, 64, 3, 2]                \n",
      "  4                  -1  1     26080  ultralytics.nn.modules.block.C3k2            [64, 128, 1, False, 0.25]     \n",
      "  5                  -1  1    147712  ultralytics.nn.modules.conv.Conv             [128, 128, 3, 2]              \n",
      "  6                  -1  1     87040  ultralytics.nn.modules.block.C3k2            [128, 128, 1, True]           \n",
      "  7                  -1  1    295424  ultralytics.nn.modules.conv.Conv             [128, 256, 3, 2]              \n",
      "  8                  -1  1    346112  ultralytics.nn.modules.block.C3k2            [256, 256, 1, True]           \n",
      "  9                  -1  1    164608  ultralytics.nn.modules.block.SPPF            [256, 256, 5]                 \n",
      " 10                  -1  1    249728  ultralytics.nn.modules.block.C2PSA           [256, 256, 1]                 \n",
      " 11                  -1  1         0  torch.nn.modules.upsampling.Upsample         [None, 2, 'nearest']          \n",
      " 12             [-1, 6]  1         0  ultralytics.nn.modules.conv.Concat           [1]                           \n",
      " 13                  -1  1    111296  ultralytics.nn.modules.block.C3k2            [384, 128, 1, False]          \n",
      " 14                  -1  1         0  torch.nn.modules.upsampling.Upsample         [None, 2, 'nearest']          \n",
      " 15             [-1, 4]  1         0  ultralytics.nn.modules.conv.Concat           [1]                           \n",
      " 16                  -1  1     32096  ultralytics.nn.modules.block.C3k2            [256, 64, 1, False]           \n",
      " 17                  -1  1     36992  ultralytics.nn.modules.conv.Conv             [64, 64, 3, 2]                \n",
      " 18            [-1, 13]  1         0  ultralytics.nn.modules.conv.Concat           [1]                           \n",
      " 19                  -1  1     86720  ultralytics.nn.modules.block.C3k2            [192, 128, 1, False]          \n",
      " 20                  -1  1    147712  ultralytics.nn.modules.conv.Conv             [128, 128, 3, 2]              \n",
      " 21            [-1, 10]  1         0  ultralytics.nn.modules.conv.Concat           [1]                           \n",
      " 22                  -1  1    378880  ultralytics.nn.modules.block.C3k2            [384, 256, 1, True]           \n",
      " 23        [16, 19, 22]  1    431062  ultralytics.nn.modules.head.Detect           [2, [64, 128, 256]]           \n",
      "YOLO11n summary: 319 layers, 2,590,230 parameters, 2,590,214 gradients, 6.4 GFLOPs\n",
      "\n",
      "Transferred 448/499 items from pretrained weights\n",
      "Freezing layer 'model.23.dfl.conv.weight'\n",
      "\u001b[34m\u001b[1mAMP: \u001b[0mrunning Automatic Mixed Precision (AMP) checks...\n",
      "\u001b[34m\u001b[1mAMP: \u001b[0mchecks passed \n"
     ]
    },
    {
     "name": "stderr",
     "output_type": "stream",
     "text": [
      "\u001b[34m\u001b[1mtrain: \u001b[0mScanning C:\\Users\\angko\\Desktop\\Shopping-Checkout-System\\datasets\\shoppingdataset\\labels\\train... 811 images, 16 backgrounds, 0 corrupt: 100%|██████████| 827/827 [00:04<00:00, 199.65it/s]"
     ]
    },
    {
     "name": "stdout",
     "output_type": "stream",
     "text": [
      "\u001b[34m\u001b[1mtrain: \u001b[0mNew cache created: C:\\Users\\angko\\Desktop\\Shopping-Checkout-System\\datasets\\shoppingdataset\\labels\\train.cache\n"
     ]
    },
    {
     "name": "stderr",
     "output_type": "stream",
     "text": [
      "\n",
      "\u001b[34m\u001b[1mval: \u001b[0mScanning C:\\Users\\angko\\Desktop\\Shopping-Checkout-System\\datasets\\shoppingdataset\\labels\\val... 487 images, 9 backgrounds, 0 corrupt: 100%|██████████| 496/496 [00:01<00:00, 261.86it/s]\n"
     ]
    },
    {
     "name": "stdout",
     "output_type": "stream",
     "text": [
      "\u001b[34m\u001b[1mval: \u001b[0mNew cache created: C:\\Users\\angko\\Desktop\\Shopping-Checkout-System\\datasets\\shoppingdataset\\labels\\val.cache\n",
      "Plotting labels to runs\\detect\\train5\\labels.jpg... \n",
      "\u001b[34m\u001b[1moptimizer:\u001b[0m 'optimizer=auto' found, ignoring 'lr0=0.001' and 'momentum=0.937' and determining best 'optimizer', 'lr0' and 'momentum' automatically... \n",
      "\u001b[34m\u001b[1moptimizer:\u001b[0m AdamW(lr=0.001667, momentum=0.9) with parameter groups 81 weight(decay=0.0), 88 weight(decay=0.0005), 87 bias(decay=0.0)\n",
      "Image sizes 640 train, 640 val\n",
      "Using 8 dataloader workers\n",
      "Logging results to \u001b[1mruns\\detect\\train5\u001b[0m\n",
      "Starting training for 30 epochs...\n",
      "\n",
      "      Epoch    GPU_mem   box_loss   cls_loss   dfl_loss  Instances       Size\n"
     ]
    },
    {
     "name": "stderr",
     "output_type": "stream",
     "text": [
      "       1/30      4.47G      1.408      3.448      1.118         30        640: 100%|██████████| 26/26 [00:39<00:00,  1.52s/it]\n",
      "                 Class     Images  Instances      Box(P          R      mAP50  mAP50-95): 100%|██████████| 8/8 [00:19<00:00,  2.43s/it]"
     ]
    },
    {
     "name": "stdout",
     "output_type": "stream",
     "text": [
      "                   all        496        487     0.0034      0.983      0.247      0.158\n"
     ]
    },
    {
     "name": "stderr",
     "output_type": "stream",
     "text": [
      "\n"
     ]
    },
    {
     "name": "stdout",
     "output_type": "stream",
     "text": [
      "\n",
      "      Epoch    GPU_mem   box_loss   cls_loss   dfl_loss  Instances       Size\n"
     ]
    },
    {
     "name": "stderr",
     "output_type": "stream",
     "text": [
      "       2/30      4.49G      1.235      1.915      1.078         46        640: 100%|██████████| 26/26 [00:37<00:00,  1.44s/it]\n",
      "                 Class     Images  Instances      Box(P          R      mAP50  mAP50-95): 100%|██████████| 8/8 [00:21<00:00,  2.70s/it]"
     ]
    },
    {
     "name": "stdout",
     "output_type": "stream",
     "text": [
      "                   all        496        487     0.0688      0.151     0.0681      0.042\n"
     ]
    },
    {
     "name": "stderr",
     "output_type": "stream",
     "text": [
      "\n"
     ]
    },
    {
     "name": "stdout",
     "output_type": "stream",
     "text": [
      "\n",
      "      Epoch    GPU_mem   box_loss   cls_loss   dfl_loss  Instances       Size\n"
     ]
    },
    {
     "name": "stderr",
     "output_type": "stream",
     "text": [
      "       3/30      4.49G      1.236       1.62      1.078         43        640: 100%|██████████| 26/26 [00:34<00:00,  1.34s/it]\n",
      "                 Class     Images  Instances      Box(P          R      mAP50  mAP50-95): 100%|██████████| 8/8 [00:21<00:00,  2.70s/it]"
     ]
    },
    {
     "name": "stdout",
     "output_type": "stream",
     "text": [
      "                   all        496        487      0.968      0.157      0.832      0.493\n"
     ]
    },
    {
     "name": "stderr",
     "output_type": "stream",
     "text": [
      "\n"
     ]
    },
    {
     "name": "stdout",
     "output_type": "stream",
     "text": [
      "\n",
      "      Epoch    GPU_mem   box_loss   cls_loss   dfl_loss  Instances       Size\n"
     ]
    },
    {
     "name": "stderr",
     "output_type": "stream",
     "text": [
      "       4/30      4.49G      1.253      1.439      1.111         34        640: 100%|██████████| 26/26 [00:33<00:00,  1.31s/it]\n",
      "                 Class     Images  Instances      Box(P          R      mAP50  mAP50-95): 100%|██████████| 8/8 [00:22<00:00,  2.82s/it]"
     ]
    },
    {
     "name": "stdout",
     "output_type": "stream",
     "text": [
      "                   all        496        487      0.935      0.464      0.732      0.448\n"
     ]
    },
    {
     "name": "stderr",
     "output_type": "stream",
     "text": [
      "\n"
     ]
    },
    {
     "name": "stdout",
     "output_type": "stream",
     "text": [
      "\n",
      "      Epoch    GPU_mem   box_loss   cls_loss   dfl_loss  Instances       Size\n"
     ]
    },
    {
     "name": "stderr",
     "output_type": "stream",
     "text": [
      "       5/30      4.49G      1.194      1.242      1.088         38        640: 100%|██████████| 26/26 [00:35<00:00,  1.38s/it]\n",
      "                 Class     Images  Instances      Box(P          R      mAP50  mAP50-95): 100%|██████████| 8/8 [00:19<00:00,  2.47s/it]"
     ]
    },
    {
     "name": "stdout",
     "output_type": "stream",
     "text": [
      "                   all        496        487      0.892      0.758      0.895       0.56\n"
     ]
    },
    {
     "name": "stderr",
     "output_type": "stream",
     "text": [
      "\n"
     ]
    },
    {
     "name": "stdout",
     "output_type": "stream",
     "text": [
      "\n",
      "      Epoch    GPU_mem   box_loss   cls_loss   dfl_loss  Instances       Size\n"
     ]
    },
    {
     "name": "stderr",
     "output_type": "stream",
     "text": [
      "       6/30      4.49G      1.158      1.103      1.065         37        640: 100%|██████████| 26/26 [00:32<00:00,  1.26s/it]\n",
      "                 Class     Images  Instances      Box(P          R      mAP50  mAP50-95): 100%|██████████| 8/8 [00:20<00:00,  2.51s/it]"
     ]
    },
    {
     "name": "stdout",
     "output_type": "stream",
     "text": [
      "                   all        496        487      0.754       0.78      0.932      0.597\n"
     ]
    },
    {
     "name": "stderr",
     "output_type": "stream",
     "text": [
      "\n"
     ]
    },
    {
     "name": "stdout",
     "output_type": "stream",
     "text": [
      "\n",
      "      Epoch    GPU_mem   box_loss   cls_loss   dfl_loss  Instances       Size\n"
     ]
    },
    {
     "name": "stderr",
     "output_type": "stream",
     "text": [
      "       7/30      4.49G      1.153     0.9993      1.059         33        640: 100%|██████████| 26/26 [00:36<00:00,  1.40s/it]\n",
      "                 Class     Images  Instances      Box(P          R      mAP50  mAP50-95): 100%|██████████| 8/8 [00:24<00:00,  3.12s/it]"
     ]
    },
    {
     "name": "stdout",
     "output_type": "stream",
     "text": [
      "                   all        496        487      0.899      0.964      0.952      0.644\n"
     ]
    },
    {
     "name": "stderr",
     "output_type": "stream",
     "text": [
      "\n"
     ]
    },
    {
     "name": "stdout",
     "output_type": "stream",
     "text": [
      "\n",
      "      Epoch    GPU_mem   box_loss   cls_loss   dfl_loss  Instances       Size\n"
     ]
    },
    {
     "name": "stderr",
     "output_type": "stream",
     "text": [
      "       8/30      4.49G      1.177     0.8881      1.064         30        640: 100%|██████████| 26/26 [00:37<00:00,  1.43s/it]\n",
      "                 Class     Images  Instances      Box(P          R      mAP50  mAP50-95): 100%|██████████| 8/8 [00:23<00:00,  2.95s/it]"
     ]
    },
    {
     "name": "stdout",
     "output_type": "stream",
     "text": [
      "                   all        496        487      0.944      0.929      0.976      0.611\n"
     ]
    },
    {
     "name": "stderr",
     "output_type": "stream",
     "text": [
      "\n"
     ]
    },
    {
     "name": "stdout",
     "output_type": "stream",
     "text": [
      "\n",
      "      Epoch    GPU_mem   box_loss   cls_loss   dfl_loss  Instances       Size\n"
     ]
    },
    {
     "name": "stderr",
     "output_type": "stream",
     "text": [
      "       9/30      4.48G      1.121     0.8216      1.033         42        640: 100%|██████████| 26/26 [00:34<00:00,  1.33s/it]\n",
      "                 Class     Images  Instances      Box(P          R      mAP50  mAP50-95): 100%|██████████| 8/8 [00:21<00:00,  2.67s/it]"
     ]
    },
    {
     "name": "stdout",
     "output_type": "stream",
     "text": [
      "                   all        496        487       0.98      0.993      0.987      0.624\n"
     ]
    },
    {
     "name": "stderr",
     "output_type": "stream",
     "text": [
      "\n"
     ]
    },
    {
     "name": "stdout",
     "output_type": "stream",
     "text": [
      "\n",
      "      Epoch    GPU_mem   box_loss   cls_loss   dfl_loss  Instances       Size\n"
     ]
    },
    {
     "name": "stderr",
     "output_type": "stream",
     "text": [
      "      10/30      4.48G      1.126     0.7895      1.044         38        640: 100%|██████████| 26/26 [00:33<00:00,  1.30s/it]\n",
      "                 Class     Images  Instances      Box(P          R      mAP50  mAP50-95): 100%|██████████| 8/8 [00:19<00:00,  2.47s/it]"
     ]
    },
    {
     "name": "stdout",
     "output_type": "stream",
     "text": [
      "                   all        496        487      0.956      0.949      0.983      0.647\n"
     ]
    },
    {
     "name": "stderr",
     "output_type": "stream",
     "text": [
      "\n"
     ]
    },
    {
     "name": "stdout",
     "output_type": "stream",
     "text": [
      "\n",
      "      Epoch    GPU_mem   box_loss   cls_loss   dfl_loss  Instances       Size\n"
     ]
    },
    {
     "name": "stderr",
     "output_type": "stream",
     "text": [
      "      11/30      4.48G      1.113     0.7465      1.042         29        640: 100%|██████████| 26/26 [00:33<00:00,  1.30s/it]\n",
      "                 Class     Images  Instances      Box(P          R      mAP50  mAP50-95): 100%|██████████| 8/8 [00:19<00:00,  2.40s/it]"
     ]
    },
    {
     "name": "stdout",
     "output_type": "stream",
     "text": [
      "                   all        496        487      0.969      0.979      0.984      0.628\n"
     ]
    },
    {
     "name": "stderr",
     "output_type": "stream",
     "text": [
      "\n"
     ]
    },
    {
     "name": "stdout",
     "output_type": "stream",
     "text": [
      "\n",
      "      Epoch    GPU_mem   box_loss   cls_loss   dfl_loss  Instances       Size\n"
     ]
    },
    {
     "name": "stderr",
     "output_type": "stream",
     "text": [
      "      12/30      4.48G      1.092     0.7141      1.024         29        640: 100%|██████████| 26/26 [00:33<00:00,  1.29s/it]\n",
      "                 Class     Images  Instances      Box(P          R      mAP50  mAP50-95): 100%|██████████| 8/8 [00:19<00:00,  2.39s/it]"
     ]
    },
    {
     "name": "stdout",
     "output_type": "stream",
     "text": [
      "                   all        496        487      0.954      0.975       0.99        0.7\n"
     ]
    },
    {
     "name": "stderr",
     "output_type": "stream",
     "text": [
      "\n"
     ]
    },
    {
     "name": "stdout",
     "output_type": "stream",
     "text": [
      "\n",
      "      Epoch    GPU_mem   box_loss   cls_loss   dfl_loss  Instances       Size\n"
     ]
    },
    {
     "name": "stderr",
     "output_type": "stream",
     "text": [
      "      13/30      4.48G      1.068      0.681      1.014         39        640: 100%|██████████| 26/26 [00:33<00:00,  1.29s/it]\n",
      "                 Class     Images  Instances      Box(P          R      mAP50  mAP50-95): 100%|██████████| 8/8 [00:19<00:00,  2.41s/it]"
     ]
    },
    {
     "name": "stdout",
     "output_type": "stream",
     "text": [
      "                   all        496        487      0.978      0.984      0.985      0.694\n"
     ]
    },
    {
     "name": "stderr",
     "output_type": "stream",
     "text": [
      "\n"
     ]
    },
    {
     "name": "stdout",
     "output_type": "stream",
     "text": [
      "\n",
      "      Epoch    GPU_mem   box_loss   cls_loss   dfl_loss  Instances       Size\n"
     ]
    },
    {
     "name": "stderr",
     "output_type": "stream",
     "text": [
      "      14/30      4.48G      1.075     0.6593      1.011         42        640: 100%|██████████| 26/26 [00:33<00:00,  1.30s/it]\n",
      "                 Class     Images  Instances      Box(P          R      mAP50  mAP50-95): 100%|██████████| 8/8 [00:21<00:00,  2.64s/it]"
     ]
    },
    {
     "name": "stdout",
     "output_type": "stream",
     "text": [
      "                   all        496        487      0.989      0.991       0.99        0.7\n"
     ]
    },
    {
     "name": "stderr",
     "output_type": "stream",
     "text": [
      "\n"
     ]
    },
    {
     "name": "stdout",
     "output_type": "stream",
     "text": [
      "\n",
      "      Epoch    GPU_mem   box_loss   cls_loss   dfl_loss  Instances       Size\n"
     ]
    },
    {
     "name": "stderr",
     "output_type": "stream",
     "text": [
      "      15/30      4.48G      1.068     0.6377     0.9932         48        640: 100%|██████████| 26/26 [00:36<00:00,  1.40s/it]\n",
      "                 Class     Images  Instances      Box(P          R      mAP50  mAP50-95): 100%|██████████| 8/8 [00:23<00:00,  2.89s/it]"
     ]
    },
    {
     "name": "stdout",
     "output_type": "stream",
     "text": [
      "                   all        496        487      0.984      0.987       0.99      0.668\n"
     ]
    },
    {
     "name": "stderr",
     "output_type": "stream",
     "text": [
      "\n"
     ]
    },
    {
     "name": "stdout",
     "output_type": "stream",
     "text": [
      "\n",
      "      Epoch    GPU_mem   box_loss   cls_loss   dfl_loss  Instances       Size\n"
     ]
    },
    {
     "name": "stderr",
     "output_type": "stream",
     "text": [
      "      16/30      4.48G      1.066     0.6172      1.007         41        640: 100%|██████████| 26/26 [00:36<00:00,  1.40s/it]\n",
      "                 Class     Images  Instances      Box(P          R      mAP50  mAP50-95): 100%|██████████| 8/8 [00:26<00:00,  3.30s/it]"
     ]
    },
    {
     "name": "stdout",
     "output_type": "stream",
     "text": [
      "                   all        496        487      0.986      0.995       0.99      0.729\n"
     ]
    },
    {
     "name": "stderr",
     "output_type": "stream",
     "text": [
      "\n"
     ]
    },
    {
     "name": "stdout",
     "output_type": "stream",
     "text": [
      "\n",
      "      Epoch    GPU_mem   box_loss   cls_loss   dfl_loss  Instances       Size\n"
     ]
    },
    {
     "name": "stderr",
     "output_type": "stream",
     "text": [
      "      17/30      4.48G      1.052     0.6077      1.008         38        640: 100%|██████████| 26/26 [00:36<00:00,  1.42s/it]\n",
      "                 Class     Images  Instances      Box(P          R      mAP50  mAP50-95): 100%|██████████| 8/8 [00:25<00:00,  3.15s/it]"
     ]
    },
    {
     "name": "stdout",
     "output_type": "stream",
     "text": [
      "                   all        496        487      0.984      0.994       0.99      0.706\n"
     ]
    },
    {
     "name": "stderr",
     "output_type": "stream",
     "text": [
      "\n"
     ]
    },
    {
     "name": "stdout",
     "output_type": "stream",
     "text": [
      "\n",
      "      Epoch    GPU_mem   box_loss   cls_loss   dfl_loss  Instances       Size\n"
     ]
    },
    {
     "name": "stderr",
     "output_type": "stream",
     "text": [
      "      18/30      4.48G     0.9901     0.5723     0.9793         38        640: 100%|██████████| 26/26 [00:35<00:00,  1.36s/it]\n",
      "                 Class     Images  Instances      Box(P          R      mAP50  mAP50-95): 100%|██████████| 8/8 [00:24<00:00,  3.08s/it]"
     ]
    },
    {
     "name": "stdout",
     "output_type": "stream",
     "text": [
      "                   all        496        487      0.986      0.995      0.991      0.728\n"
     ]
    },
    {
     "name": "stderr",
     "output_type": "stream",
     "text": [
      "\n"
     ]
    },
    {
     "name": "stdout",
     "output_type": "stream",
     "text": [
      "\n",
      "      Epoch    GPU_mem   box_loss   cls_loss   dfl_loss  Instances       Size\n"
     ]
    },
    {
     "name": "stderr",
     "output_type": "stream",
     "text": [
      "      19/30      4.48G     0.9989     0.5787     0.9997         40        640: 100%|██████████| 26/26 [00:34<00:00,  1.35s/it]\n",
      "                 Class     Images  Instances      Box(P          R      mAP50  mAP50-95): 100%|██████████| 8/8 [00:24<00:00,  3.09s/it]"
     ]
    },
    {
     "name": "stdout",
     "output_type": "stream",
     "text": [
      "                   all        496        487      0.991      0.996      0.992      0.745\n"
     ]
    },
    {
     "name": "stderr",
     "output_type": "stream",
     "text": [
      "\n"
     ]
    },
    {
     "name": "stdout",
     "output_type": "stream",
     "text": [
      "\n",
      "      Epoch    GPU_mem   box_loss   cls_loss   dfl_loss  Instances       Size\n"
     ]
    },
    {
     "name": "stderr",
     "output_type": "stream",
     "text": [
      "      20/30      4.48G      0.983     0.5518      0.977         40        640: 100%|██████████| 26/26 [00:34<00:00,  1.32s/it]\n",
      "                 Class     Images  Instances      Box(P          R      mAP50  mAP50-95): 100%|██████████| 8/8 [00:23<00:00,  2.89s/it]"
     ]
    },
    {
     "name": "stdout",
     "output_type": "stream",
     "text": [
      "                   all        496        487      0.986      0.985      0.991      0.742\n"
     ]
    },
    {
     "name": "stderr",
     "output_type": "stream",
     "text": [
      "\n"
     ]
    },
    {
     "name": "stdout",
     "output_type": "stream",
     "text": [
      "Closing dataloader mosaic\n",
      "\n",
      "      Epoch    GPU_mem   box_loss   cls_loss   dfl_loss  Instances       Size\n"
     ]
    },
    {
     "name": "stderr",
     "output_type": "stream",
     "text": [
      "      21/30      4.49G     0.9713     0.5242     0.9756         27        640: 100%|██████████| 26/26 [00:36<00:00,  1.42s/it]\n",
      "                 Class     Images  Instances      Box(P          R      mAP50  mAP50-95): 100%|██████████| 8/8 [00:24<00:00,  3.11s/it]"
     ]
    },
    {
     "name": "stdout",
     "output_type": "stream",
     "text": [
      "                   all        496        487       0.99      0.997      0.992      0.746\n"
     ]
    },
    {
     "name": "stderr",
     "output_type": "stream",
     "text": [
      "\n"
     ]
    },
    {
     "name": "stdout",
     "output_type": "stream",
     "text": [
      "\n",
      "      Epoch    GPU_mem   box_loss   cls_loss   dfl_loss  Instances       Size\n"
     ]
    },
    {
     "name": "stderr",
     "output_type": "stream",
     "text": [
      "      22/30      4.49G     0.9541     0.5082     0.9738         27        640: 100%|██████████| 26/26 [00:36<00:00,  1.39s/it]\n",
      "                 Class     Images  Instances      Box(P          R      mAP50  mAP50-95): 100%|██████████| 8/8 [00:24<00:00,  3.11s/it]"
     ]
    },
    {
     "name": "stdout",
     "output_type": "stream",
     "text": [
      "                   all        496        487       0.99      0.989      0.991      0.751\n"
     ]
    },
    {
     "name": "stderr",
     "output_type": "stream",
     "text": [
      "\n"
     ]
    },
    {
     "name": "stdout",
     "output_type": "stream",
     "text": [
      "\n",
      "      Epoch    GPU_mem   box_loss   cls_loss   dfl_loss  Instances       Size\n"
     ]
    },
    {
     "name": "stderr",
     "output_type": "stream",
     "text": [
      "      23/30      4.49G     0.9379     0.4896     0.9625         27        640: 100%|██████████| 26/26 [00:35<00:00,  1.38s/it]\n",
      "                 Class     Images  Instances      Box(P          R      mAP50  mAP50-95): 100%|██████████| 8/8 [00:25<00:00,  3.18s/it]"
     ]
    },
    {
     "name": "stdout",
     "output_type": "stream",
     "text": [
      "                   all        496        487      0.983      0.997      0.989      0.728\n"
     ]
    },
    {
     "name": "stderr",
     "output_type": "stream",
     "text": [
      "\n"
     ]
    },
    {
     "name": "stdout",
     "output_type": "stream",
     "text": [
      "\n",
      "      Epoch    GPU_mem   box_loss   cls_loss   dfl_loss  Instances       Size\n"
     ]
    },
    {
     "name": "stderr",
     "output_type": "stream",
     "text": [
      "      24/30      4.49G     0.9197      0.479     0.9635         27        640: 100%|██████████| 26/26 [00:37<00:00,  1.42s/it]\n",
      "                 Class     Images  Instances      Box(P          R      mAP50  mAP50-95): 100%|██████████| 8/8 [00:27<00:00,  3.49s/it]"
     ]
    },
    {
     "name": "stdout",
     "output_type": "stream",
     "text": [
      "                   all        496        487      0.986      0.997       0.99      0.763\n"
     ]
    },
    {
     "name": "stderr",
     "output_type": "stream",
     "text": [
      "\n"
     ]
    },
    {
     "name": "stdout",
     "output_type": "stream",
     "text": [
      "\n",
      "      Epoch    GPU_mem   box_loss   cls_loss   dfl_loss  Instances       Size\n"
     ]
    },
    {
     "name": "stderr",
     "output_type": "stream",
     "text": [
      "      25/30      4.49G     0.9007     0.4686     0.9575         25        640: 100%|██████████| 26/26 [00:35<00:00,  1.35s/it]\n",
      "                 Class     Images  Instances      Box(P          R      mAP50  mAP50-95): 100%|██████████| 8/8 [00:24<00:00,  3.09s/it]"
     ]
    },
    {
     "name": "stdout",
     "output_type": "stream",
     "text": [
      "                   all        496        487      0.989      0.997      0.991       0.76\n"
     ]
    },
    {
     "name": "stderr",
     "output_type": "stream",
     "text": [
      "\n"
     ]
    },
    {
     "name": "stdout",
     "output_type": "stream",
     "text": [
      "\n",
      "      Epoch    GPU_mem   box_loss   cls_loss   dfl_loss  Instances       Size\n"
     ]
    },
    {
     "name": "stderr",
     "output_type": "stream",
     "text": [
      "      26/30      4.49G     0.9008     0.4607     0.9556         27        640: 100%|██████████| 26/26 [00:36<00:00,  1.42s/it]\n",
      "                 Class     Images  Instances      Box(P          R      mAP50  mAP50-95): 100%|██████████| 8/8 [00:26<00:00,  3.26s/it]"
     ]
    },
    {
     "name": "stdout",
     "output_type": "stream",
     "text": [
      "                   all        496        487      0.985      0.993      0.991      0.751\n"
     ]
    },
    {
     "name": "stderr",
     "output_type": "stream",
     "text": [
      "\n"
     ]
    },
    {
     "name": "stdout",
     "output_type": "stream",
     "text": [
      "\n",
      "      Epoch    GPU_mem   box_loss   cls_loss   dfl_loss  Instances       Size\n"
     ]
    },
    {
     "name": "stderr",
     "output_type": "stream",
     "text": [
      "      27/30      4.49G     0.8863     0.4515     0.9499         27        640: 100%|██████████| 26/26 [00:37<00:00,  1.46s/it]\n",
      "                 Class     Images  Instances      Box(P          R      mAP50  mAP50-95): 100%|██████████| 8/8 [00:26<00:00,  3.32s/it]"
     ]
    },
    {
     "name": "stdout",
     "output_type": "stream",
     "text": [
      "                   all        496        487      0.986      0.996      0.991      0.775\n"
     ]
    },
    {
     "name": "stderr",
     "output_type": "stream",
     "text": [
      "\n"
     ]
    },
    {
     "name": "stdout",
     "output_type": "stream",
     "text": [
      "\n",
      "      Epoch    GPU_mem   box_loss   cls_loss   dfl_loss  Instances       Size\n"
     ]
    },
    {
     "name": "stderr",
     "output_type": "stream",
     "text": [
      "      28/30      4.49G     0.8695     0.4329     0.9395         27        640: 100%|██████████| 26/26 [00:38<00:00,  1.47s/it]\n",
      "                 Class     Images  Instances      Box(P          R      mAP50  mAP50-95): 100%|██████████| 8/8 [00:24<00:00,  3.09s/it]"
     ]
    },
    {
     "name": "stdout",
     "output_type": "stream",
     "text": [
      "                   all        496        487      0.991      0.996      0.991       0.77\n"
     ]
    },
    {
     "name": "stderr",
     "output_type": "stream",
     "text": [
      "\n"
     ]
    },
    {
     "name": "stdout",
     "output_type": "stream",
     "text": [
      "\n",
      "      Epoch    GPU_mem   box_loss   cls_loss   dfl_loss  Instances       Size\n"
     ]
    },
    {
     "name": "stderr",
     "output_type": "stream",
     "text": [
      "      29/30      4.49G     0.8589     0.4267     0.9367         26        640: 100%|██████████| 26/26 [00:37<00:00,  1.45s/it]\n",
      "                 Class     Images  Instances      Box(P          R      mAP50  mAP50-95): 100%|██████████| 8/8 [00:24<00:00,  3.06s/it]"
     ]
    },
    {
     "name": "stdout",
     "output_type": "stream",
     "text": [
      "                   all        496        487      0.986      0.995      0.992       0.77\n"
     ]
    },
    {
     "name": "stderr",
     "output_type": "stream",
     "text": [
      "\n"
     ]
    },
    {
     "name": "stdout",
     "output_type": "stream",
     "text": [
      "\n",
      "      Epoch    GPU_mem   box_loss   cls_loss   dfl_loss  Instances       Size\n"
     ]
    },
    {
     "name": "stderr",
     "output_type": "stream",
     "text": [
      "      30/30      4.49G     0.8398      0.415       0.93         27        640: 100%|██████████| 26/26 [00:37<00:00,  1.44s/it]\n",
      "                 Class     Images  Instances      Box(P          R      mAP50  mAP50-95): 100%|██████████| 8/8 [00:25<00:00,  3.14s/it]"
     ]
    },
    {
     "name": "stdout",
     "output_type": "stream",
     "text": [
      "                   all        496        487      0.988      0.995      0.992      0.776\n"
     ]
    },
    {
     "name": "stderr",
     "output_type": "stream",
     "text": [
      "\n"
     ]
    },
    {
     "name": "stdout",
     "output_type": "stream",
     "text": [
      "\n",
      "30 epochs completed in 0.513 hours.\n",
      "Optimizer stripped from runs\\detect\\train5\\weights\\last.pt, 5.5MB\n",
      "Optimizer stripped from runs\\detect\\train5\\weights\\best.pt, 5.5MB\n",
      "\n",
      "Validating runs\\detect\\train5\\weights\\best.pt...\n",
      "Ultralytics 8.3.75  Python-3.12.9 torch-2.6.0+cu124 CUDA:0 (NVIDIA RTX A500 Laptop GPU, 4096MiB)\n",
      "YOLO11n summary (fused): 238 layers, 2,582,542 parameters, 0 gradients, 6.3 GFLOPs\n"
     ]
    },
    {
     "name": "stderr",
     "output_type": "stream",
     "text": [
      "                 Class     Images  Instances      Box(P          R      mAP50  mAP50-95): 100%|██████████| 8/8 [00:08<00:00,  1.01s/it]\n"
     ]
    },
    {
     "name": "stdout",
     "output_type": "stream",
     "text": [
      "                   all        496        487      0.988      0.995      0.992      0.775\n",
      "          wrigley_I001        302        302      0.984      0.995      0.988      0.799\n",
      "     hichew_grape_I002        185        185      0.992      0.995      0.995      0.752\n",
      "Speed: 0.7ms preprocess, 8.0ms inference, 0.0ms loss, 1.9ms postprocess per image\n",
      "Results saved to \u001b[1mruns\\detect\\train5\u001b[0m\n"
     ]
    }
   ],
   "source": [
    "\n",
    "\n",
    "# Load a pretrained YOLO model\n",
    "shoppingdataset_yolov11_pretrained: YOLO = YOLO('yolo11n.pt')\n",
    "\n",
    "# Train the model on crack dataset for 50 epochs\n",
    "shoppingdataset_yolov11_pretrained_results: dict = shoppingdataset_yolov11_pretrained.train(data=shopping_dataset_config_file_path, epochs=30, lr0=0.001, lrf=0.001, batch=32)"
   ]
  },
  {
   "cell_type": "markdown",
   "metadata": {},
   "source": [
    "### Retrieve the model best.pt file path"
   ]
  },
  {
   "cell_type": "code",
   "execution_count": 9,
   "metadata": {},
   "outputs": [
    {
     "ename": "NameError",
     "evalue": "name 'shoppingdataset_yolov11_pretrained_results' is not defined",
     "output_type": "error",
     "traceback": [
      "\u001b[1;31m---------------------------------------------------------------------------\u001b[0m",
      "\u001b[1;31mNameError\u001b[0m                                 Traceback (most recent call last)",
      "Cell \u001b[1;32mIn[9], line 3\u001b[0m\n\u001b[0;32m      1\u001b[0m \u001b[38;5;28;01mimport\u001b[39;00m\u001b[38;5;250m \u001b[39m\u001b[38;5;21;01mpathlib\u001b[39;00m \n\u001b[1;32m----> 3\u001b[0m current_shoppingdataset_yolov11_training_best_model_path \u001b[38;5;241m=\u001b[39m \u001b[43mshoppingdataset_yolov11_pretrained_results\u001b[49m\u001b[38;5;241m.\u001b[39msave_dir\n\u001b[0;32m      5\u001b[0m current_shoppingdataset_yolov11_training_best_model_best_pt_path \u001b[38;5;241m=\u001b[39m pathlib\u001b[38;5;241m.\u001b[39mPath(\u001b[38;5;28mstr\u001b[39m(current_shoppingdataset_yolov11_training_best_model_path) \u001b[38;5;241m+\u001b[39m \u001b[38;5;124m\"\u001b[39m\u001b[38;5;124m/weights/best.pt\u001b[39m\u001b[38;5;124m\"\u001b[39m)\n",
      "\u001b[1;31mNameError\u001b[0m: name 'shoppingdataset_yolov11_pretrained_results' is not defined"
     ]
    }
   ],
   "source": [
    "import pathlib \n",
    "\n",
    "current_shoppingdataset_yolov11_training_best_model_path = shoppingdataset_yolov11_pretrained_results.save_dir\n",
    "\n",
    "current_shoppingdataset_yolov11_training_best_model_best_pt_path = pathlib.Path(str(current_shoppingdataset_yolov11_training_best_model_path) + \"/weights/best.pt\")"
   ]
  },
  {
   "cell_type": "markdown",
   "metadata": {},
   "source": [
    "### Validation"
   ]
  },
  {
   "cell_type": "code",
   "execution_count": 12,
   "metadata": {},
   "outputs": [
    {
     "name": "stdout",
     "output_type": "stream",
     "text": [
      "Ultralytics 8.3.75  Python-3.12.9 torch-2.6.0+cu124 CUDA:0 (NVIDIA RTX A500 Laptop GPU, 4096MiB)\n",
      "YOLO11n summary (fused): 238 layers, 2,582,542 parameters, 0 gradients, 6.3 GFLOPs\n"
     ]
    },
    {
     "name": "stderr",
     "output_type": "stream",
     "text": [
      "\u001b[34m\u001b[1mval: \u001b[0mScanning C:\\Users\\angko\\Desktop\\Shopping-Checkout-System\\datasets\\shoppingdataset\\labels\\test.cache... 327 images, 5 backgrounds, 0 corrupt: 100%|██████████| 332/332 [00:00<?, ?it/s]\n",
      "                 Class     Images  Instances      Box(P          R      mAP50  mAP50-95): 100%|██████████| 21/21 [00:05<00:00,  3.95it/s]\n"
     ]
    },
    {
     "name": "stdout",
     "output_type": "stream",
     "text": [
      "                   all        332        327       0.99      0.995      0.995      0.784\n",
      "          wrigley_I001        202        202      0.999       0.99      0.995      0.818\n",
      "     hichew_grape_I002        125        125      0.982          1      0.995      0.749\n",
      "Speed: 0.9ms preprocess, 11.0ms inference, 0.0ms loss, 0.9ms postprocess per image\n",
      "Results saved to \u001b[1mruns\\detect\\val3\u001b[0m\n"
     ]
    }
   ],
   "source": [
    "# Evaluate new model's performance on the test set\n",
    "validation_mode_shoppingdataset_yolov11_model: YOLO = YOLO(current_shoppingdataset_yolov11_training_best_model_best_pt_path)\n",
    "\n",
    "# Evaluate the model's performance on the test set\n",
    "results: dict = validation_mode_shoppingdataset_yolov11_model.val(data=shopping_dataset_config_file_path, split='test')"
   ]
  },
  {
   "cell_type": "markdown",
   "metadata": {},
   "source": [
    "Prediction"
   ]
  },
  {
   "cell_type": "code",
   "execution_count": 7,
   "metadata": {},
   "outputs": [],
   "source": [
    "shopping_dataset_test_folder_path: str = Path(\"datasets/shoppingdataset/images/test\").resolve()"
   ]
  },
  {
   "cell_type": "code",
   "execution_count": 14,
   "metadata": {},
   "outputs": [
    {
     "name": "stdout",
     "output_type": "stream",
     "text": [
      "\n",
      "image 1/332 C:\\Users\\angko\\Desktop\\Shopping-Checkout-System\\datasets\\shoppingdataset\\images\\test\\raw_0.jpg: 640x640 1 wrigley_I001, 126.5ms\n",
      "image 2/332 C:\\Users\\angko\\Desktop\\Shopping-Checkout-System\\datasets\\shoppingdataset\\images\\test\\raw_1000.jpg: 640x640 1 wrigley_I001, 18.1ms\n",
      "image 3/332 C:\\Users\\angko\\Desktop\\Shopping-Checkout-System\\datasets\\shoppingdataset\\images\\test\\raw_1006.jpg: 640x640 1 wrigley_I001, 16.9ms\n",
      "image 4/332 C:\\Users\\angko\\Desktop\\Shopping-Checkout-System\\datasets\\shoppingdataset\\images\\test\\raw_1018.jpg: 640x640 1 wrigley_I001, 15.9ms\n",
      "image 5/332 C:\\Users\\angko\\Desktop\\Shopping-Checkout-System\\datasets\\shoppingdataset\\images\\test\\raw_1022.jpg: 640x640 1 hichew_grape_I002, 21.8ms\n",
      "image 6/332 C:\\Users\\angko\\Desktop\\Shopping-Checkout-System\\datasets\\shoppingdataset\\images\\test\\raw_1024.jpg: 640x640 1 hichew_grape_I002, 16.9ms\n",
      "image 7/332 C:\\Users\\angko\\Desktop\\Shopping-Checkout-System\\datasets\\shoppingdataset\\images\\test\\raw_1025.jpg: 640x640 1 hichew_grape_I002, 17.0ms\n",
      "image 8/332 C:\\Users\\angko\\Desktop\\Shopping-Checkout-System\\datasets\\shoppingdataset\\images\\test\\raw_1033.jpg: 640x640 1 hichew_grape_I002, 17.2ms\n",
      "image 9/332 C:\\Users\\angko\\Desktop\\Shopping-Checkout-System\\datasets\\shoppingdataset\\images\\test\\raw_1034.jpg: 640x640 1 hichew_grape_I002, 17.4ms\n",
      "image 10/332 C:\\Users\\angko\\Desktop\\Shopping-Checkout-System\\datasets\\shoppingdataset\\images\\test\\raw_1036.jpg: 640x640 1 hichew_grape_I002, 17.7ms\n",
      "image 11/332 C:\\Users\\angko\\Desktop\\Shopping-Checkout-System\\datasets\\shoppingdataset\\images\\test\\raw_104.jpg: 640x640 1 wrigley_I001, 17.7ms\n",
      "image 12/332 C:\\Users\\angko\\Desktop\\Shopping-Checkout-System\\datasets\\shoppingdataset\\images\\test\\raw_1047.jpg: 640x640 1 hichew_grape_I002, 17.0ms\n",
      "image 13/332 C:\\Users\\angko\\Desktop\\Shopping-Checkout-System\\datasets\\shoppingdataset\\images\\test\\raw_1049.jpg: 640x640 1 hichew_grape_I002, 17.4ms\n",
      "image 14/332 C:\\Users\\angko\\Desktop\\Shopping-Checkout-System\\datasets\\shoppingdataset\\images\\test\\raw_1050.jpg: 640x640 1 hichew_grape_I002, 17.2ms\n",
      "image 15/332 C:\\Users\\angko\\Desktop\\Shopping-Checkout-System\\datasets\\shoppingdataset\\images\\test\\raw_1051.jpg: 640x640 1 hichew_grape_I002, 16.9ms\n",
      "image 16/332 C:\\Users\\angko\\Desktop\\Shopping-Checkout-System\\datasets\\shoppingdataset\\images\\test\\raw_1052.jpg: 640x640 1 hichew_grape_I002, 17.7ms\n",
      "image 17/332 C:\\Users\\angko\\Desktop\\Shopping-Checkout-System\\datasets\\shoppingdataset\\images\\test\\raw_1058.jpg: 640x640 1 hichew_grape_I002, 16.6ms\n",
      "image 18/332 C:\\Users\\angko\\Desktop\\Shopping-Checkout-System\\datasets\\shoppingdataset\\images\\test\\raw_106.jpg: 640x640 1 wrigley_I001, 17.1ms\n",
      "image 19/332 C:\\Users\\angko\\Desktop\\Shopping-Checkout-System\\datasets\\shoppingdataset\\images\\test\\raw_1067.jpg: 640x640 1 hichew_grape_I002, 16.6ms\n",
      "image 20/332 C:\\Users\\angko\\Desktop\\Shopping-Checkout-System\\datasets\\shoppingdataset\\images\\test\\raw_1070.jpg: 640x640 1 hichew_grape_I002, 16.8ms\n",
      "image 21/332 C:\\Users\\angko\\Desktop\\Shopping-Checkout-System\\datasets\\shoppingdataset\\images\\test\\raw_1075.jpg: 640x640 1 hichew_grape_I002, 17.4ms\n",
      "image 22/332 C:\\Users\\angko\\Desktop\\Shopping-Checkout-System\\datasets\\shoppingdataset\\images\\test\\raw_1076.jpg: 640x640 1 hichew_grape_I002, 17.0ms\n",
      "image 23/332 C:\\Users\\angko\\Desktop\\Shopping-Checkout-System\\datasets\\shoppingdataset\\images\\test\\raw_1097.jpg: 640x640 1 hichew_grape_I002, 18.7ms\n",
      "image 24/332 C:\\Users\\angko\\Desktop\\Shopping-Checkout-System\\datasets\\shoppingdataset\\images\\test\\raw_1102.jpg: 640x640 1 hichew_grape_I002, 16.4ms\n",
      "image 25/332 C:\\Users\\angko\\Desktop\\Shopping-Checkout-System\\datasets\\shoppingdataset\\images\\test\\raw_1117.jpg: 640x640 1 hichew_grape_I002, 23.4ms\n",
      "image 26/332 C:\\Users\\angko\\Desktop\\Shopping-Checkout-System\\datasets\\shoppingdataset\\images\\test\\raw_1123.jpg: 640x640 1 hichew_grape_I002, 17.9ms\n",
      "image 27/332 C:\\Users\\angko\\Desktop\\Shopping-Checkout-System\\datasets\\shoppingdataset\\images\\test\\raw_1124.jpg: 640x640 1 hichew_grape_I002, 21.9ms\n",
      "image 28/332 C:\\Users\\angko\\Desktop\\Shopping-Checkout-System\\datasets\\shoppingdataset\\images\\test\\raw_1129.jpg: 640x640 1 hichew_grape_I002, 22.2ms\n",
      "image 29/332 C:\\Users\\angko\\Desktop\\Shopping-Checkout-System\\datasets\\shoppingdataset\\images\\test\\raw_1132.jpg: 640x640 1 hichew_grape_I002, 20.2ms\n",
      "image 30/332 C:\\Users\\angko\\Desktop\\Shopping-Checkout-System\\datasets\\shoppingdataset\\images\\test\\raw_1146.jpg: 640x640 1 hichew_grape_I002, 17.2ms\n",
      "image 31/332 C:\\Users\\angko\\Desktop\\Shopping-Checkout-System\\datasets\\shoppingdataset\\images\\test\\raw_1162.jpg: 640x640 1 hichew_grape_I002, 18.2ms\n",
      "image 32/332 C:\\Users\\angko\\Desktop\\Shopping-Checkout-System\\datasets\\shoppingdataset\\images\\test\\raw_1176.jpg: 640x640 1 hichew_grape_I002, 17.8ms\n",
      "image 33/332 C:\\Users\\angko\\Desktop\\Shopping-Checkout-System\\datasets\\shoppingdataset\\images\\test\\raw_118.jpg: 640x640 1 wrigley_I001, 18.0ms\n",
      "image 34/332 C:\\Users\\angko\\Desktop\\Shopping-Checkout-System\\datasets\\shoppingdataset\\images\\test\\raw_1180.jpg: 640x640 1 hichew_grape_I002, 18.0ms\n",
      "image 35/332 C:\\Users\\angko\\Desktop\\Shopping-Checkout-System\\datasets\\shoppingdataset\\images\\test\\raw_1183.jpg: 640x640 1 hichew_grape_I002, 16.6ms\n",
      "image 36/332 C:\\Users\\angko\\Desktop\\Shopping-Checkout-System\\datasets\\shoppingdataset\\images\\test\\raw_1187.jpg: 640x640 1 hichew_grape_I002, 20.6ms\n",
      "image 37/332 C:\\Users\\angko\\Desktop\\Shopping-Checkout-System\\datasets\\shoppingdataset\\images\\test\\raw_1188.jpg: 640x640 1 hichew_grape_I002, 21.1ms\n",
      "image 38/332 C:\\Users\\angko\\Desktop\\Shopping-Checkout-System\\datasets\\shoppingdataset\\images\\test\\raw_1199.jpg: 640x640 1 hichew_grape_I002, 18.5ms\n",
      "image 39/332 C:\\Users\\angko\\Desktop\\Shopping-Checkout-System\\datasets\\shoppingdataset\\images\\test\\raw_121.jpg: 640x640 1 wrigley_I001, 19.7ms\n",
      "image 40/332 C:\\Users\\angko\\Desktop\\Shopping-Checkout-System\\datasets\\shoppingdataset\\images\\test\\raw_1212.jpg: 640x640 1 hichew_grape_I002, 22.6ms\n",
      "image 41/332 C:\\Users\\angko\\Desktop\\Shopping-Checkout-System\\datasets\\shoppingdataset\\images\\test\\raw_1213.jpg: 640x640 1 hichew_grape_I002, 18.6ms\n",
      "image 42/332 C:\\Users\\angko\\Desktop\\Shopping-Checkout-System\\datasets\\shoppingdataset\\images\\test\\raw_1217.jpg: 640x640 1 hichew_grape_I002, 18.3ms\n",
      "image 43/332 C:\\Users\\angko\\Desktop\\Shopping-Checkout-System\\datasets\\shoppingdataset\\images\\test\\raw_1220.jpg: 640x640 1 hichew_grape_I002, 23.7ms\n",
      "image 44/332 C:\\Users\\angko\\Desktop\\Shopping-Checkout-System\\datasets\\shoppingdataset\\images\\test\\raw_1221.jpg: 640x640 1 hichew_grape_I002, 21.3ms\n",
      "image 45/332 C:\\Users\\angko\\Desktop\\Shopping-Checkout-System\\datasets\\shoppingdataset\\images\\test\\raw_1224.jpg: 640x640 1 hichew_grape_I002, 19.1ms\n",
      "image 46/332 C:\\Users\\angko\\Desktop\\Shopping-Checkout-System\\datasets\\shoppingdataset\\images\\test\\raw_1226.jpg: 640x640 1 hichew_grape_I002, 18.3ms\n",
      "image 47/332 C:\\Users\\angko\\Desktop\\Shopping-Checkout-System\\datasets\\shoppingdataset\\images\\test\\raw_1230.jpg: 640x640 1 hichew_grape_I002, 17.0ms\n",
      "image 48/332 C:\\Users\\angko\\Desktop\\Shopping-Checkout-System\\datasets\\shoppingdataset\\images\\test\\raw_1245.jpg: 640x640 1 hichew_grape_I002, 24.1ms\n",
      "image 49/332 C:\\Users\\angko\\Desktop\\Shopping-Checkout-System\\datasets\\shoppingdataset\\images\\test\\raw_1247.jpg: 640x640 1 hichew_grape_I002, 18.4ms\n",
      "image 50/332 C:\\Users\\angko\\Desktop\\Shopping-Checkout-System\\datasets\\shoppingdataset\\images\\test\\raw_1248.jpg: 640x640 1 hichew_grape_I002, 19.5ms\n",
      "image 51/332 C:\\Users\\angko\\Desktop\\Shopping-Checkout-System\\datasets\\shoppingdataset\\images\\test\\raw_1255.jpg: 640x640 1 hichew_grape_I002, 21.2ms\n",
      "image 52/332 C:\\Users\\angko\\Desktop\\Shopping-Checkout-System\\datasets\\shoppingdataset\\images\\test\\raw_1256.jpg: 640x640 1 hichew_grape_I002, 16.3ms\n",
      "image 53/332 C:\\Users\\angko\\Desktop\\Shopping-Checkout-System\\datasets\\shoppingdataset\\images\\test\\raw_126.jpg: 640x640 1 wrigley_I001, 16.9ms\n",
      "image 54/332 C:\\Users\\angko\\Desktop\\Shopping-Checkout-System\\datasets\\shoppingdataset\\images\\test\\raw_1262.jpg: 640x640 1 hichew_grape_I002, 47.7ms\n",
      "image 55/332 C:\\Users\\angko\\Desktop\\Shopping-Checkout-System\\datasets\\shoppingdataset\\images\\test\\raw_1263.jpg: 640x640 1 hichew_grape_I002, 17.8ms\n",
      "image 56/332 C:\\Users\\angko\\Desktop\\Shopping-Checkout-System\\datasets\\shoppingdataset\\images\\test\\raw_1269.jpg: 640x640 1 hichew_grape_I002, 16.2ms\n",
      "image 57/332 C:\\Users\\angko\\Desktop\\Shopping-Checkout-System\\datasets\\shoppingdataset\\images\\test\\raw_1276.jpg: 640x640 1 hichew_grape_I002, 17.1ms\n",
      "image 58/332 C:\\Users\\angko\\Desktop\\Shopping-Checkout-System\\datasets\\shoppingdataset\\images\\test\\raw_1278.jpg: 640x640 1 hichew_grape_I002, 20.2ms\n",
      "image 59/332 C:\\Users\\angko\\Desktop\\Shopping-Checkout-System\\datasets\\shoppingdataset\\images\\test\\raw_128.jpg: 640x640 1 wrigley_I001, 19.8ms\n",
      "image 60/332 C:\\Users\\angko\\Desktop\\Shopping-Checkout-System\\datasets\\shoppingdataset\\images\\test\\raw_1284.jpg: 640x640 1 hichew_grape_I002, 22.8ms\n",
      "image 61/332 C:\\Users\\angko\\Desktop\\Shopping-Checkout-System\\datasets\\shoppingdataset\\images\\test\\raw_1290.jpg: 640x640 1 hichew_grape_I002, 21.0ms\n",
      "image 62/332 C:\\Users\\angko\\Desktop\\Shopping-Checkout-System\\datasets\\shoppingdataset\\images\\test\\raw_1294.jpg: 640x640 1 hichew_grape_I002, 17.5ms\n",
      "image 63/332 C:\\Users\\angko\\Desktop\\Shopping-Checkout-System\\datasets\\shoppingdataset\\images\\test\\raw_1296.jpg: 640x640 1 hichew_grape_I002, 20.0ms\n",
      "image 64/332 C:\\Users\\angko\\Desktop\\Shopping-Checkout-System\\datasets\\shoppingdataset\\images\\test\\raw_1297.jpg: 640x640 1 hichew_grape_I002, 22.0ms\n",
      "image 65/332 C:\\Users\\angko\\Desktop\\Shopping-Checkout-System\\datasets\\shoppingdataset\\images\\test\\raw_1302.jpg: 640x640 1 hichew_grape_I002, 24.4ms\n",
      "image 66/332 C:\\Users\\angko\\Desktop\\Shopping-Checkout-System\\datasets\\shoppingdataset\\images\\test\\raw_1314.jpg: 640x640 1 hichew_grape_I002, 25.2ms\n",
      "image 67/332 C:\\Users\\angko\\Desktop\\Shopping-Checkout-System\\datasets\\shoppingdataset\\images\\test\\raw_1317.jpg: 640x640 1 hichew_grape_I002, 25.5ms\n",
      "image 68/332 C:\\Users\\angko\\Desktop\\Shopping-Checkout-System\\datasets\\shoppingdataset\\images\\test\\raw_1321.jpg: 640x640 1 hichew_grape_I002, 29.4ms\n",
      "image 69/332 C:\\Users\\angko\\Desktop\\Shopping-Checkout-System\\datasets\\shoppingdataset\\images\\test\\raw_1322.jpg: 640x640 1 hichew_grape_I002, 20.4ms\n",
      "image 70/332 C:\\Users\\angko\\Desktop\\Shopping-Checkout-System\\datasets\\shoppingdataset\\images\\test\\raw_1329.jpg: 640x640 1 hichew_grape_I002, 22.0ms\n",
      "image 71/332 C:\\Users\\angko\\Desktop\\Shopping-Checkout-System\\datasets\\shoppingdataset\\images\\test\\raw_133.jpg: 640x640 1 wrigley_I001, 23.8ms\n",
      "image 72/332 C:\\Users\\angko\\Desktop\\Shopping-Checkout-System\\datasets\\shoppingdataset\\images\\test\\raw_1332.jpg: 640x640 1 hichew_grape_I002, 29.7ms\n",
      "image 73/332 C:\\Users\\angko\\Desktop\\Shopping-Checkout-System\\datasets\\shoppingdataset\\images\\test\\raw_1333.jpg: 640x640 1 hichew_grape_I002, 21.2ms\n",
      "image 74/332 C:\\Users\\angko\\Desktop\\Shopping-Checkout-System\\datasets\\shoppingdataset\\images\\test\\raw_1338.jpg: 640x640 1 hichew_grape_I002, 20.3ms\n",
      "image 75/332 C:\\Users\\angko\\Desktop\\Shopping-Checkout-System\\datasets\\shoppingdataset\\images\\test\\raw_1342.jpg: 640x640 1 hichew_grape_I002, 19.8ms\n",
      "image 76/332 C:\\Users\\angko\\Desktop\\Shopping-Checkout-System\\datasets\\shoppingdataset\\images\\test\\raw_1347.jpg: 640x640 1 hichew_grape_I002, 19.8ms\n",
      "image 77/332 C:\\Users\\angko\\Desktop\\Shopping-Checkout-System\\datasets\\shoppingdataset\\images\\test\\raw_135.jpg: 640x640 1 wrigley_I001, 22.5ms\n",
      "image 78/332 C:\\Users\\angko\\Desktop\\Shopping-Checkout-System\\datasets\\shoppingdataset\\images\\test\\raw_1362.jpg: 640x640 1 hichew_grape_I002, 20.3ms\n",
      "image 79/332 C:\\Users\\angko\\Desktop\\Shopping-Checkout-System\\datasets\\shoppingdataset\\images\\test\\raw_1363.jpg: 640x640 1 hichew_grape_I002, 20.2ms\n",
      "image 80/332 C:\\Users\\angko\\Desktop\\Shopping-Checkout-System\\datasets\\shoppingdataset\\images\\test\\raw_1369.jpg: 640x640 1 hichew_grape_I002, 21.6ms\n",
      "image 81/332 C:\\Users\\angko\\Desktop\\Shopping-Checkout-System\\datasets\\shoppingdataset\\images\\test\\raw_1374.jpg: 640x640 1 hichew_grape_I002, 18.5ms\n",
      "image 82/332 C:\\Users\\angko\\Desktop\\Shopping-Checkout-System\\datasets\\shoppingdataset\\images\\test\\raw_1377.jpg: 640x640 1 hichew_grape_I002, 22.5ms\n",
      "image 83/332 C:\\Users\\angko\\Desktop\\Shopping-Checkout-System\\datasets\\shoppingdataset\\images\\test\\raw_1383.jpg: 640x640 1 hichew_grape_I002, 18.2ms\n",
      "image 84/332 C:\\Users\\angko\\Desktop\\Shopping-Checkout-System\\datasets\\shoppingdataset\\images\\test\\raw_1386.jpg: 640x640 1 hichew_grape_I002, 19.5ms\n",
      "image 85/332 C:\\Users\\angko\\Desktop\\Shopping-Checkout-System\\datasets\\shoppingdataset\\images\\test\\raw_1393.jpg: 640x640 1 hichew_grape_I002, 20.5ms\n",
      "image 86/332 C:\\Users\\angko\\Desktop\\Shopping-Checkout-System\\datasets\\shoppingdataset\\images\\test\\raw_1395.jpg: 640x640 1 hichew_grape_I002, 17.3ms\n",
      "image 87/332 C:\\Users\\angko\\Desktop\\Shopping-Checkout-System\\datasets\\shoppingdataset\\images\\test\\raw_1400.jpg: 640x640 1 hichew_grape_I002, 22.2ms\n",
      "image 88/332 C:\\Users\\angko\\Desktop\\Shopping-Checkout-System\\datasets\\shoppingdataset\\images\\test\\raw_1419.jpg: 640x640 2 hichew_grape_I002s, 24.6ms\n",
      "image 89/332 C:\\Users\\angko\\Desktop\\Shopping-Checkout-System\\datasets\\shoppingdataset\\images\\test\\raw_142.jpg: 640x640 1 wrigley_I001, 26.7ms\n",
      "image 90/332 C:\\Users\\angko\\Desktop\\Shopping-Checkout-System\\datasets\\shoppingdataset\\images\\test\\raw_1420.jpg: 640x640 1 hichew_grape_I002, 19.5ms\n",
      "image 91/332 C:\\Users\\angko\\Desktop\\Shopping-Checkout-System\\datasets\\shoppingdataset\\images\\test\\raw_1423.jpg: 640x640 2 hichew_grape_I002s, 26.4ms\n",
      "image 92/332 C:\\Users\\angko\\Desktop\\Shopping-Checkout-System\\datasets\\shoppingdataset\\images\\test\\raw_1438.jpg: 640x640 1 hichew_grape_I002, 24.3ms\n",
      "image 93/332 C:\\Users\\angko\\Desktop\\Shopping-Checkout-System\\datasets\\shoppingdataset\\images\\test\\raw_1442.jpg: 640x640 1 hichew_grape_I002, 20.0ms\n",
      "image 94/332 C:\\Users\\angko\\Desktop\\Shopping-Checkout-System\\datasets\\shoppingdataset\\images\\test\\raw_1444.jpg: 640x640 1 hichew_grape_I002, 22.6ms\n",
      "image 95/332 C:\\Users\\angko\\Desktop\\Shopping-Checkout-System\\datasets\\shoppingdataset\\images\\test\\raw_1450.jpg: 640x640 1 hichew_grape_I002, 20.4ms\n",
      "image 96/332 C:\\Users\\angko\\Desktop\\Shopping-Checkout-System\\datasets\\shoppingdataset\\images\\test\\raw_1451.jpg: 640x640 1 hichew_grape_I002, 20.0ms\n",
      "image 97/332 C:\\Users\\angko\\Desktop\\Shopping-Checkout-System\\datasets\\shoppingdataset\\images\\test\\raw_1452.jpg: 640x640 1 hichew_grape_I002, 20.5ms\n",
      "image 98/332 C:\\Users\\angko\\Desktop\\Shopping-Checkout-System\\datasets\\shoppingdataset\\images\\test\\raw_1454.jpg: 640x640 1 hichew_grape_I002, 29.3ms\n",
      "image 99/332 C:\\Users\\angko\\Desktop\\Shopping-Checkout-System\\datasets\\shoppingdataset\\images\\test\\raw_1455.jpg: 640x640 1 hichew_grape_I002, 37.1ms\n",
      "image 100/332 C:\\Users\\angko\\Desktop\\Shopping-Checkout-System\\datasets\\shoppingdataset\\images\\test\\raw_1462.jpg: 640x640 1 hichew_grape_I002, 29.3ms\n",
      "image 101/332 C:\\Users\\angko\\Desktop\\Shopping-Checkout-System\\datasets\\shoppingdataset\\images\\test\\raw_1465.jpg: 640x640 1 hichew_grape_I002, 21.0ms\n",
      "image 102/332 C:\\Users\\angko\\Desktop\\Shopping-Checkout-System\\datasets\\shoppingdataset\\images\\test\\raw_1474.jpg: 640x640 1 hichew_grape_I002, 24.8ms\n",
      "image 103/332 C:\\Users\\angko\\Desktop\\Shopping-Checkout-System\\datasets\\shoppingdataset\\images\\test\\raw_1475.jpg: 640x640 1 hichew_grape_I002, 22.3ms\n",
      "image 104/332 C:\\Users\\angko\\Desktop\\Shopping-Checkout-System\\datasets\\shoppingdataset\\images\\test\\raw_1477.jpg: 640x640 1 hichew_grape_I002, 20.5ms\n",
      "image 105/332 C:\\Users\\angko\\Desktop\\Shopping-Checkout-System\\datasets\\shoppingdataset\\images\\test\\raw_1484.jpg: 640x640 1 hichew_grape_I002, 19.7ms\n",
      "image 106/332 C:\\Users\\angko\\Desktop\\Shopping-Checkout-System\\datasets\\shoppingdataset\\images\\test\\raw_1490.jpg: 640x640 1 hichew_grape_I002, 19.6ms\n",
      "image 107/332 C:\\Users\\angko\\Desktop\\Shopping-Checkout-System\\datasets\\shoppingdataset\\images\\test\\raw_1504.jpg: 640x640 1 hichew_grape_I002, 20.0ms\n",
      "image 108/332 C:\\Users\\angko\\Desktop\\Shopping-Checkout-System\\datasets\\shoppingdataset\\images\\test\\raw_1508.jpg: 640x640 1 hichew_grape_I002, 22.1ms\n",
      "image 109/332 C:\\Users\\angko\\Desktop\\Shopping-Checkout-System\\datasets\\shoppingdataset\\images\\test\\raw_1510.jpg: 640x640 1 hichew_grape_I002, 21.0ms\n",
      "image 110/332 C:\\Users\\angko\\Desktop\\Shopping-Checkout-System\\datasets\\shoppingdataset\\images\\test\\raw_1511.jpg: 640x640 1 hichew_grape_I002, 20.7ms\n",
      "image 111/332 C:\\Users\\angko\\Desktop\\Shopping-Checkout-System\\datasets\\shoppingdataset\\images\\test\\raw_1521.jpg: 640x640 1 hichew_grape_I002, 35.3ms\n",
      "image 112/332 C:\\Users\\angko\\Desktop\\Shopping-Checkout-System\\datasets\\shoppingdataset\\images\\test\\raw_1528.jpg: 640x640 1 hichew_grape_I002, 24.1ms\n",
      "image 113/332 C:\\Users\\angko\\Desktop\\Shopping-Checkout-System\\datasets\\shoppingdataset\\images\\test\\raw_1529.jpg: 640x640 1 hichew_grape_I002, 22.7ms\n",
      "image 114/332 C:\\Users\\angko\\Desktop\\Shopping-Checkout-System\\datasets\\shoppingdataset\\images\\test\\raw_1531.jpg: 640x640 1 hichew_grape_I002, 23.0ms\n",
      "image 115/332 C:\\Users\\angko\\Desktop\\Shopping-Checkout-System\\datasets\\shoppingdataset\\images\\test\\raw_1538.jpg: 640x640 1 hichew_grape_I002, 21.4ms\n",
      "image 116/332 C:\\Users\\angko\\Desktop\\Shopping-Checkout-System\\datasets\\shoppingdataset\\images\\test\\raw_1539.jpg: 640x640 1 hichew_grape_I002, 23.8ms\n",
      "image 117/332 C:\\Users\\angko\\Desktop\\Shopping-Checkout-System\\datasets\\shoppingdataset\\images\\test\\raw_1542.jpg: 640x640 1 hichew_grape_I002, 20.8ms\n",
      "image 118/332 C:\\Users\\angko\\Desktop\\Shopping-Checkout-System\\datasets\\shoppingdataset\\images\\test\\raw_1543.jpg: 640x640 1 hichew_grape_I002, 25.6ms\n",
      "image 119/332 C:\\Users\\angko\\Desktop\\Shopping-Checkout-System\\datasets\\shoppingdataset\\images\\test\\raw_1549.jpg: 640x640 1 hichew_grape_I002, 19.9ms\n",
      "image 120/332 C:\\Users\\angko\\Desktop\\Shopping-Checkout-System\\datasets\\shoppingdataset\\images\\test\\raw_1556.jpg: 640x640 1 hichew_grape_I002, 21.1ms\n",
      "image 121/332 C:\\Users\\angko\\Desktop\\Shopping-Checkout-System\\datasets\\shoppingdataset\\images\\test\\raw_1561.jpg: 640x640 1 hichew_grape_I002, 19.5ms\n",
      "image 122/332 C:\\Users\\angko\\Desktop\\Shopping-Checkout-System\\datasets\\shoppingdataset\\images\\test\\raw_1563.jpg: 640x640 1 hichew_grape_I002, 19.9ms\n",
      "image 123/332 C:\\Users\\angko\\Desktop\\Shopping-Checkout-System\\datasets\\shoppingdataset\\images\\test\\raw_1565.jpg: 640x640 1 hichew_grape_I002, 20.6ms\n",
      "image 124/332 C:\\Users\\angko\\Desktop\\Shopping-Checkout-System\\datasets\\shoppingdataset\\images\\test\\raw_1571.jpg: 640x640 1 hichew_grape_I002, 20.7ms\n",
      "image 125/332 C:\\Users\\angko\\Desktop\\Shopping-Checkout-System\\datasets\\shoppingdataset\\images\\test\\raw_1597.jpg: 640x640 1 hichew_grape_I002, 20.8ms\n",
      "image 126/332 C:\\Users\\angko\\Desktop\\Shopping-Checkout-System\\datasets\\shoppingdataset\\images\\test\\raw_1598.jpg: 640x640 1 hichew_grape_I002, 22.8ms\n",
      "image 127/332 C:\\Users\\angko\\Desktop\\Shopping-Checkout-System\\datasets\\shoppingdataset\\images\\test\\raw_1599.jpg: 640x640 1 hichew_grape_I002, 19.9ms\n",
      "image 128/332 C:\\Users\\angko\\Desktop\\Shopping-Checkout-System\\datasets\\shoppingdataset\\images\\test\\raw_1600.jpg: 640x640 1 hichew_grape_I002, 26.5ms\n",
      "image 129/332 C:\\Users\\angko\\Desktop\\Shopping-Checkout-System\\datasets\\shoppingdataset\\images\\test\\raw_1603.jpg: 640x640 1 hichew_grape_I002, 26.2ms\n",
      "image 130/332 C:\\Users\\angko\\Desktop\\Shopping-Checkout-System\\datasets\\shoppingdataset\\images\\test\\raw_1605.jpg: 640x640 1 hichew_grape_I002, 23.0ms\n",
      "image 131/332 C:\\Users\\angko\\Desktop\\Shopping-Checkout-System\\datasets\\shoppingdataset\\images\\test\\raw_1608.jpg: 640x640 1 hichew_grape_I002, 25.0ms\n",
      "image 132/332 C:\\Users\\angko\\Desktop\\Shopping-Checkout-System\\datasets\\shoppingdataset\\images\\test\\raw_161.jpg: 640x640 1 wrigley_I001, 24.2ms\n",
      "image 133/332 C:\\Users\\angko\\Desktop\\Shopping-Checkout-System\\datasets\\shoppingdataset\\images\\test\\raw_1617.jpg: 640x640 1 hichew_grape_I002, 19.9ms\n",
      "image 134/332 C:\\Users\\angko\\Desktop\\Shopping-Checkout-System\\datasets\\shoppingdataset\\images\\test\\raw_1621.jpg: 640x640 1 hichew_grape_I002, 21.8ms\n",
      "image 135/332 C:\\Users\\angko\\Desktop\\Shopping-Checkout-System\\datasets\\shoppingdataset\\images\\test\\raw_1623.jpg: 640x640 1 hichew_grape_I002, 21.2ms\n",
      "image 136/332 C:\\Users\\angko\\Desktop\\Shopping-Checkout-System\\datasets\\shoppingdataset\\images\\test\\raw_1627.jpg: 640x640 1 hichew_grape_I002, 21.9ms\n",
      "image 137/332 C:\\Users\\angko\\Desktop\\Shopping-Checkout-System\\datasets\\shoppingdataset\\images\\test\\raw_163.jpg: 640x640 1 wrigley_I001, 23.4ms\n",
      "image 138/332 C:\\Users\\angko\\Desktop\\Shopping-Checkout-System\\datasets\\shoppingdataset\\images\\test\\raw_1636.jpg: 640x640 1 hichew_grape_I002, 22.8ms\n",
      "image 139/332 C:\\Users\\angko\\Desktop\\Shopping-Checkout-System\\datasets\\shoppingdataset\\images\\test\\raw_164.jpg: 640x640 1 wrigley_I001, 20.8ms\n",
      "image 140/332 C:\\Users\\angko\\Desktop\\Shopping-Checkout-System\\datasets\\shoppingdataset\\images\\test\\raw_1643.jpg: 640x640 1 hichew_grape_I002, 21.3ms\n",
      "image 141/332 C:\\Users\\angko\\Desktop\\Shopping-Checkout-System\\datasets\\shoppingdataset\\images\\test\\raw_1645.jpg: 640x640 1 hichew_grape_I002, 18.6ms\n",
      "image 142/332 C:\\Users\\angko\\Desktop\\Shopping-Checkout-System\\datasets\\shoppingdataset\\images\\test\\raw_1652.jpg: 640x640 (no detections), 21.7ms\n",
      "image 143/332 C:\\Users\\angko\\Desktop\\Shopping-Checkout-System\\datasets\\shoppingdataset\\images\\test\\raw_173.jpg: 640x640 1 wrigley_I001, 23.1ms\n",
      "image 144/332 C:\\Users\\angko\\Desktop\\Shopping-Checkout-System\\datasets\\shoppingdataset\\images\\test\\raw_177.jpg: 640x640 1 wrigley_I001, 28.3ms\n",
      "image 145/332 C:\\Users\\angko\\Desktop\\Shopping-Checkout-System\\datasets\\shoppingdataset\\images\\test\\raw_178.jpg: 640x640 1 wrigley_I001, 23.5ms\n",
      "image 146/332 C:\\Users\\angko\\Desktop\\Shopping-Checkout-System\\datasets\\shoppingdataset\\images\\test\\raw_179.jpg: 640x640 1 wrigley_I001, 33.6ms\n",
      "image 147/332 C:\\Users\\angko\\Desktop\\Shopping-Checkout-System\\datasets\\shoppingdataset\\images\\test\\raw_180.jpg: 640x640 1 wrigley_I001, 21.8ms\n",
      "image 148/332 C:\\Users\\angko\\Desktop\\Shopping-Checkout-System\\datasets\\shoppingdataset\\images\\test\\raw_181.jpg: 640x640 1 wrigley_I001, 20.9ms\n",
      "image 149/332 C:\\Users\\angko\\Desktop\\Shopping-Checkout-System\\datasets\\shoppingdataset\\images\\test\\raw_182.jpg: 640x640 1 wrigley_I001, 32.0ms\n",
      "image 150/332 C:\\Users\\angko\\Desktop\\Shopping-Checkout-System\\datasets\\shoppingdataset\\images\\test\\raw_186.jpg: 640x640 1 wrigley_I001, 21.6ms\n",
      "image 151/332 C:\\Users\\angko\\Desktop\\Shopping-Checkout-System\\datasets\\shoppingdataset\\images\\test\\raw_187.jpg: 640x640 1 wrigley_I001, 30.6ms\n",
      "image 152/332 C:\\Users\\angko\\Desktop\\Shopping-Checkout-System\\datasets\\shoppingdataset\\images\\test\\raw_188.jpg: 640x640 1 wrigley_I001, 24.0ms\n",
      "image 153/332 C:\\Users\\angko\\Desktop\\Shopping-Checkout-System\\datasets\\shoppingdataset\\images\\test\\raw_199.jpg: 640x640 1 wrigley_I001, 23.0ms\n",
      "image 154/332 C:\\Users\\angko\\Desktop\\Shopping-Checkout-System\\datasets\\shoppingdataset\\images\\test\\raw_200.jpg: 640x640 1 wrigley_I001, 24.7ms\n",
      "image 155/332 C:\\Users\\angko\\Desktop\\Shopping-Checkout-System\\datasets\\shoppingdataset\\images\\test\\raw_208.jpg: 640x640 1 wrigley_I001, 23.5ms\n",
      "image 156/332 C:\\Users\\angko\\Desktop\\Shopping-Checkout-System\\datasets\\shoppingdataset\\images\\test\\raw_21.jpg: 640x640 1 wrigley_I001, 20.7ms\n",
      "image 157/332 C:\\Users\\angko\\Desktop\\Shopping-Checkout-System\\datasets\\shoppingdataset\\images\\test\\raw_214.jpg: 640x640 1 wrigley_I001, 23.6ms\n",
      "image 158/332 C:\\Users\\angko\\Desktop\\Shopping-Checkout-System\\datasets\\shoppingdataset\\images\\test\\raw_216.jpg: 640x640 1 wrigley_I001, 25.5ms\n",
      "image 159/332 C:\\Users\\angko\\Desktop\\Shopping-Checkout-System\\datasets\\shoppingdataset\\images\\test\\raw_22.jpg: 640x640 1 wrigley_I001, 25.8ms\n",
      "image 160/332 C:\\Users\\angko\\Desktop\\Shopping-Checkout-System\\datasets\\shoppingdataset\\images\\test\\raw_220.jpg: 640x640 1 wrigley_I001, 23.4ms\n",
      "image 161/332 C:\\Users\\angko\\Desktop\\Shopping-Checkout-System\\datasets\\shoppingdataset\\images\\test\\raw_233.jpg: 640x640 1 wrigley_I001, 21.7ms\n",
      "image 162/332 C:\\Users\\angko\\Desktop\\Shopping-Checkout-System\\datasets\\shoppingdataset\\images\\test\\raw_251.jpg: 640x640 1 wrigley_I001, 21.7ms\n",
      "image 163/332 C:\\Users\\angko\\Desktop\\Shopping-Checkout-System\\datasets\\shoppingdataset\\images\\test\\raw_255.jpg: 640x640 1 wrigley_I001, 24.2ms\n",
      "image 164/332 C:\\Users\\angko\\Desktop\\Shopping-Checkout-System\\datasets\\shoppingdataset\\images\\test\\raw_258.jpg: 640x640 1 wrigley_I001, 24.7ms\n",
      "image 165/332 C:\\Users\\angko\\Desktop\\Shopping-Checkout-System\\datasets\\shoppingdataset\\images\\test\\raw_264.jpg: 640x640 1 wrigley_I001, 24.4ms\n",
      "image 166/332 C:\\Users\\angko\\Desktop\\Shopping-Checkout-System\\datasets\\shoppingdataset\\images\\test\\raw_265.jpg: 640x640 1 wrigley_I001, 33.8ms\n",
      "image 167/332 C:\\Users\\angko\\Desktop\\Shopping-Checkout-System\\datasets\\shoppingdataset\\images\\test\\raw_269.jpg: 640x640 1 wrigley_I001, 34.7ms\n",
      "image 168/332 C:\\Users\\angko\\Desktop\\Shopping-Checkout-System\\datasets\\shoppingdataset\\images\\test\\raw_27.jpg: 640x640 1 wrigley_I001, 30.5ms\n",
      "image 169/332 C:\\Users\\angko\\Desktop\\Shopping-Checkout-System\\datasets\\shoppingdataset\\images\\test\\raw_270.jpg: 640x640 1 wrigley_I001, 35.3ms\n",
      "image 170/332 C:\\Users\\angko\\Desktop\\Shopping-Checkout-System\\datasets\\shoppingdataset\\images\\test\\raw_271.jpg: 640x640 1 wrigley_I001, 31.4ms\n",
      "image 171/332 C:\\Users\\angko\\Desktop\\Shopping-Checkout-System\\datasets\\shoppingdataset\\images\\test\\raw_275.jpg: 640x640 1 wrigley_I001, 35.6ms\n",
      "image 172/332 C:\\Users\\angko\\Desktop\\Shopping-Checkout-System\\datasets\\shoppingdataset\\images\\test\\raw_276.jpg: 640x640 1 wrigley_I001, 32.1ms\n",
      "image 173/332 C:\\Users\\angko\\Desktop\\Shopping-Checkout-System\\datasets\\shoppingdataset\\images\\test\\raw_278.jpg: 640x640 1 wrigley_I001, 31.0ms\n",
      "image 174/332 C:\\Users\\angko\\Desktop\\Shopping-Checkout-System\\datasets\\shoppingdataset\\images\\test\\raw_280.jpg: 640x640 1 wrigley_I001, 37.8ms\n",
      "image 175/332 C:\\Users\\angko\\Desktop\\Shopping-Checkout-System\\datasets\\shoppingdataset\\images\\test\\raw_281.jpg: 640x640 1 wrigley_I001, 51.2ms\n",
      "image 176/332 C:\\Users\\angko\\Desktop\\Shopping-Checkout-System\\datasets\\shoppingdataset\\images\\test\\raw_285.jpg: 640x640 1 wrigley_I001, 51.2ms\n",
      "image 177/332 C:\\Users\\angko\\Desktop\\Shopping-Checkout-System\\datasets\\shoppingdataset\\images\\test\\raw_287.jpg: 640x640 1 wrigley_I001, 98.1ms\n",
      "image 178/332 C:\\Users\\angko\\Desktop\\Shopping-Checkout-System\\datasets\\shoppingdataset\\images\\test\\raw_292.jpg: 640x640 1 wrigley_I001, 84.7ms\n",
      "image 179/332 C:\\Users\\angko\\Desktop\\Shopping-Checkout-System\\datasets\\shoppingdataset\\images\\test\\raw_295.jpg: 640x640 (no detections), 71.9ms\n",
      "image 180/332 C:\\Users\\angko\\Desktop\\Shopping-Checkout-System\\datasets\\shoppingdataset\\images\\test\\raw_296.jpg: 640x640 1 wrigley_I001, 127.0ms\n",
      "image 181/332 C:\\Users\\angko\\Desktop\\Shopping-Checkout-System\\datasets\\shoppingdataset\\images\\test\\raw_297.jpg: 640x640 (no detections), 110.7ms\n",
      "image 182/332 C:\\Users\\angko\\Desktop\\Shopping-Checkout-System\\datasets\\shoppingdataset\\images\\test\\raw_3.jpg: 640x640 1 wrigley_I001, 89.0ms\n",
      "image 183/332 C:\\Users\\angko\\Desktop\\Shopping-Checkout-System\\datasets\\shoppingdataset\\images\\test\\raw_310.jpg: 640x640 1 wrigley_I001, 105.0ms\n",
      "image 184/332 C:\\Users\\angko\\Desktop\\Shopping-Checkout-System\\datasets\\shoppingdataset\\images\\test\\raw_316.jpg: 640x640 1 wrigley_I001, 78.2ms\n",
      "image 185/332 C:\\Users\\angko\\Desktop\\Shopping-Checkout-System\\datasets\\shoppingdataset\\images\\test\\raw_318.jpg: 640x640 1 wrigley_I001, 52.8ms\n",
      "image 186/332 C:\\Users\\angko\\Desktop\\Shopping-Checkout-System\\datasets\\shoppingdataset\\images\\test\\raw_326.jpg: 640x640 1 wrigley_I001, 51.2ms\n",
      "image 187/332 C:\\Users\\angko\\Desktop\\Shopping-Checkout-System\\datasets\\shoppingdataset\\images\\test\\raw_341.jpg: 640x640 1 wrigley_I001, 53.4ms\n",
      "image 188/332 C:\\Users\\angko\\Desktop\\Shopping-Checkout-System\\datasets\\shoppingdataset\\images\\test\\raw_343.jpg: 640x640 1 wrigley_I001, 50.6ms\n",
      "image 189/332 C:\\Users\\angko\\Desktop\\Shopping-Checkout-System\\datasets\\shoppingdataset\\images\\test\\raw_352.jpg: 640x640 1 wrigley_I001, 50.9ms\n",
      "image 190/332 C:\\Users\\angko\\Desktop\\Shopping-Checkout-System\\datasets\\shoppingdataset\\images\\test\\raw_355.jpg: 640x640 1 wrigley_I001, 75.1ms\n",
      "image 191/332 C:\\Users\\angko\\Desktop\\Shopping-Checkout-System\\datasets\\shoppingdataset\\images\\test\\raw_37.jpg: 640x640 1 wrigley_I001, 49.8ms\n",
      "image 192/332 C:\\Users\\angko\\Desktop\\Shopping-Checkout-System\\datasets\\shoppingdataset\\images\\test\\raw_372.jpg: 640x640 1 wrigley_I001, 52.6ms\n",
      "image 193/332 C:\\Users\\angko\\Desktop\\Shopping-Checkout-System\\datasets\\shoppingdataset\\images\\test\\raw_38.jpg: 640x640 1 wrigley_I001, 48.9ms\n",
      "image 194/332 C:\\Users\\angko\\Desktop\\Shopping-Checkout-System\\datasets\\shoppingdataset\\images\\test\\raw_380.jpg: 640x640 1 wrigley_I001, 51.6ms\n",
      "image 195/332 C:\\Users\\angko\\Desktop\\Shopping-Checkout-System\\datasets\\shoppingdataset\\images\\test\\raw_381.jpg: 640x640 1 wrigley_I001, 52.0ms\n",
      "image 196/332 C:\\Users\\angko\\Desktop\\Shopping-Checkout-System\\datasets\\shoppingdataset\\images\\test\\raw_384.jpg: 640x640 1 wrigley_I001, 45.3ms\n",
      "image 197/332 C:\\Users\\angko\\Desktop\\Shopping-Checkout-System\\datasets\\shoppingdataset\\images\\test\\raw_388.jpg: 640x640 1 wrigley_I001, 47.3ms\n",
      "image 198/332 C:\\Users\\angko\\Desktop\\Shopping-Checkout-System\\datasets\\shoppingdataset\\images\\test\\raw_391.jpg: 640x640 1 wrigley_I001, 49.6ms\n",
      "image 199/332 C:\\Users\\angko\\Desktop\\Shopping-Checkout-System\\datasets\\shoppingdataset\\images\\test\\raw_392.jpg: 640x640 1 wrigley_I001, 52.6ms\n",
      "image 200/332 C:\\Users\\angko\\Desktop\\Shopping-Checkout-System\\datasets\\shoppingdataset\\images\\test\\raw_394.jpg: 640x640 1 wrigley_I001, 48.4ms\n",
      "image 201/332 C:\\Users\\angko\\Desktop\\Shopping-Checkout-System\\datasets\\shoppingdataset\\images\\test\\raw_398.jpg: 640x640 1 wrigley_I001, 48.5ms\n",
      "image 202/332 C:\\Users\\angko\\Desktop\\Shopping-Checkout-System\\datasets\\shoppingdataset\\images\\test\\raw_414.jpg: 640x640 (no detections), 40.5ms\n",
      "image 203/332 C:\\Users\\angko\\Desktop\\Shopping-Checkout-System\\datasets\\shoppingdataset\\images\\test\\raw_42.jpg: 640x640 1 wrigley_I001, 45.4ms\n",
      "image 204/332 C:\\Users\\angko\\Desktop\\Shopping-Checkout-System\\datasets\\shoppingdataset\\images\\test\\raw_420.jpg: 640x640 1 wrigley_I001, 41.5ms\n",
      "image 205/332 C:\\Users\\angko\\Desktop\\Shopping-Checkout-System\\datasets\\shoppingdataset\\images\\test\\raw_424.jpg: 640x640 1 wrigley_I001, 46.3ms\n",
      "image 206/332 C:\\Users\\angko\\Desktop\\Shopping-Checkout-System\\datasets\\shoppingdataset\\images\\test\\raw_425.jpg: 640x640 1 wrigley_I001, 42.3ms\n",
      "image 207/332 C:\\Users\\angko\\Desktop\\Shopping-Checkout-System\\datasets\\shoppingdataset\\images\\test\\raw_426.jpg: 640x640 1 wrigley_I001, 47.0ms\n",
      "image 208/332 C:\\Users\\angko\\Desktop\\Shopping-Checkout-System\\datasets\\shoppingdataset\\images\\test\\raw_431.jpg: 640x640 1 wrigley_I001, 38.7ms\n",
      "image 209/332 C:\\Users\\angko\\Desktop\\Shopping-Checkout-System\\datasets\\shoppingdataset\\images\\test\\raw_436.jpg: 640x640 1 wrigley_I001, 40.4ms\n",
      "image 210/332 C:\\Users\\angko\\Desktop\\Shopping-Checkout-System\\datasets\\shoppingdataset\\images\\test\\raw_437.jpg: 640x640 1 wrigley_I001, 38.7ms\n",
      "image 211/332 C:\\Users\\angko\\Desktop\\Shopping-Checkout-System\\datasets\\shoppingdataset\\images\\test\\raw_44.jpg: 640x640 1 wrigley_I001, 41.0ms\n",
      "image 212/332 C:\\Users\\angko\\Desktop\\Shopping-Checkout-System\\datasets\\shoppingdataset\\images\\test\\raw_440.jpg: 640x640 1 wrigley_I001, 42.5ms\n",
      "image 213/332 C:\\Users\\angko\\Desktop\\Shopping-Checkout-System\\datasets\\shoppingdataset\\images\\test\\raw_457.jpg: 640x640 1 wrigley_I001, 42.3ms\n",
      "image 214/332 C:\\Users\\angko\\Desktop\\Shopping-Checkout-System\\datasets\\shoppingdataset\\images\\test\\raw_459.jpg: 640x640 1 wrigley_I001, 42.5ms\n",
      "image 215/332 C:\\Users\\angko\\Desktop\\Shopping-Checkout-System\\datasets\\shoppingdataset\\images\\test\\raw_46.jpg: 640x640 1 wrigley_I001, 49.4ms\n",
      "image 216/332 C:\\Users\\angko\\Desktop\\Shopping-Checkout-System\\datasets\\shoppingdataset\\images\\test\\raw_463.jpg: 640x640 1 wrigley_I001, 44.5ms\n",
      "image 217/332 C:\\Users\\angko\\Desktop\\Shopping-Checkout-System\\datasets\\shoppingdataset\\images\\test\\raw_467.jpg: 640x640 1 wrigley_I001, 46.5ms\n",
      "image 218/332 C:\\Users\\angko\\Desktop\\Shopping-Checkout-System\\datasets\\shoppingdataset\\images\\test\\raw_469.jpg: 640x640 1 wrigley_I001, 47.1ms\n",
      "image 219/332 C:\\Users\\angko\\Desktop\\Shopping-Checkout-System\\datasets\\shoppingdataset\\images\\test\\raw_470.jpg: 640x640 1 wrigley_I001, 53.2ms\n",
      "image 220/332 C:\\Users\\angko\\Desktop\\Shopping-Checkout-System\\datasets\\shoppingdataset\\images\\test\\raw_471.jpg: 640x640 1 wrigley_I001, 48.8ms\n",
      "image 221/332 C:\\Users\\angko\\Desktop\\Shopping-Checkout-System\\datasets\\shoppingdataset\\images\\test\\raw_476.jpg: 640x640 1 wrigley_I001, 48.5ms\n",
      "image 222/332 C:\\Users\\angko\\Desktop\\Shopping-Checkout-System\\datasets\\shoppingdataset\\images\\test\\raw_480.jpg: 640x640 1 wrigley_I001, 45.0ms\n",
      "image 223/332 C:\\Users\\angko\\Desktop\\Shopping-Checkout-System\\datasets\\shoppingdataset\\images\\test\\raw_481.jpg: 640x640 1 wrigley_I001, 45.3ms\n",
      "image 224/332 C:\\Users\\angko\\Desktop\\Shopping-Checkout-System\\datasets\\shoppingdataset\\images\\test\\raw_482.jpg: 640x640 1 wrigley_I001, 46.9ms\n",
      "image 225/332 C:\\Users\\angko\\Desktop\\Shopping-Checkout-System\\datasets\\shoppingdataset\\images\\test\\raw_483.jpg: 640x640 1 wrigley_I001, 48.1ms\n",
      "image 226/332 C:\\Users\\angko\\Desktop\\Shopping-Checkout-System\\datasets\\shoppingdataset\\images\\test\\raw_487.jpg: 640x640 1 wrigley_I001, 49.6ms\n",
      "image 227/332 C:\\Users\\angko\\Desktop\\Shopping-Checkout-System\\datasets\\shoppingdataset\\images\\test\\raw_49.jpg: 640x640 1 wrigley_I001, 50.5ms\n",
      "image 228/332 C:\\Users\\angko\\Desktop\\Shopping-Checkout-System\\datasets\\shoppingdataset\\images\\test\\raw_491.jpg: 640x640 1 wrigley_I001, 43.9ms\n",
      "image 229/332 C:\\Users\\angko\\Desktop\\Shopping-Checkout-System\\datasets\\shoppingdataset\\images\\test\\raw_492.jpg: 640x640 1 wrigley_I001, 51.9ms\n",
      "image 230/332 C:\\Users\\angko\\Desktop\\Shopping-Checkout-System\\datasets\\shoppingdataset\\images\\test\\raw_495.jpg: 640x640 1 wrigley_I001, 46.9ms\n",
      "image 231/332 C:\\Users\\angko\\Desktop\\Shopping-Checkout-System\\datasets\\shoppingdataset\\images\\test\\raw_508.jpg: 640x640 1 wrigley_I001, 46.5ms\n",
      "image 232/332 C:\\Users\\angko\\Desktop\\Shopping-Checkout-System\\datasets\\shoppingdataset\\images\\test\\raw_509.jpg: 640x640 1 wrigley_I001, 60.8ms\n",
      "image 233/332 C:\\Users\\angko\\Desktop\\Shopping-Checkout-System\\datasets\\shoppingdataset\\images\\test\\raw_521.jpg: 640x640 1 wrigley_I001, 48.0ms\n",
      "image 234/332 C:\\Users\\angko\\Desktop\\Shopping-Checkout-System\\datasets\\shoppingdataset\\images\\test\\raw_524.jpg: 640x640 1 wrigley_I001, 46.3ms\n",
      "image 235/332 C:\\Users\\angko\\Desktop\\Shopping-Checkout-System\\datasets\\shoppingdataset\\images\\test\\raw_525.jpg: 640x640 1 wrigley_I001, 45.3ms\n",
      "image 236/332 C:\\Users\\angko\\Desktop\\Shopping-Checkout-System\\datasets\\shoppingdataset\\images\\test\\raw_528.jpg: 640x640 1 wrigley_I001, 40.0ms\n",
      "image 237/332 C:\\Users\\angko\\Desktop\\Shopping-Checkout-System\\datasets\\shoppingdataset\\images\\test\\raw_53.jpg: 640x640 1 wrigley_I001, 46.5ms\n",
      "image 238/332 C:\\Users\\angko\\Desktop\\Shopping-Checkout-System\\datasets\\shoppingdataset\\images\\test\\raw_532.jpg: 640x640 1 wrigley_I001, 40.9ms\n",
      "image 239/332 C:\\Users\\angko\\Desktop\\Shopping-Checkout-System\\datasets\\shoppingdataset\\images\\test\\raw_538.jpg: 640x640 1 wrigley_I001, 42.9ms\n",
      "image 240/332 C:\\Users\\angko\\Desktop\\Shopping-Checkout-System\\datasets\\shoppingdataset\\images\\test\\raw_542.jpg: 640x640 1 wrigley_I001, 47.3ms\n",
      "image 241/332 C:\\Users\\angko\\Desktop\\Shopping-Checkout-System\\datasets\\shoppingdataset\\images\\test\\raw_547.jpg: 640x640 1 wrigley_I001, 41.6ms\n",
      "image 242/332 C:\\Users\\angko\\Desktop\\Shopping-Checkout-System\\datasets\\shoppingdataset\\images\\test\\raw_55.jpg: 640x640 1 wrigley_I001, 41.1ms\n",
      "image 243/332 C:\\Users\\angko\\Desktop\\Shopping-Checkout-System\\datasets\\shoppingdataset\\images\\test\\raw_552.jpg: 640x640 1 wrigley_I001, 42.9ms\n",
      "image 244/332 C:\\Users\\angko\\Desktop\\Shopping-Checkout-System\\datasets\\shoppingdataset\\images\\test\\raw_558.jpg: 640x640 1 wrigley_I001, 40.6ms\n",
      "image 245/332 C:\\Users\\angko\\Desktop\\Shopping-Checkout-System\\datasets\\shoppingdataset\\images\\test\\raw_562.jpg: 640x640 1 wrigley_I001, 42.1ms\n",
      "image 246/332 C:\\Users\\angko\\Desktop\\Shopping-Checkout-System\\datasets\\shoppingdataset\\images\\test\\raw_565.jpg: 640x640 1 wrigley_I001, 116.9ms\n",
      "image 247/332 C:\\Users\\angko\\Desktop\\Shopping-Checkout-System\\datasets\\shoppingdataset\\images\\test\\raw_570.jpg: 640x640 1 wrigley_I001, 60.2ms\n",
      "image 248/332 C:\\Users\\angko\\Desktop\\Shopping-Checkout-System\\datasets\\shoppingdataset\\images\\test\\raw_573.jpg: 640x640 1 wrigley_I001, 56.6ms\n",
      "image 249/332 C:\\Users\\angko\\Desktop\\Shopping-Checkout-System\\datasets\\shoppingdataset\\images\\test\\raw_580.jpg: 640x640 1 wrigley_I001, 62.3ms\n",
      "image 250/332 C:\\Users\\angko\\Desktop\\Shopping-Checkout-System\\datasets\\shoppingdataset\\images\\test\\raw_583.jpg: 640x640 1 wrigley_I001, 49.3ms\n",
      "image 251/332 C:\\Users\\angko\\Desktop\\Shopping-Checkout-System\\datasets\\shoppingdataset\\images\\test\\raw_585.jpg: 640x640 1 wrigley_I001, 52.0ms\n",
      "image 252/332 C:\\Users\\angko\\Desktop\\Shopping-Checkout-System\\datasets\\shoppingdataset\\images\\test\\raw_586.jpg: 640x640 1 wrigley_I001, 45.0ms\n",
      "image 253/332 C:\\Users\\angko\\Desktop\\Shopping-Checkout-System\\datasets\\shoppingdataset\\images\\test\\raw_591.jpg: 640x640 1 wrigley_I001, 46.4ms\n",
      "image 254/332 C:\\Users\\angko\\Desktop\\Shopping-Checkout-System\\datasets\\shoppingdataset\\images\\test\\raw_593.jpg: 640x640 1 wrigley_I001, 47.9ms\n",
      "image 255/332 C:\\Users\\angko\\Desktop\\Shopping-Checkout-System\\datasets\\shoppingdataset\\images\\test\\raw_595.jpg: 640x640 1 wrigley_I001, 45.9ms\n",
      "image 256/332 C:\\Users\\angko\\Desktop\\Shopping-Checkout-System\\datasets\\shoppingdataset\\images\\test\\raw_596.jpg: 640x640 1 wrigley_I001, 42.9ms\n",
      "image 257/332 C:\\Users\\angko\\Desktop\\Shopping-Checkout-System\\datasets\\shoppingdataset\\images\\test\\raw_598.jpg: 640x640 1 wrigley_I001, 43.9ms\n",
      "image 258/332 C:\\Users\\angko\\Desktop\\Shopping-Checkout-System\\datasets\\shoppingdataset\\images\\test\\raw_599.jpg: 640x640 1 wrigley_I001, 44.7ms\n",
      "image 259/332 C:\\Users\\angko\\Desktop\\Shopping-Checkout-System\\datasets\\shoppingdataset\\images\\test\\raw_616.jpg: 640x640 1 wrigley_I001, 45.6ms\n",
      "image 260/332 C:\\Users\\angko\\Desktop\\Shopping-Checkout-System\\datasets\\shoppingdataset\\images\\test\\raw_618.jpg: 640x640 1 wrigley_I001, 47.5ms\n",
      "image 261/332 C:\\Users\\angko\\Desktop\\Shopping-Checkout-System\\datasets\\shoppingdataset\\images\\test\\raw_623.jpg: 640x640 1 wrigley_I001, 44.9ms\n",
      "image 262/332 C:\\Users\\angko\\Desktop\\Shopping-Checkout-System\\datasets\\shoppingdataset\\images\\test\\raw_624.jpg: 640x640 1 wrigley_I001, 46.2ms\n",
      "image 263/332 C:\\Users\\angko\\Desktop\\Shopping-Checkout-System\\datasets\\shoppingdataset\\images\\test\\raw_629.jpg: 640x640 1 wrigley_I001, 41.9ms\n",
      "image 264/332 C:\\Users\\angko\\Desktop\\Shopping-Checkout-System\\datasets\\shoppingdataset\\images\\test\\raw_632.jpg: 640x640 1 wrigley_I001, 48.5ms\n",
      "image 265/332 C:\\Users\\angko\\Desktop\\Shopping-Checkout-System\\datasets\\shoppingdataset\\images\\test\\raw_639.jpg: 640x640 1 wrigley_I001, 41.7ms\n",
      "image 266/332 C:\\Users\\angko\\Desktop\\Shopping-Checkout-System\\datasets\\shoppingdataset\\images\\test\\raw_640.jpg: 640x640 1 wrigley_I001, 51.1ms\n",
      "image 267/332 C:\\Users\\angko\\Desktop\\Shopping-Checkout-System\\datasets\\shoppingdataset\\images\\test\\raw_642.jpg: 640x640 1 wrigley_I001, 41.5ms\n",
      "image 268/332 C:\\Users\\angko\\Desktop\\Shopping-Checkout-System\\datasets\\shoppingdataset\\images\\test\\raw_651.jpg: 640x640 1 wrigley_I001, 44.6ms\n",
      "image 269/332 C:\\Users\\angko\\Desktop\\Shopping-Checkout-System\\datasets\\shoppingdataset\\images\\test\\raw_657.jpg: 640x640 1 wrigley_I001, 44.4ms\n",
      "image 270/332 C:\\Users\\angko\\Desktop\\Shopping-Checkout-System\\datasets\\shoppingdataset\\images\\test\\raw_658.jpg: 640x640 1 wrigley_I001, 43.7ms\n",
      "image 271/332 C:\\Users\\angko\\Desktop\\Shopping-Checkout-System\\datasets\\shoppingdataset\\images\\test\\raw_66.jpg: 640x640 1 wrigley_I001, 43.7ms\n",
      "image 272/332 C:\\Users\\angko\\Desktop\\Shopping-Checkout-System\\datasets\\shoppingdataset\\images\\test\\raw_669.jpg: 640x640 1 wrigley_I001, 72.2ms\n",
      "image 273/332 C:\\Users\\angko\\Desktop\\Shopping-Checkout-System\\datasets\\shoppingdataset\\images\\test\\raw_676.jpg: 640x640 1 wrigley_I001, 45.4ms\n",
      "image 274/332 C:\\Users\\angko\\Desktop\\Shopping-Checkout-System\\datasets\\shoppingdataset\\images\\test\\raw_677.jpg: 640x640 1 wrigley_I001, 46.2ms\n",
      "image 275/332 C:\\Users\\angko\\Desktop\\Shopping-Checkout-System\\datasets\\shoppingdataset\\images\\test\\raw_691.jpg: 640x640 1 wrigley_I001, 42.4ms\n",
      "image 276/332 C:\\Users\\angko\\Desktop\\Shopping-Checkout-System\\datasets\\shoppingdataset\\images\\test\\raw_693.jpg: 640x640 (no detections), 44.2ms\n",
      "image 277/332 C:\\Users\\angko\\Desktop\\Shopping-Checkout-System\\datasets\\shoppingdataset\\images\\test\\raw_70.jpg: 640x640 1 wrigley_I001, 49.1ms\n",
      "image 278/332 C:\\Users\\angko\\Desktop\\Shopping-Checkout-System\\datasets\\shoppingdataset\\images\\test\\raw_713.jpg: 640x640 1 wrigley_I001, 50.0ms\n",
      "image 279/332 C:\\Users\\angko\\Desktop\\Shopping-Checkout-System\\datasets\\shoppingdataset\\images\\test\\raw_716.jpg: 640x640 1 wrigley_I001, 50.8ms\n",
      "image 280/332 C:\\Users\\angko\\Desktop\\Shopping-Checkout-System\\datasets\\shoppingdataset\\images\\test\\raw_719.jpg: 640x640 1 wrigley_I001, 60.2ms\n",
      "image 281/332 C:\\Users\\angko\\Desktop\\Shopping-Checkout-System\\datasets\\shoppingdataset\\images\\test\\raw_722.jpg: 640x640 1 wrigley_I001, 57.0ms\n",
      "image 282/332 C:\\Users\\angko\\Desktop\\Shopping-Checkout-System\\datasets\\shoppingdataset\\images\\test\\raw_725.jpg: 640x640 1 wrigley_I001, 53.3ms\n",
      "image 283/332 C:\\Users\\angko\\Desktop\\Shopping-Checkout-System\\datasets\\shoppingdataset\\images\\test\\raw_726.jpg: 640x640 1 wrigley_I001, 54.8ms\n",
      "image 284/332 C:\\Users\\angko\\Desktop\\Shopping-Checkout-System\\datasets\\shoppingdataset\\images\\test\\raw_728.jpg: 640x640 1 wrigley_I001, 57.5ms\n",
      "image 285/332 C:\\Users\\angko\\Desktop\\Shopping-Checkout-System\\datasets\\shoppingdataset\\images\\test\\raw_730.jpg: 640x640 (no detections), 67.2ms\n",
      "image 286/332 C:\\Users\\angko\\Desktop\\Shopping-Checkout-System\\datasets\\shoppingdataset\\images\\test\\raw_733.jpg: 640x640 1 wrigley_I001, 58.1ms\n",
      "image 287/332 C:\\Users\\angko\\Desktop\\Shopping-Checkout-System\\datasets\\shoppingdataset\\images\\test\\raw_742.jpg: 640x640 1 wrigley_I001, 51.0ms\n",
      "image 288/332 C:\\Users\\angko\\Desktop\\Shopping-Checkout-System\\datasets\\shoppingdataset\\images\\test\\raw_750.jpg: 640x640 1 wrigley_I001, 54.5ms\n",
      "image 289/332 C:\\Users\\angko\\Desktop\\Shopping-Checkout-System\\datasets\\shoppingdataset\\images\\test\\raw_762.jpg: 640x640 1 wrigley_I001, 55.7ms\n",
      "image 290/332 C:\\Users\\angko\\Desktop\\Shopping-Checkout-System\\datasets\\shoppingdataset\\images\\test\\raw_769.jpg: 640x640 1 wrigley_I001, 55.8ms\n",
      "image 291/332 C:\\Users\\angko\\Desktop\\Shopping-Checkout-System\\datasets\\shoppingdataset\\images\\test\\raw_770.jpg: 640x640 1 wrigley_I001, 50.0ms\n",
      "image 292/332 C:\\Users\\angko\\Desktop\\Shopping-Checkout-System\\datasets\\shoppingdataset\\images\\test\\raw_774.jpg: 640x640 1 wrigley_I001, 48.6ms\n",
      "image 293/332 C:\\Users\\angko\\Desktop\\Shopping-Checkout-System\\datasets\\shoppingdataset\\images\\test\\raw_782.jpg: 640x640 1 wrigley_I001, 46.8ms\n",
      "image 294/332 C:\\Users\\angko\\Desktop\\Shopping-Checkout-System\\datasets\\shoppingdataset\\images\\test\\raw_791.jpg: 640x640 1 wrigley_I001, 57.9ms\n",
      "image 295/332 C:\\Users\\angko\\Desktop\\Shopping-Checkout-System\\datasets\\shoppingdataset\\images\\test\\raw_797.jpg: 640x640 1 wrigley_I001, 49.8ms\n",
      "image 296/332 C:\\Users\\angko\\Desktop\\Shopping-Checkout-System\\datasets\\shoppingdataset\\images\\test\\raw_802.jpg: 640x640 1 wrigley_I001, 50.4ms\n",
      "image 297/332 C:\\Users\\angko\\Desktop\\Shopping-Checkout-System\\datasets\\shoppingdataset\\images\\test\\raw_81.jpg: 640x640 1 wrigley_I001, 49.3ms\n",
      "image 298/332 C:\\Users\\angko\\Desktop\\Shopping-Checkout-System\\datasets\\shoppingdataset\\images\\test\\raw_812.jpg: 640x640 1 wrigley_I001, 49.9ms\n",
      "image 299/332 C:\\Users\\angko\\Desktop\\Shopping-Checkout-System\\datasets\\shoppingdataset\\images\\test\\raw_813.jpg: 640x640 1 wrigley_I001, 49.4ms\n",
      "image 300/332 C:\\Users\\angko\\Desktop\\Shopping-Checkout-System\\datasets\\shoppingdataset\\images\\test\\raw_822.jpg: 640x640 1 wrigley_I001, 55.9ms\n",
      "image 301/332 C:\\Users\\angko\\Desktop\\Shopping-Checkout-System\\datasets\\shoppingdataset\\images\\test\\raw_827.jpg: 640x640 1 wrigley_I001, 55.6ms\n",
      "image 302/332 C:\\Users\\angko\\Desktop\\Shopping-Checkout-System\\datasets\\shoppingdataset\\images\\test\\raw_828.jpg: 640x640 1 wrigley_I001, 54.9ms\n",
      "image 303/332 C:\\Users\\angko\\Desktop\\Shopping-Checkout-System\\datasets\\shoppingdataset\\images\\test\\raw_830.jpg: 640x640 1 wrigley_I001, 65.0ms\n",
      "image 304/332 C:\\Users\\angko\\Desktop\\Shopping-Checkout-System\\datasets\\shoppingdataset\\images\\test\\raw_832.jpg: 640x640 1 wrigley_I001, 57.1ms\n",
      "image 305/332 C:\\Users\\angko\\Desktop\\Shopping-Checkout-System\\datasets\\shoppingdataset\\images\\test\\raw_839.jpg: 640x640 1 wrigley_I001, 50.6ms\n",
      "image 306/332 C:\\Users\\angko\\Desktop\\Shopping-Checkout-System\\datasets\\shoppingdataset\\images\\test\\raw_844.jpg: 640x640 1 wrigley_I001, 59.3ms\n",
      "image 307/332 C:\\Users\\angko\\Desktop\\Shopping-Checkout-System\\datasets\\shoppingdataset\\images\\test\\raw_851.jpg: 640x640 1 wrigley_I001, 58.4ms\n",
      "image 308/332 C:\\Users\\angko\\Desktop\\Shopping-Checkout-System\\datasets\\shoppingdataset\\images\\test\\raw_852.jpg: 640x640 1 wrigley_I001, 60.1ms\n",
      "image 309/332 C:\\Users\\angko\\Desktop\\Shopping-Checkout-System\\datasets\\shoppingdataset\\images\\test\\raw_857.jpg: 640x640 1 wrigley_I001, 73.0ms\n",
      "image 310/332 C:\\Users\\angko\\Desktop\\Shopping-Checkout-System\\datasets\\shoppingdataset\\images\\test\\raw_863.jpg: 640x640 1 wrigley_I001, 53.9ms\n",
      "image 311/332 C:\\Users\\angko\\Desktop\\Shopping-Checkout-System\\datasets\\shoppingdataset\\images\\test\\raw_864.jpg: 640x640 1 wrigley_I001, 74.5ms\n",
      "image 312/332 C:\\Users\\angko\\Desktop\\Shopping-Checkout-System\\datasets\\shoppingdataset\\images\\test\\raw_869.jpg: 640x640 1 wrigley_I001, 57.2ms\n",
      "image 313/332 C:\\Users\\angko\\Desktop\\Shopping-Checkout-System\\datasets\\shoppingdataset\\images\\test\\raw_879.jpg: 640x640 1 wrigley_I001, 49.0ms\n",
      "image 314/332 C:\\Users\\angko\\Desktop\\Shopping-Checkout-System\\datasets\\shoppingdataset\\images\\test\\raw_888.jpg: 640x640 1 wrigley_I001, 66.6ms\n",
      "image 315/332 C:\\Users\\angko\\Desktop\\Shopping-Checkout-System\\datasets\\shoppingdataset\\images\\test\\raw_892.jpg: 640x640 1 wrigley_I001, 64.9ms\n",
      "image 316/332 C:\\Users\\angko\\Desktop\\Shopping-Checkout-System\\datasets\\shoppingdataset\\images\\test\\raw_893.jpg: 640x640 1 wrigley_I001, 54.2ms\n",
      "image 317/332 C:\\Users\\angko\\Desktop\\Shopping-Checkout-System\\datasets\\shoppingdataset\\images\\test\\raw_9.jpg: 640x640 1 wrigley_I001, 63.5ms\n",
      "image 318/332 C:\\Users\\angko\\Desktop\\Shopping-Checkout-System\\datasets\\shoppingdataset\\images\\test\\raw_900.jpg: 640x640 1 wrigley_I001, 58.6ms\n",
      "image 319/332 C:\\Users\\angko\\Desktop\\Shopping-Checkout-System\\datasets\\shoppingdataset\\images\\test\\raw_901.jpg: 640x640 1 wrigley_I001, 48.3ms\n",
      "image 320/332 C:\\Users\\angko\\Desktop\\Shopping-Checkout-System\\datasets\\shoppingdataset\\images\\test\\raw_913.jpg: 640x640 1 wrigley_I001, 53.5ms\n",
      "image 321/332 C:\\Users\\angko\\Desktop\\Shopping-Checkout-System\\datasets\\shoppingdataset\\images\\test\\raw_916.jpg: 640x640 (no detections), 59.6ms\n",
      "image 322/332 C:\\Users\\angko\\Desktop\\Shopping-Checkout-System\\datasets\\shoppingdataset\\images\\test\\raw_921.jpg: 640x640 1 wrigley_I001, 47.8ms\n",
      "image 323/332 C:\\Users\\angko\\Desktop\\Shopping-Checkout-System\\datasets\\shoppingdataset\\images\\test\\raw_925.jpg: 640x640 1 wrigley_I001, 57.7ms\n",
      "image 324/332 C:\\Users\\angko\\Desktop\\Shopping-Checkout-System\\datasets\\shoppingdataset\\images\\test\\raw_927.jpg: 640x640 1 wrigley_I001, 49.2ms\n",
      "image 325/332 C:\\Users\\angko\\Desktop\\Shopping-Checkout-System\\datasets\\shoppingdataset\\images\\test\\raw_931.jpg: 640x640 1 wrigley_I001, 48.3ms\n",
      "image 326/332 C:\\Users\\angko\\Desktop\\Shopping-Checkout-System\\datasets\\shoppingdataset\\images\\test\\raw_940.jpg: 640x640 1 wrigley_I001, 57.2ms\n",
      "image 327/332 C:\\Users\\angko\\Desktop\\Shopping-Checkout-System\\datasets\\shoppingdataset\\images\\test\\raw_946.jpg: 640x640 1 wrigley_I001, 138.7ms\n",
      "image 328/332 C:\\Users\\angko\\Desktop\\Shopping-Checkout-System\\datasets\\shoppingdataset\\images\\test\\raw_969.jpg: 640x640 1 wrigley_I001, 62.4ms\n",
      "image 329/332 C:\\Users\\angko\\Desktop\\Shopping-Checkout-System\\datasets\\shoppingdataset\\images\\test\\raw_972.jpg: 640x640 1 wrigley_I001, 54.6ms\n",
      "image 330/332 C:\\Users\\angko\\Desktop\\Shopping-Checkout-System\\datasets\\shoppingdataset\\images\\test\\raw_980.jpg: 640x640 1 wrigley_I001, 53.1ms\n",
      "image 331/332 C:\\Users\\angko\\Desktop\\Shopping-Checkout-System\\datasets\\shoppingdataset\\images\\test\\raw_99.jpg: 640x640 1 wrigley_I001, 63.1ms\n",
      "image 332/332 C:\\Users\\angko\\Desktop\\Shopping-Checkout-System\\datasets\\shoppingdataset\\images\\test\\raw_995.jpg: 640x640 1 wrigley_I001, 52.0ms\n",
      "Speed: 4.2ms preprocess, 37.5ms inference, 3.1ms postprocess per image at shape (1, 3, 640, 640)\n",
      "Results saved to \u001b[1mruns\\detect\\predict\u001b[0m\n"
     ]
    }
   ],
   "source": [
    "# Test the model with test images:\n",
    "results = validation_mode_shoppingdataset_yolov11_model.predict(shopping_dataset_test_folder_path, save=True, conf=0.50)"
   ]
  },
  {
   "cell_type": "markdown",
   "metadata": {},
   "source": [
    "# Live Inference"
   ]
  },
  {
   "cell_type": "code",
   "execution_count": 8,
   "metadata": {},
   "outputs": [],
   "source": [
    "import cv2"
   ]
  },
  {
   "cell_type": "code",
   "execution_count": 9,
   "metadata": {},
   "outputs": [],
   "source": [
    "best_pt_model = Path(\"runs/detect/train5/weights/best.pt\")"
   ]
  },
  {
   "cell_type": "code",
   "execution_count": 10,
   "metadata": {},
   "outputs": [],
   "source": [
    "bytetrack_yaml_file_path: str = os.path.join(Path(\"datasets\").resolve(), \"bytetrack.yaml\")"
   ]
  },
  {
   "cell_type": "markdown",
   "metadata": {},
   "source": [
    "Output to OpenVINO"
   ]
  },
  {
   "cell_type": "code",
   "execution_count": 11,
   "metadata": {},
   "outputs": [
    {
     "name": "stdout",
     "output_type": "stream",
     "text": [
      "Ultralytics 8.3.75  Python-3.12.9 torch-2.6.0+cu124 CPU (13th Gen Intel Core(TM) i7-1360P)\n",
      "YOLO11n summary (fused): 238 layers, 2,582,542 parameters, 0 gradients, 6.3 GFLOPs\n",
      "\n",
      "\u001b[34m\u001b[1mPyTorch:\u001b[0m starting from 'runs\\detect\\train5\\weights\\best.pt' with input shape (1, 3, 640, 640) BCHW and output shape(s) (1, 6, 8400) (5.2 MB)\n",
      "\n",
      "\u001b[34m\u001b[1mOpenVINO:\u001b[0m starting export with openvino 2025.0.0-17942-1f68be9f594-releases/2025/0...\n",
      "\u001b[34m\u001b[1mOpenVINO:\u001b[0m export success  5.3s, saved as 'runs\\detect\\train5\\weights\\best_openvino_model\\' (10.3 MB)\n",
      "\n",
      "Export complete (6.1s)\n",
      "Results saved to \u001b[1mC:\\Users\\angko\\Desktop\\Shopping-Checkout-System\\runs\\detect\\train5\\weights\u001b[0m\n",
      "Predict:         yolo predict task=detect model=runs\\detect\\train5\\weights\\best_openvino_model imgsz=640  \n",
      "Validate:        yolo val task=detect model=runs\\detect\\train5\\weights\\best_openvino_model imgsz=640 data=C:\\Users\\angko\\Desktop\\Shopping-Checkout-System\\datasets\\shoppingdataset.yaml  \n",
      "Visualize:       https://netron.app\n"
     ]
    },
    {
     "name": "stderr",
     "output_type": "stream",
     "text": [
      "<frozen importlib.util>:207: DeprecationWarning: The `openvino.runtime` module is deprecated and will be removed in the 2026.0 release. Please replace `openvino.runtime` with `openvino`.\n"
     ]
    },
    {
     "data": {
      "text/plain": [
       "'runs\\\\detect\\\\train5\\\\weights\\\\best_openvino_model'"
      ]
     },
     "execution_count": 11,
     "metadata": {},
     "output_type": "execute_result"
    }
   ],
   "source": [
    "openvino_best_pt_model = YOLO(best_pt_model)\n",
    "\n",
    "openvino_best_pt_model.export(format=\"openvino\")"
   ]
  },
  {
   "cell_type": "code",
   "execution_count": 12,
   "metadata": {},
   "outputs": [],
   "source": [
    "best_openvino_model = Path(\"runs/detect/train5/weights/best_openvino_model\").resolve()"
   ]
  },
  {
   "cell_type": "markdown",
   "metadata": {},
   "source": [
    "Live Inference"
   ]
  },
  {
   "cell_type": "code",
   "execution_count": null,
   "metadata": {},
   "outputs": [],
   "source": [
    "# Open the video file\n",
    "\n",
    "cap = cv2.VideoCapture(index=1)\n",
    "\n",
    "cap.set(cv2.CAP_PROP_FRAME_WIDTH, 640)\n",
    "cap.set(cv2.CAP_PROP_FRAME_HEIGHT, 640)\n",
    "cap.set(cv2.CAP_PROP_FPS, 60)\n",
    "\n",
    "model = YOLO(best_openvino_model)\n",
    "model\n",
    "\n",
    "shopping_item_dict: dict = {\n",
    "    0: \"ECLIPSE PLUS LOQUAT PEAR $3.40\",\n",
    "    1: \"HICHEW GRAPE $1.40\"\n",
    "}\n",
    "\n",
    "# Loop through the video frames\n",
    "while cap.isOpened():\n",
    "    # Read a frame from the video\n",
    "    success, frame = cap.read()\n",
    "\n",
    "    if success:\n",
    "        # Run YOLO inference on the frame\n",
    "        results = model.track(frame, persist=True, tracker=bytetrack_yaml_file_path, iou=0.5, conf=0.4)\n",
    "\n",
    "\n",
    "        results[0].names = shopping_item_dict\n",
    "        # Visualize the results on the frame\n",
    "        annotated_frame = results[0].plot(font_size=5)\n",
    "\n",
    "        # Display the annotated frame\n",
    "        cv2.imshow(\"\", annotated_frame)\n",
    "\n",
    "        # Break the loop if 'q' is pressed\n",
    "        if cv2.waitKey(1) & 0xFF == ord(\"q\"):\n",
    "            break\n",
    "    else:\n",
    "        # Break the loop if the end of the video is reached\n",
    "        break\n",
    "\n",
    "# Release the video capture object and close the display window\n",
    "cap.release()\n",
    "cv2.destroyAllWindows()"
   ]
  }
 ],
 "metadata": {
  "kernelspec": {
   "display_name": "Python 3",
   "language": "python",
   "name": "python3"
  },
  "language_info": {
   "codemirror_mode": {
    "name": "ipython",
    "version": 3
   },
   "file_extension": ".py",
   "mimetype": "text/x-python",
   "name": "python",
   "nbconvert_exporter": "python",
   "pygments_lexer": "ipython3",
   "version": "3.12.9"
  }
 },
 "nbformat": 4,
 "nbformat_minor": 2
}
