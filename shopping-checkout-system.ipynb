{
 "cells": [
  {
   "cell_type": "markdown",
   "metadata": {},
   "source": [
    "# Shopping Checkout System"
   ]
  },
  {
   "cell_type": "markdown",
   "metadata": {},
   "source": [
    "## Use Case"
   ]
  },
  {
   "cell_type": "markdown",
   "metadata": {},
   "source": []
  },
  {
   "cell_type": "markdown",
   "metadata": {},
   "source": [
    "## Tools used"
   ]
  },
  {
   "cell_type": "code",
   "execution_count": null,
   "metadata": {},
   "outputs": [],
   "source": []
  },
  {
   "cell_type": "markdown",
   "metadata": {},
   "source": [
    "## Software Dependencies Installation"
   ]
  },
  {
   "cell_type": "code",
   "execution_count": 10,
   "metadata": {},
   "outputs": [
    {
     "name": "stdout",
     "output_type": "stream",
     "text": [
      "Requirement already satisfied: pandas in c:\\users\\angko\\desktop\\shopping-checkout-system\\.conda\\lib\\site-packages (2.2.3)\n",
      "Requirement already satisfied: numpy>=1.26.0 in c:\\users\\angko\\desktop\\shopping-checkout-system\\.conda\\lib\\site-packages (from pandas) (2.2.2)\n",
      "Requirement already satisfied: python-dateutil>=2.8.2 in c:\\users\\angko\\desktop\\shopping-checkout-system\\.conda\\lib\\site-packages (from pandas) (2.9.0.post0)\n",
      "Requirement already satisfied: pytz>=2020.1 in c:\\users\\angko\\desktop\\shopping-checkout-system\\.conda\\lib\\site-packages (from pandas) (2025.1)\n",
      "Requirement already satisfied: tzdata>=2022.7 in c:\\users\\angko\\desktop\\shopping-checkout-system\\.conda\\lib\\site-packages (from pandas) (2025.1)\n",
      "Requirement already satisfied: six>=1.5 in c:\\users\\angko\\desktop\\shopping-checkout-system\\.conda\\lib\\site-packages (from python-dateutil>=2.8.2->pandas) (1.17.0)\n",
      "Note: you may need to restart the kernel to use updated packages.\n",
      "Requirement already satisfied: opencv-python in c:\\users\\angko\\desktop\\shopping-checkout-system\\.conda\\lib\\site-packages (4.11.0.86)\n",
      "Requirement already satisfied: numpy>=1.21.2 in c:\\users\\angko\\desktop\\shopping-checkout-system\\.conda\\lib\\site-packages (from opencv-python) (2.2.2)\n",
      "Note: you may need to restart the kernel to use updated packages.\n",
      "Requirement already satisfied: numpy in c:\\users\\angko\\desktop\\shopping-checkout-system\\.conda\\lib\\site-packages (2.2.2)\n",
      "Note: you may need to restart the kernel to use updated packages.\n",
      "Requirement already satisfied: matplotlib in c:\\users\\angko\\desktop\\shopping-checkout-system\\.conda\\lib\\site-packages (3.10.0)\n",
      "Requirement already satisfied: contourpy>=1.0.1 in c:\\users\\angko\\desktop\\shopping-checkout-system\\.conda\\lib\\site-packages (from matplotlib) (1.3.1)\n",
      "Requirement already satisfied: cycler>=0.10 in c:\\users\\angko\\desktop\\shopping-checkout-system\\.conda\\lib\\site-packages (from matplotlib) (0.12.1)\n",
      "Requirement already satisfied: fonttools>=4.22.0 in c:\\users\\angko\\desktop\\shopping-checkout-system\\.conda\\lib\\site-packages (from matplotlib) (4.56.0)\n",
      "Requirement already satisfied: kiwisolver>=1.3.1 in c:\\users\\angko\\desktop\\shopping-checkout-system\\.conda\\lib\\site-packages (from matplotlib) (1.4.8)\n",
      "Requirement already satisfied: numpy>=1.23 in c:\\users\\angko\\desktop\\shopping-checkout-system\\.conda\\lib\\site-packages (from matplotlib) (2.2.2)\n",
      "Requirement already satisfied: packaging>=20.0 in c:\\users\\angko\\desktop\\shopping-checkout-system\\.conda\\lib\\site-packages (from matplotlib) (24.2)\n",
      "Requirement already satisfied: pillow>=8 in c:\\users\\angko\\desktop\\shopping-checkout-system\\.conda\\lib\\site-packages (from matplotlib) (11.1.0)\n",
      "Requirement already satisfied: pyparsing>=2.3.1 in c:\\users\\angko\\desktop\\shopping-checkout-system\\.conda\\lib\\site-packages (from matplotlib) (3.2.1)\n",
      "Requirement already satisfied: python-dateutil>=2.7 in c:\\users\\angko\\desktop\\shopping-checkout-system\\.conda\\lib\\site-packages (from matplotlib) (2.9.0.post0)\n",
      "Requirement already satisfied: six>=1.5 in c:\\users\\angko\\desktop\\shopping-checkout-system\\.conda\\lib\\site-packages (from python-dateutil>=2.7->matplotlib) (1.17.0)\n",
      "Note: you may need to restart the kernel to use updated packages.\n",
      "Collecting scikit-learn\n",
      "  Using cached scikit_learn-1.6.1-cp312-cp312-win_amd64.whl.metadata (15 kB)\n",
      "Requirement already satisfied: numpy>=1.19.5 in c:\\users\\angko\\desktop\\shopping-checkout-system\\.conda\\lib\\site-packages (from scikit-learn) (2.2.2)\n",
      "Collecting scipy>=1.6.0 (from scikit-learn)\n",
      "  Downloading scipy-1.15.1-cp312-cp312-win_amd64.whl.metadata (60 kB)\n",
      "Collecting joblib>=1.2.0 (from scikit-learn)\n",
      "  Using cached joblib-1.4.2-py3-none-any.whl.metadata (5.4 kB)\n",
      "Collecting threadpoolctl>=3.1.0 (from scikit-learn)\n",
      "  Using cached threadpoolctl-3.5.0-py3-none-any.whl.metadata (13 kB)\n",
      "Using cached scikit_learn-1.6.1-cp312-cp312-win_amd64.whl (11.1 MB)\n",
      "Using cached joblib-1.4.2-py3-none-any.whl (301 kB)\n",
      "Downloading scipy-1.15.1-cp312-cp312-win_amd64.whl (43.6 MB)\n",
      "   ---------------------------------------- 0.0/43.6 MB ? eta -:--:--\n",
      "   -- ------------------------------------- 2.4/43.6 MB 12.2 MB/s eta 0:00:04\n",
      "   ---- ----------------------------------- 5.2/43.6 MB 12.7 MB/s eta 0:00:04\n",
      "   ------- -------------------------------- 8.1/43.6 MB 12.9 MB/s eta 0:00:03\n",
      "   --------- ------------------------------ 10.0/43.6 MB 11.9 MB/s eta 0:00:03\n",
      "   ------------ --------------------------- 13.1/43.6 MB 12.5 MB/s eta 0:00:03\n",
      "   -------------- ------------------------- 16.3/43.6 MB 12.8 MB/s eta 0:00:03\n",
      "   ----------------- ---------------------- 19.4/43.6 MB 13.0 MB/s eta 0:00:02\n",
      "   -------------------- ------------------- 22.0/43.6 MB 13.0 MB/s eta 0:00:02\n",
      "   ----------------------- ---------------- 25.2/43.6 MB 13.2 MB/s eta 0:00:02\n",
      "   -------------------------- ------------- 28.6/43.6 MB 13.4 MB/s eta 0:00:02\n",
      "   ----------------------------- ---------- 31.7/43.6 MB 13.6 MB/s eta 0:00:01\n",
      "   -------------------------------- ------- 35.1/43.6 MB 13.7 MB/s eta 0:00:01\n",
      "   ---------------------------------- ----- 38.0/43.6 MB 13.7 MB/s eta 0:00:01\n",
      "   ------------------------------------- -- 40.4/43.6 MB 13.6 MB/s eta 0:00:01\n",
      "   -------------------------------------- - 42.5/43.6 MB 13.3 MB/s eta 0:00:01\n",
      "   ---------------------------------------  43.5/43.6 MB 13.3 MB/s eta 0:00:01\n",
      "   ---------------------------------------- 43.6/43.6 MB 12.7 MB/s eta 0:00:00\n",
      "Using cached threadpoolctl-3.5.0-py3-none-any.whl (18 kB)\n",
      "Installing collected packages: threadpoolctl, scipy, joblib, scikit-learn\n",
      "Successfully installed joblib-1.4.2 scikit-learn-1.6.1 scipy-1.15.1 threadpoolctl-3.5.0\n",
      "Note: you may need to restart the kernel to use updated packages.\n"
     ]
    }
   ],
   "source": [
    "%pip install --upgrade pandas\n",
    "%pip install --upgrade opencv-python\n",
    "%pip install --upgrade numpy\n",
    "%pip install --upgrade matplotlib\n",
    "%pip install --upgrade scikit-learn\n"
   ]
  },
  {
   "cell_type": "markdown",
   "metadata": {},
   "source": [
    "## Import Python Packages"
   ]
  },
  {
   "cell_type": "code",
   "execution_count": 1,
   "metadata": {},
   "outputs": [],
   "source": [
    "from pathlib import Path\n",
    "import os\n",
    "import project_library.video_processor as video_processor\n",
    "import project_library.file_manager as file_manager"
   ]
  },
  {
   "cell_type": "markdown",
   "metadata": {},
   "source": [
    "## Project Configuration"
   ]
  },
  {
   "cell_type": "code",
   "execution_count": 2,
   "metadata": {},
   "outputs": [],
   "source": [
    "PROJECT_ROOT_DIRECTORY: str = Path().resolve()\n",
    "DATASET_FILE_PATH: str = Path(\"dataset\").resolve()\n",
    "SHOPPING_DATASET_YAML_CONFIG: str = Path(\"dataset/shoppingDataset.yaml\").resolve()"
   ]
  },
  {
   "cell_type": "code",
   "execution_count": 3,
   "metadata": {},
   "outputs": [
    {
     "data": {
      "text/plain": [
       "WindowsPath('C:/Users/angko/Desktop/Shopping-Checkout-System/dataset/shoppingDataset.yaml')"
      ]
     },
     "execution_count": 3,
     "metadata": {},
     "output_type": "execute_result"
    }
   ],
   "source": [
    "SHOPPING_DATASET_YAML_CONFIG"
   ]
  },
  {
   "cell_type": "markdown",
   "metadata": {},
   "source": [
    "## Environment Setup"
   ]
  },
  {
   "cell_type": "markdown",
   "metadata": {},
   "source": [
    "### Create dataset folder structure"
   ]
  },
  {
   "cell_type": "code",
   "execution_count": 4,
   "metadata": {},
   "outputs": [],
   "source": [
    "# Create mydata folder\n",
    "\n",
    "# Create folder structure\n",
    "\n",
    "    # raw\n",
    "        # train\n",
    "        # train_background\n",
    "        # test\n",
    "        # test_background\n",
    "        # val\n",
    "        # val_background\n",
    "    # labels\n",
    "        # train\n",
    "        # test\n",
    "        # val\n",
    "    # images\n",
    "        # train\n",
    "        # test\n",
    "        # val\n",
    "\n",
    "import project_library.file_manager\n",
    "\n",
    "train_folder_dict, test_folder_dict, validation_folder_dict = project_library.file_manager.CreateFolderStructure.create_dataset_folder_structure(project_library.file_manager.FileInformation.get_absolute_folder_location(\"datasets\"), \"shoppingdataset\")"
   ]
  },
  {
   "cell_type": "markdown",
   "metadata": {},
   "source": [
    "### Process video files to extract all frames and convert to images"
   ]
  },
  {
   "cell_type": "code",
   "execution_count": 5,
   "metadata": {},
   "outputs": [
    {
     "name": "stdout",
     "output_type": "stream",
     "text": [
      "Processing IMG_4651 2025-02-12 04_36_25.mp4 ....\n",
      "Complete Processing IMG_4651 2025-02-12 04_36_25.mp4.\n",
      "Processing IMG_4653 2025-02-12 04_35_56.mp4 ....\n",
      "Complete Processing IMG_4653 2025-02-12 04_35_56.mp4.\n",
      "Processing IMG_4655 2025-02-12 04_17_31.mp4 ....\n",
      "Complete Processing IMG_4655 2025-02-12 04_17_31.mp4.\n",
      "Processing IMG_4656 2025-02-12 04_16_10.mp4 ....\n",
      "Complete Processing IMG_4656 2025-02-12 04_16_10.mp4.\n",
      "Processing IMG_4657 2025-02-12 04_13_01.mp4 ....\n",
      "Complete Processing IMG_4657 2025-02-12 04_13_01.mp4.\n",
      "Processing IMG_4658 2025-02-12 03_54_56.mp4 ....\n",
      "Complete Processing IMG_4658 2025-02-12 03_54_56.mp4.\n",
      "Processing IMG_4659 2025-02-12 03_54_45.mp4 ....\n",
      "Complete Processing IMG_4659 2025-02-12 03_54_45.mp4.\n",
      "Processing IMG_4660 2025-02-12 03_54_34.mp4 ....\n",
      "Complete Processing IMG_4660 2025-02-12 03_54_34.mp4.\n",
      "Processing IMG_4661 2025-02-12 03_54_25.mp4 ....\n",
      "Complete Processing IMG_4661 2025-02-12 03_54_25.mp4.\n",
      "Processing IMG_4662 2025-02-12 03_54_16.mp4 ....\n",
      "Complete Processing IMG_4662 2025-02-12 03_54_16.mp4.\n",
      "Processing IMG_4663 2025-02-12 03_54_09.mp4 ....\n",
      "Complete Processing IMG_4663 2025-02-12 03_54_09.mp4.\n",
      "Processing IMG_4664 2025-02-12 03_54_00.mp4 ....\n",
      "Complete Processing IMG_4664 2025-02-12 03_54_00.mp4.\n",
      "Processing IMG_4665 2025-02-12 03_53_54.mp4 ....\n",
      "Complete Processing IMG_4665 2025-02-12 03_53_54.mp4.\n",
      "Processing IMG_4666 2025-02-12 03_53_46.mp4 ....\n",
      "Complete Processing IMG_4666 2025-02-12 03_53_46.mp4.\n",
      "Processing IMG_4667 2025-02-12 03_53_41.mp4 ....\n",
      "Complete Processing IMG_4667 2025-02-12 03_53_41.mp4.\n"
     ]
    }
   ],
   "source": [
    "video_folder_path: Path = project_library.file_manager.FileInformation.get_absolute_folder_location(\"video\")\n",
    "\n",
    "image_data_collection = project_library.video_processor.VideoExtraction.process_video_files_within_folder_to_image_data(video_folder_path, 640)"
   ]
  },
  {
   "cell_type": "markdown",
   "metadata": {},
   "source": [
    "### Reduce the number of frame in the data collection by selecting every 10th frame"
   ]
  },
  {
   "cell_type": "code",
   "execution_count": 6,
   "metadata": {},
   "outputs": [],
   "source": [
    "import numpy\n",
    "processed_images_data_collection: list[list[numpy.ndarray]] = project_library.video_processor.VideoExtraction.extract_Nth_image_from_image_collection(image_data_collection=image_data_collection, N_value=10)"
   ]
  },
  {
   "cell_type": "code",
   "execution_count": 7,
   "metadata": {},
   "outputs": [],
   "source": [
    "raw_dataset_folder_path: str = os.path.join(Path(\"datasets\").resolve(), \"raw_custom_image_dataset\")"
   ]
  },
  {
   "cell_type": "markdown",
   "metadata": {},
   "source": [
    "### Output the images to folder from data collection"
   ]
  },
  {
   "cell_type": "code",
   "execution_count": 8,
   "metadata": {},
   "outputs": [],
   "source": [
    "project_library.video_processor.VideoExtraction.output_image_data_collection_to_folder(processed_images_data_collection, destination_folder_path=raw_dataset_folder_path)"
   ]
  },
  {
   "cell_type": "markdown",
   "metadata": {},
   "source": [
    "### Setup YOLO model"
   ]
  },
  {
   "cell_type": "code",
   "execution_count": null,
   "metadata": {},
   "outputs": [],
   "source": []
  },
  {
   "cell_type": "markdown",
   "metadata": {},
   "source": [
    "Process image"
   ]
  },
  {
   "cell_type": "markdown",
   "metadata": {},
   "source": [
    "Prepare Train, Validation and Test dataset"
   ]
  },
  {
   "cell_type": "markdown",
   "metadata": {},
   "source": []
  },
  {
   "cell_type": "markdown",
   "metadata": {},
   "source": [
    "## Train the YOLO model"
   ]
  },
  {
   "cell_type": "code",
   "execution_count": null,
   "metadata": {},
   "outputs": [],
   "source": []
  },
  {
   "cell_type": "markdown",
   "metadata": {},
   "source": [
    "## Validate YOLO model"
   ]
  },
  {
   "cell_type": "code",
   "execution_count": null,
   "metadata": {},
   "outputs": [],
   "source": []
  }
 ],
 "metadata": {
  "kernelspec": {
   "display_name": "Python 3",
   "language": "python",
   "name": "python3"
  },
  "language_info": {
   "codemirror_mode": {
    "name": "ipython",
    "version": 3
   },
   "file_extension": ".py",
   "mimetype": "text/x-python",
   "name": "python",
   "nbconvert_exporter": "python",
   "pygments_lexer": "ipython3",
   "version": "3.12.9"
  }
 },
 "nbformat": 4,
 "nbformat_minor": 2
}
