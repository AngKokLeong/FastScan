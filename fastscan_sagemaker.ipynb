{
 "cells": [
  {
   "cell_type": "markdown",
   "metadata": {},
   "source": [
    "# FastScan AWS SageMaker Pipeline Implementation"
   ]
  },
  {
   "cell_type": "markdown",
   "metadata": {},
   "source": [
    "The implementation in this jupyter notebook can only be used in AWS SageMaker Studio Code Editor.\n",
    "\n",
    "https://sagemaker-examples.readthedocs.io/en/latest/sagemaker-pipelines/tabular/abalone_build_train_deploy/sagemaker-pipelines-preprocess-train-evaluate-batch-transform.html#Define-a-Processing-Step-for-Feature-Engineering"
   ]
  },
  {
   "cell_type": "markdown",
   "metadata": {},
   "source": [
    "## 1.2 Import Packages"
   ]
  },
  {
   "cell_type": "code",
   "execution_count": 2,
   "metadata": {},
   "outputs": [],
   "source": [
    "\n",
    "import os\n",
    "import numpy\n",
    "import sagemaker\n",
    "import sys\n",
    "\n",
    "\n"
   ]
  },
  {
   "cell_type": "markdown",
   "metadata": {},
   "source": [
    "# 2. Create SageMaker Pipeline Session"
   ]
  },
  {
   "cell_type": "code",
   "execution_count": 3,
   "metadata": {},
   "outputs": [],
   "source": [
    "from sagemaker.workflow.pipeline_context import PipelineSession\n",
    "\n",
    "sagemaker_session = sagemaker.session.Session()\n",
    "\n",
    "region = sagemaker_session.boto_region_name\n",
    "role = sagemaker.get_execution_role()\n",
    "\n",
    "pipeline_session = PipelineSession()\n",
    "\n",
    "default_bucket = sagemaker_session.default_bucket()\n",
    "\n",
    "model_package_group_name = f\"FastScanModelPackageGroupName\""
   ]
  },
  {
   "cell_type": "code",
   "execution_count": 6,
   "metadata": {},
   "outputs": [
    {
     "name": "stdout",
     "output_type": "stream",
     "text": [
      "None\n"
     ]
    }
   ],
   "source": [
    "print(pipeline_session.context)"
   ]
  },
  {
   "cell_type": "markdown",
   "metadata": {},
   "source": [
    "# 3. Define Parameters in the Pipeline for Pipeline Execution"
   ]
  },
  {
   "cell_type": "code",
   "execution_count": 25,
   "metadata": {},
   "outputs": [],
   "source": [
    "image_input_data_uri: str = \"s3://angkokleong-bucket/datasets/raw_custom_image_dataset/\"\n",
    "label_input_data_uri: str = \"s3://angkokleong-bucket/datasets/raw_label_data/\"\n",
    "\n",
    "train_image_dataset_input_uri: str = \"s3://angkokleong-bucket/datasets/fastscandataset/images/train/\"\n",
    "test_image_dataset_input_uri: str = \"s3://angkokleong-bucket/datasets/fastscandataset/images/test/\"\n",
    "val_image_dataset_input_uri: str = \"s3://angkokleong-bucket/datasets/fastscandataset/images/val/\""
   ]
  },
  {
   "cell_type": "code",
   "execution_count": 149,
   "metadata": {},
   "outputs": [],
   "source": [
    "from sagemaker.workflow.parameters import (\n",
    "    ParameterInteger,\n",
    "    ParameterString,\n",
    "    ParameterFloat,\n",
    ")\n",
    "\n",
    "#There can be multiple input data\n",
    "\n",
    "\n",
    "processing_instance_count = 1\n",
    "instance_type = \"ml.m5.xlarge\"\n",
    "model_approval_status = ParameterString(name=\"ModelApprovalStatus\", default_value=\"PendingManualApproval\")\n",
    "\n",
    "input_image_data = ParameterString(\n",
    "    name=\"InputImageData\",\n",
    "    default_value=image_input_data_uri\n",
    ")\n",
    "\n",
    "input_label_data = ParameterString(\n",
    "    name=\"InputLabelData\",\n",
    "    default_value=label_input_data_uri\n",
    ")\n",
    "\n",
    "input_train_image_dataset_s3_uri = ParameterString(\n",
    "    name=\"InputTrainImageDataset_S3_URI\",\n",
    "    default_value=train_image_dataset_input_uri\n",
    ")\n",
    "\n",
    "input_test_image_dataset_s3_uri = ParameterString(\n",
    "    name=\"InputTestImageDataset_S3_URI\",\n",
    "    default_value=test_image_dataset_input_uri\n",
    ")\n",
    "\n",
    "input_val_image_dataset_s3_uri = ParameterString(\n",
    "    name=\"InputValImageDataset_S3_URI\",\n",
    "    default_value=val_image_dataset_input_uri\n",
    ")\n",
    "\n",
    "\n",
    "mAP50_threshold = ParameterFloat(name=\"mAP50Threshold\", default_value=0.9)\n",
    "mAP50to95_threshold = ParameterFloat(name=\"mAP50to95threshold\", default_value=0.8)"
   ]
  },
  {
   "cell_type": "code",
   "execution_count": 144,
   "metadata": {},
   "outputs": [
    {
     "ename": "TypeError",
     "evalue": "Pipeline variables do not support __int__ operation.",
     "output_type": "error",
     "traceback": [
      "\u001b[0;31m---------------------------------------------------------------------------\u001b[0m",
      "\u001b[0;31mTypeError\u001b[0m                                 Traceback (most recent call last)",
      "Cell \u001b[0;32mIn[144], line 1\u001b[0m\n\u001b[0;32m----> 1\u001b[0m \u001b[38;5;28;43mint\u001b[39;49m\u001b[43m(\u001b[49m\u001b[43mprocessing_instance_count\u001b[49m\u001b[43m)\u001b[49m\n",
      "File \u001b[0;32m/opt/conda/lib/python3.11/site-packages/sagemaker/workflow/entities.py:98\u001b[0m, in \u001b[0;36mPipelineVariable.__int__\u001b[0;34m(self)\u001b[0m\n\u001b[1;32m     96\u001b[0m \u001b[38;5;28;01mdef\u001b[39;00m\u001b[38;5;250m \u001b[39m\u001b[38;5;21m__int__\u001b[39m(\u001b[38;5;28mself\u001b[39m):\n\u001b[1;32m     97\u001b[0m \u001b[38;5;250m    \u001b[39m\u001b[38;5;124;03m\"\"\"Override built-in Integer function for PipelineVariable\"\"\"\u001b[39;00m\n\u001b[0;32m---> 98\u001b[0m     \u001b[38;5;28;01mraise\u001b[39;00m \u001b[38;5;167;01mTypeError\u001b[39;00m(\u001b[38;5;124m\"\u001b[39m\u001b[38;5;124mPipeline variables do not support __int__ operation.\u001b[39m\u001b[38;5;124m\"\u001b[39m)\n",
      "\u001b[0;31mTypeError\u001b[0m: Pipeline variables do not support __int__ operation."
     ]
    }
   ],
   "source": []
  },
  {
   "cell_type": "markdown",
   "metadata": {},
   "source": [
    "# 4. Video Data Processing to extract video frame and convert to images"
   ]
  },
  {
   "cell_type": "markdown",
   "metadata": {},
   "source": [
    "This process is the video frame extraction from video file and the extracted video frame will be converted to image.\n",
    "\n",
    "The image will be resized to 640 by 640 from 4K resolution."
   ]
  },
  {
   "cell_type": "code",
   "execution_count": null,
   "metadata": {},
   "outputs": [],
   "source": [
    "from sagemaker.processing import FrameworkProcessor\n",
    "from sagemaker.pytorch.estimator import PyTorch\n",
    "\n",
    "# Refer to https://github.com/aws/deep-learning-containers/blob/master/available_images.md\n",
    "# \n",
    "pytorch_processor = FrameworkProcessor(\n",
    "    estimator_cls=PyTorch,\n",
    "    framework_version=\"2.5.1\",\n",
    "    image_uri=\"763104351884.dkr.ecr.us-east-1.amazonaws.com/pytorch-training:2.5.1-gpu-py311-cu124-ubuntu22.04-sagemaker\",\n",
    "    role=role,\n",
    "    py_version=\"py3\",\n",
    "    instance_count=processing_instance_count,\n",
    "    instance_type=\"ml.m5.xlarge\",\n",
    "    sagemaker_session=pipeline_session,\n",
    "    base_job_name=\"stratified_splitting_image_data_processing\"\n",
    ")\n"
   ]
  },
  {
   "cell_type": "code",
   "execution_count": null,
   "metadata": {},
   "outputs": [],
   "source": [
    "from sagemaker.processing import ProcessingInput, ProcessingOutput\n",
    "from sagemaker.workflow.steps import ProcessingStep\n",
    "import project_library.file_manager\n",
    "\n",
    "# Project Directory in this project\n",
    "project_library_folder_path: str = str(project_library.file_manager.FileInformation.get_absolute_folder_location(\"/home/sagemaker-user/user-default-efs/FastScan/project_library\"))\n",
    "\n",
    "\n",
    "# Docker context\n",
    "ROOT_INPUT_FOLDER_PATH: str = str(project_library.file_manager.FileInformation.get_absolute_folder_location(\"/opt/ml/processing/input\"))\n",
    "ROOT_OUTPUT_FOLDER_PATH: str = str(project_library.file_manager.FileInformation.get_absolute_folder_location(\"/opt/ml/processing/output\"))\n",
    "\n",
    "aws_dataset_folder_path: str = str(project_library.file_manager.FileInformation.get_absolute_folder_location(\"/opt/ml/processing/input/aws_datasets\"))\n",
    "fastscan_dataset_folder_path: str = str(project_library.file_manager.FileInformation.get_absolute_folder_location(\"/opt/ml/processing/input/aws_datasets/fastscandataset\"))\n",
    "raw_image_dataset_folder_path: str = str(project_library.file_manager.FileInformation.get_absolute_folder_location(\"/opt/ml/processing/input/aws_datasets/fastscandataset/raw_custom_image_dataset\"))\n",
    "raw_label_dataset_folder_path: str = str(project_library.file_manager.FileInformation.get_absolute_folder_location(\"/opt/ml/processing/input/aws_datasets/fastscandataset/raw_custom_label_dataset\"))\n",
    "\n",
    "\n",
    "# https://docs.aws.amazon.com/sagemaker/latest/dg/byoc-input-and-output.html (How Amazon Sagemaker processing configures input and output for your processing container)\n",
    "# https://github.com/aws/amazon-sagemaker-examples/blob/main/sagemaker_processing/scikit_learn_data_processing_and_model_evaluation/scikit_learn_data_processing_and_model_evaluation.ipynb (visual guide for ProcessingInput and ProcessingOutput)\n",
    "video_data_processor_args = pytorch_processor.run(\n",
    "    inputs=[\n",
    "        ProcessingInput(source=input_image_data, destination=raw_image_dataset_folder_path),\n",
    "        ProcessingInput(source=input_label_data, destination=raw_label_dataset_folder_path)\n",
    "    ],\n",
    "    dependencies=[str(\"/home/sagemaker-user/user-default-efs/FastScan/project_library\"), str(\"/home/sagemaker-user/user-default-efs/FastScan/aws_sagemaker_pipeline/preprocessing/requirements.txt\")],\n",
    "    code=str(\"/home/sagemaker-user/user-default-efs/FastScan/aws_sagemaker_pipeline/preprocessing/image_preprocessing_script.py\"),\n",
    "    outputs=[\n",
    "        ProcessingOutput(output_name=\"train\", source=\"/opt/ml/processing/input/aws_datasets/fastscandataset/raw/train\", destination=\"s3://angkokleong-bucket/datasets/fastscandataset/images/train\"),\n",
    "        ProcessingOutput(output_name=\"test\", source=\"/opt/ml/processing/input/aws_datasets/fastscandataset/raw/test\", destination=\"s3://angkokleong-bucket/datasets/fastscandataset/images/test\"),\n",
    "        ProcessingOutput(output_name=\"val\", source=\"/opt/ml/processing/input/aws_datasets/fastscandataset/raw/val\", destination=\"s3://angkokleong-bucket/datasets/fastscandataset/images/val\"),\n",
    "        ProcessingOutput(output_name=\"train_label\", source=\"/opt/ml/processing/input/aws_datasets/fastscandataset/labels/train\", destination=\"s3://angkokleong-bucket/datasets/fastscandataset/labels/train\"),\n",
    "        ProcessingOutput(output_name=\"test_label\", source=\"/opt/ml/processing/input/aws_datasets/fastscandataset/labels/test\", destination=\"s3://angkokleong-bucket/datasets/fastscandataset/labels/test\"),\n",
    "        ProcessingOutput(output_name=\"val_label\", source=\"/opt/ml/processing/input/aws_datasets/fastscandataset/labels/val\", destination=\"s3://angkokleong-bucket/datasets/fastscandataset/labels/val\")\n",
    "    ]   \n",
    ")\n",
    "\n",
    "\n",
    "video_data_process_step = ProcessingStep(name=\"video_data_processing\", step_args=video_data_processor_args)"
   ]
  },
  {
   "cell_type": "code",
   "execution_count": 42,
   "metadata": {},
   "outputs": [
    {
     "name": "stderr",
     "output_type": "stream",
     "text": [
      "INFO:sagemaker.image_uris:Defaulting to only available Python version: py3\n",
      "INFO:sagemaker.image_uris:Defaulting to only supported image scope: cpu.\n"
     ]
    },
    {
     "data": {
      "text/plain": [
       "'683313688378.dkr.ecr.us-east-1.amazonaws.com/sagemaker-scikit-learn:1.2-1-cpu-py3'"
      ]
     },
     "execution_count": 42,
     "metadata": {},
     "output_type": "execute_result"
    }
   ],
   "source": [
    "from sagemaker import image_uris\n",
    "\n",
    "image_uris.retrieve(framework=\"sklearn\", region=\"us-east-1\", version=\"1.2-1\", image_scope=\"training\")"
   ]
  },
  {
   "cell_type": "markdown",
   "metadata": {},
   "source": [
    "# 5. Prepare Train, Val and Test dataset using train-test-split (done)"
   ]
  },
  {
   "cell_type": "markdown",
   "metadata": {},
   "source": [
    "Image file split to create train, test and val dataset for YOLO model training"
   ]
  },
  {
   "cell_type": "code",
   "execution_count": 113,
   "metadata": {},
   "outputs": [],
   "source": [
    "from sagemaker.processing import FrameworkProcessor\n",
    "from sagemaker.sklearn.estimator import SKLearn\n",
    "\n",
    "# Refer to https://github.com/aws/deep-learning-containers/blob/master/available_images.md\n",
    "\n",
    "sklearn_train_test_split_processor = FrameworkProcessor(\n",
    "    estimator_cls=SKLearn,\n",
    "    framework_version=\"1.2-1\",\n",
    "    role=role,\n",
    "    py_version=\"py3\",\n",
    "    instance_count=processing_instance_count,\n",
    "    instance_type=\"ml.m5.xlarge\",\n",
    "    sagemaker_session=pipeline_session,\n",
    "    base_job_name=\"train-test-split-image-data-processing-job\"\n",
    ")\n"
   ]
  },
  {
   "cell_type": "code",
   "execution_count": 114,
   "metadata": {},
   "outputs": [],
   "source": [
    "from sagemaker.processing import ProcessingInput, ProcessingOutput\n",
    "from sagemaker.workflow.steps import ProcessingStep\n",
    "import project_library.file_manager\n",
    "\n",
    "# Project Directory in this project\n",
    "project_library_folder_path: str = str(project_library.file_manager.FileInformation.get_absolute_folder_location(\"/home/sagemaker-user/user-default-efs/FastScan/project_library\"))\n",
    "\n",
    "\n",
    "# Docker context\n",
    "ROOT_INPUT_FOLDER_PATH: str = str(project_library.file_manager.FileInformation.get_absolute_folder_location(\"/opt/ml/processing/input\"))\n",
    "ROOT_OUTPUT_FOLDER_PATH: str = str(project_library.file_manager.FileInformation.get_absolute_folder_location(\"/opt/ml/processing/output\"))\n",
    "\n",
    "aws_dataset_folder_path: str = str(project_library.file_manager.FileInformation.get_absolute_folder_location(\"/opt/ml/processing/input/aws_datasets\"))\n",
    "fastscan_dataset_folder_path: str = str(project_library.file_manager.FileInformation.get_absolute_folder_location(\"/opt/ml/processing/input/aws_datasets/fastscandataset\"))\n",
    "raw_image_dataset_folder_path: str = str(project_library.file_manager.FileInformation.get_absolute_folder_location(\"/opt/ml/processing/input/aws_datasets/fastscandataset/raw_custom_image_dataset\"))\n",
    "raw_label_dataset_folder_path: str = str(project_library.file_manager.FileInformation.get_absolute_folder_location(\"/opt/ml/processing/input/aws_datasets/fastscandataset/raw_custom_label_dataset\"))\n",
    "\n",
    "\n",
    "# https://docs.aws.amazon.com/sagemaker/latest/dg/byoc-input-and-output.html (How Amazon Sagemaker processing configures input and output for your processing container)\n",
    "\n",
    "sklearn_train_test_split_processor_args = sklearn_train_test_split_processor.run(\n",
    "    inputs=[\n",
    "        ProcessingInput(source=input_image_data, destination=raw_image_dataset_folder_path)\n",
    "    ],\n",
    "    dependencies=[str(\"/home/sagemaker-user/user-default-efs/FastScan/project_library\"), str(\"/home/sagemaker-user/user-default-efs/FastScan/project_library/aws_sagemaker_pipeline/train_test_split_image_data_processing/requirements.txt\")],\n",
    "    code=str(\"/home/sagemaker-user/user-default-efs/FastScan/project_library/aws_sagemaker_pipeline/train_test_split_image_data_processing/processing_script.py\"),\n",
    "    outputs=[\n",
    "        ProcessingOutput(output_name=\"train\", source=\"/opt/ml/processing/input/aws_datasets/fastscandataset/raw/train\", destination=\"s3://angkokleong-bucket/datasets/fastscandataset/images/train\"),\n",
    "        ProcessingOutput(output_name=\"test\", source=\"/opt/ml/processing/input/aws_datasets/fastscandataset/raw/test\", destination=\"s3://angkokleong-bucket/datasets/fastscandataset/images/test\"),\n",
    "        ProcessingOutput(output_name=\"val\", source=\"/opt/ml/processing/input/aws_datasets/fastscandataset/raw/val\", destination=\"s3://angkokleong-bucket/datasets/fastscandataset/images/val\")\n",
    "    ]   \n",
    ")\n",
    "\n",
    "\n",
    "train_test_split_image_data_process_step = ProcessingStep(name=\"train-test-split-image-data-processing\", step_args=sklearn_train_test_split_processor_args)"
   ]
  },
  {
   "cell_type": "markdown",
   "metadata": {},
   "source": [
    "# 6. Prepare Label data for each image based on the dataset created by train-test-split"
   ]
  },
  {
   "cell_type": "markdown",
   "metadata": {},
   "source": [
    "This process step is to utilize the image data files residing in the train, val and test dataset folder as a reference and populate the label data file in the same way."
   ]
  },
  {
   "cell_type": "code",
   "execution_count": 121,
   "metadata": {},
   "outputs": [],
   "source": [
    "from sagemaker.processing import FrameworkProcessor\n",
    "from sagemaker.sklearn.estimator import SKLearn\n",
    "\n",
    "# Refer to https://github.com/aws/deep-learning-containers/blob/master/available_images.md\n",
    "\n",
    "sklearn_label_data_sorting_processor = FrameworkProcessor(\n",
    "    estimator_cls=SKLearn,\n",
    "    framework_version=\"1.2-1\",\n",
    "    role=role,\n",
    "    py_version=\"py3\",\n",
    "    instance_count=processing_instance_count,\n",
    "    instance_type=\"ml.m5.xlarge\",\n",
    "    sagemaker_session=pipeline_session,\n",
    "    base_job_name=\"label-data-sorting-processing-job\"\n",
    ")\n"
   ]
  },
  {
   "cell_type": "code",
   "execution_count": 122,
   "metadata": {},
   "outputs": [
    {
     "name": "stderr",
     "output_type": "stream",
     "text": [
      "/opt/conda/lib/python3.11/site-packages/sagemaker/workflow/pipeline_context.py:332: UserWarning: Running within a PipelineSession, there will be No Wait, No Logs, and No Job being started.\n",
      "  warnings.warn(\n"
     ]
    }
   ],
   "source": [
    "from sagemaker.processing import ProcessingInput, ProcessingOutput\n",
    "from sagemaker.workflow.steps import ProcessingStep\n",
    "import project_library.file_manager\n",
    "\n",
    "# Project Directory in this project\n",
    "project_library_folder_path: str = str(project_library.file_manager.FileInformation.get_absolute_folder_location(\"/home/sagemaker-user/user-default-efs/FastScan/project_library\"))\n",
    "\n",
    "\n",
    "# Docker context\n",
    "ROOT_INPUT_FOLDER_PATH: str = str(project_library.file_manager.FileInformation.get_absolute_folder_location(\"/opt/ml/processing/input\"))\n",
    "ROOT_OUTPUT_FOLDER_PATH: str = str(project_library.file_manager.FileInformation.get_absolute_folder_location(\"/opt/ml/processing/output\"))\n",
    "\n",
    "aws_dataset_folder_path: str = str(project_library.file_manager.FileInformation.get_absolute_folder_location(\"/opt/ml/processing/input/aws_datasets\"))\n",
    "fastscan_dataset_folder_path: str = str(project_library.file_manager.FileInformation.get_absolute_folder_location(\"/opt/ml/processing/input/aws_datasets/fastscandataset\"))\n",
    "raw_label_dataset_folder_path: str = str(project_library.file_manager.FileInformation.get_absolute_folder_location(\"/opt/ml/processing/input/aws_datasets/fastscandataset/raw_label_data\"))\n",
    "\n",
    "fastscan_dataset_train_folder_path: str = str(project_library.file_manager.FileInformation.get_absolute_folder_location(\"/opt/ml/processing/input/aws_datasets/fastscandataset/images/train\"))\n",
    "fastscan_dataset_test_folder_path: str = str(project_library.file_manager.FileInformation.get_absolute_folder_location(\"/opt/ml/processing/input/aws_datasets/fastscandataset/images/test\"))\n",
    "fastscan_dataset_val_folder_path: str = str(project_library.file_manager.FileInformation.get_absolute_folder_location(\"/opt/ml/processing/input/aws_datasets/fastscandataset/images/val\"))\n",
    "\n",
    "label_data_sorting_processor_args = sklearn_label_data_sorting_processor.run(\n",
    "    inputs=[\n",
    "        ProcessingInput(source=input_train_image_dataset_s3_uri, destination=fastscan_dataset_train_folder_path),\n",
    "        ProcessingInput(source=input_test_image_dataset_s3_uri, destination=fastscan_dataset_test_folder_path),\n",
    "        ProcessingInput(source=input_val_image_dataset_s3_uri, destination=fastscan_dataset_val_folder_path),\n",
    "        ProcessingInput(source=input_label_data, destination=raw_label_dataset_folder_path)\n",
    "    ],\n",
    "    dependencies=[str(\"/home/sagemaker-user/user-default-efs/FastScan/project_library\"), str(\"/home/sagemaker-user/user-default-efs/FastScan/project_library/aws_sagemaker_pipeline/label_data_processing/requirements.txt\")],\n",
    "    code=str(\"/home/sagemaker-user/user-default-efs/FastScan/project_library/aws_sagemaker_pipeline/label_data_processing/processing_script.py\"),\n",
    "    outputs=[\n",
    "        ProcessingOutput(output_name=\"train_label\", source=\"/opt/ml/processing/input/aws_datasets/fastscandataset/labels/train\", destination=\"s3://angkokleong-bucket/datasets/fastscandataset/labels/train\"),\n",
    "        ProcessingOutput(output_name=\"test_label\", source=\"/opt/ml/processing/input/aws_datasets/fastscandataset/labels/test\", destination=\"s3://angkokleong-bucket/datasets/fastscandataset/labels/test\"),\n",
    "        ProcessingOutput(output_name=\"val_label\", source=\"/opt/ml/processing/input/aws_datasets/fastscandataset/labels/val\", destination=\"s3://angkokleong-bucket/datasets/fastscandataset/labels/val\")\n",
    "    ]   \n",
    ")\n",
    "\n",
    "label_data_sorting_process_step = ProcessingStep(name=\"label-data-sorting-processing\", step_args=label_data_sorting_processor_args, depends_on=[train_test_split_image_data_process_step])"
   ]
  },
  {
   "cell_type": "markdown",
   "metadata": {},
   "source": [
    "# 7. Prepare YOLO Model Training"
   ]
  },
  {
   "cell_type": "code",
   "execution_count": 293,
   "metadata": {},
   "outputs": [],
   "source": [
    "from sagemaker.pytorch.estimator import PyTorch\n",
    "import time\n",
    "import os\n",
    "# Refer to https://github.com/aws/deep-learning-containers/blob/master/available_images.md\n",
    "# https://sagemaker.readthedocs.io/en/stable/frameworks/pytorch/sagemaker.pytorch.html \n",
    "\n",
    "\n",
    "timestamp = time.strftime(\"%d-%B-%Y-%H-%M-%S\", time.localtime())\n",
    "\n",
    "# # https://sagemaker.readthedocs.io/en/stable/api/training/estimators.html#sagemaker.estimator.Framework  (PyTorch Estimator's super class where PyTorch Estimator derived its code from)\n",
    "\n",
    "pytorch_estimator: PyTorch = PyTorch(\n",
    "    entry_point=\"aws_sagemaker_pipeline/model_training/model_training_script.py\",\n",
    "    image_uri=\"763104351884.dkr.ecr.us-east-1.amazonaws.com/pytorch-training:2.5.1-cpu-py311-ubuntu22.04-sagemaker\",\n",
    "    py_version=\"py3\",\n",
    "    source_dir=\"/home/sagemaker-user/user-default-efs/FastScan/project_library\",\n",
    "    framework_version=\"2.5.1\",\n",
    "    instance_count=processing_instance_count,\n",
    "    instance_type=instance_type,\n",
    "    role=role,\n",
    "    output_path=\"s3://angkokleong-bucket/model/train\",\n",
    "    dependencies=[\"/home/sagemaker-user/user-default-efs/FastScan/project_library/aws_sagemaker_pipeline/model_training/requirements.txt\", \"/home/sagemaker-user/user-default-efs/FastScan/project_library\"],\n",
    "    hyperparameters={\n",
    "        'epochs': 30,\n",
    "        'batch-size': 32,\n",
    "        'learning-rate': 0.001\n",
    "    }\n",
    ")"
   ]
  },
  {
   "cell_type": "code",
   "execution_count": 294,
   "metadata": {},
   "outputs": [],
   "source": [
    "from sagemaker.inputs import TrainingInput\n",
    "from sagemaker.workflow.steps import TrainingStep\n",
    "import project_library.file_manager\n",
    "\n",
    "# Project Directory in this project\n",
    "project_library_folder_path: str = str(project_library.file_manager.FileInformation.get_absolute_folder_location(\"/home/sagemaker-user/user-default-efs/FastScan/project_library\"))\n",
    "\n",
    "# Docker context\n",
    "ROOT_INPUT_FOLDER_PATH: str = str(project_library.file_manager.FileInformation.get_absolute_folder_location(\"/opt/ml/processing/input\"))\n",
    "ROOT_OUTPUT_FOLDER_PATH: str = str(project_library.file_manager.FileInformation.get_absolute_folder_location(\"/opt/ml/processing/output\"))\n",
    "\n",
    "timestamp = time.strftime(\"%d-%B-%Y-%H-%M-%S\", time.localtime())\n",
    "\n",
    "# TrainingInput documentation: https://sagemaker.readthedocs.io/en/stable/api/utility/inputs.html#sagemaker.inputs.TrainingInput\n",
    "\n",
    "# https://sagemaker.readthedocs.io/en/stable/api/training/estimators.html#sagemaker.estimator.Framework \n",
    "\n",
    "\n",
    "# https://docs.aws.amazon.com/sagemaker/latest/dg/your-algorithms-training-algo-running-container.html (After PyTorch estimator fit() is invoked, the )\n",
    "\n",
    "# https://sagemaker.readthedocs.io/en/stable/api/training/estimators.html#sagemaker.estimator.EstimatorBase.fit \n",
    "    # Train a model using the input training dataset.\n",
    "\n",
    "        # The API calls the Amazon SageMaker CreateTrainingJob API to start model training. The API uses configuration you provided to create the estimator and the specified input training data to send the CreatingTrainingJob request to Amazon SageMaker.\n",
    "\n",
    "\n",
    "\n",
    "inputs={\n",
    "    \"train\": TrainingInput(s3_data=\"s3://angkokleong-bucket/datasets/fastscandataset\", input_mode=\"File\")\n",
    "}\n",
    "  \n",
    "\n",
    "\n",
    "#, depends_on=[train_test_split_image_data_process_step, label_data_sorting_process_step]\n",
    "\n",
    "yolo_model_training_process_step = TrainingStep(name=\"YOLO_model_training\", \n",
    "                        display_name=\"YOLO_model_training_step\", \n",
    "                        estimator=pytorch_estimator, inputs=inputs)\n",
    "\n",
    "\n",
    "\n"
   ]
  },
  {
   "cell_type": "markdown",
   "metadata": {},
   "source": [
    "# 8. Model Tuning"
   ]
  },
  {
   "cell_type": "markdown",
   "metadata": {},
   "source": []
  },
  {
   "cell_type": "code",
   "execution_count": null,
   "metadata": {},
   "outputs": [],
   "source": [
    "from sagemaker.workflow.steps import TuningStep\n",
    "\n"
   ]
  },
  {
   "cell_type": "code",
   "execution_count": null,
   "metadata": {},
   "outputs": [],
   "source": []
  },
  {
   "cell_type": "markdown",
   "metadata": {},
   "source": [
    "# 12. Define the Pipeline"
   ]
  },
  {
   "cell_type": "code",
   "execution_count": 295,
   "metadata": {},
   "outputs": [],
   "source": [
    "from sagemaker.workflow.pipeline import Pipeline\n",
    "\n",
    "pipeline_name = f\"FastScanPipeline\"\n",
    "\n",
    "pipeline = Pipeline(\n",
    "    name=pipeline_name,\n",
    "    parameters=[\n",
    "        processing_instance_count,\n",
    "        instance_type,\n",
    "        model_approval_status,\n",
    "        input_image_data,\n",
    "        input_label_data,\n",
    "        input_train_image_dataset_s3_uri,\n",
    "        input_test_image_dataset_s3_uri,\n",
    "        input_val_image_dataset_s3_uri,\n",
    "        mAP50_threshold,\n",
    "        mAP50to95_threshold\n",
    "    ],\n",
    "    steps=[yolo_model_training_process_step]\n",
    ")"
   ]
  },
  {
   "cell_type": "code",
   "execution_count": 296,
   "metadata": {},
   "outputs": [
    {
     "name": "stderr",
     "output_type": "stream",
     "text": [
      "WARNING:sagemaker.workflow.utilities:Popping out 'TrainingJobName' from the pipeline definition by default since it will be overridden at pipeline execution time. Please utilize the PipelineDefinitionConfig to persist this field in the pipeline definition if desired.\n",
      "WARNING:sagemaker.workflow.utilities:Popping out 'TrainingJobName' from the pipeline definition by default since it will be overridden at pipeline execution time. Please utilize the PipelineDefinitionConfig to persist this field in the pipeline definition if desired.\n"
     ]
    },
    {
     "data": {
      "text/plain": [
       "{'PipelineArn': 'arn:aws:sagemaker:us-east-1:396913742348:pipeline/FastScanPipeline',\n",
       " 'ResponseMetadata': {'RequestId': '5207d85d-0335-4810-bc82-f0f97aadf1f3',\n",
       "  'HTTPStatusCode': 200,\n",
       "  'HTTPHeaders': {'x-amzn-requestid': '5207d85d-0335-4810-bc82-f0f97aadf1f3',\n",
       "   'content-type': 'application/x-amz-json-1.1',\n",
       "   'content-length': '84',\n",
       "   'date': 'Fri, 28 Feb 2025 07:53:18 GMT'},\n",
       "  'RetryAttempts': 0}}"
      ]
     },
     "execution_count": 296,
     "metadata": {},
     "output_type": "execute_result"
    }
   ],
   "source": [
    "pipeline.upsert(role_arn=role)"
   ]
  },
  {
   "cell_type": "code",
   "execution_count": null,
   "metadata": {},
   "outputs": [],
   "source": []
  },
  {
   "cell_type": "markdown",
   "metadata": {},
   "source": [
    "# Start the pipeline"
   ]
  },
  {
   "cell_type": "code",
   "execution_count": 297,
   "metadata": {},
   "outputs": [],
   "source": [
    "execution = pipeline.start()"
   ]
  },
  {
   "cell_type": "code",
   "execution_count": 298,
   "metadata": {},
   "outputs": [
    {
     "data": {
      "text/plain": [
       "{'PipelineArn': 'arn:aws:sagemaker:us-east-1:396913742348:pipeline/FastScanPipeline',\n",
       " 'PipelineExecutionArn': 'arn:aws:sagemaker:us-east-1:396913742348:pipeline/FastScanPipeline/execution/n3d5yjg5tg8t',\n",
       " 'PipelineExecutionDisplayName': 'execution-1740729201025',\n",
       " 'PipelineExecutionStatus': 'Executing',\n",
       " 'PipelineExperimentConfig': {'ExperimentName': 'fastscanpipeline',\n",
       "  'TrialName': 'n3d5yjg5tg8t'},\n",
       " 'CreationTime': datetime.datetime(2025, 2, 28, 7, 53, 20, 919000, tzinfo=tzlocal()),\n",
       " 'LastModifiedTime': datetime.datetime(2025, 2, 28, 7, 53, 20, 919000, tzinfo=tzlocal()),\n",
       " 'CreatedBy': {'UserProfileArn': 'arn:aws:sagemaker:us-east-1:396913742348:user-profile/d-3gd8xgeqnewi/kokleong-1739789074256',\n",
       "  'UserProfileName': 'kokleong-1739789074256',\n",
       "  'DomainId': 'd-3gd8xgeqnewi',\n",
       "  'IamIdentity': {'Arn': 'arn:aws:sts::396913742348:assumed-role/AmazonSageMaker-ExecutionRole-20250217T183323/SageMaker',\n",
       "   'PrincipalId': 'AROAVY2PHCIGFAVRENP5G:SageMaker'}},\n",
       " 'LastModifiedBy': {'UserProfileArn': 'arn:aws:sagemaker:us-east-1:396913742348:user-profile/d-3gd8xgeqnewi/kokleong-1739789074256',\n",
       "  'UserProfileName': 'kokleong-1739789074256',\n",
       "  'DomainId': 'd-3gd8xgeqnewi',\n",
       "  'IamIdentity': {'Arn': 'arn:aws:sts::396913742348:assumed-role/AmazonSageMaker-ExecutionRole-20250217T183323/SageMaker',\n",
       "   'PrincipalId': 'AROAVY2PHCIGFAVRENP5G:SageMaker'}},\n",
       " 'ResponseMetadata': {'RequestId': '4bfaa563-6426-4c73-ac7a-0dacd4672188',\n",
       "  'HTTPStatusCode': 200,\n",
       "  'HTTPHeaders': {'x-amzn-requestid': '4bfaa563-6426-4c73-ac7a-0dacd4672188',\n",
       "   'content-type': 'application/x-amz-json-1.1',\n",
       "   'content-length': '1185',\n",
       "   'date': 'Fri, 28 Feb 2025 07:53:21 GMT'},\n",
       "  'RetryAttempts': 0}}"
      ]
     },
     "execution_count": 298,
     "metadata": {},
     "output_type": "execute_result"
    }
   ],
   "source": [
    "execution.describe()"
   ]
  },
  {
   "cell_type": "code",
   "execution_count": 299,
   "metadata": {},
   "outputs": [
    {
     "ename": "KeyboardInterrupt",
     "evalue": "",
     "output_type": "error",
     "traceback": [
      "\u001b[0;31m---------------------------------------------------------------------------\u001b[0m",
      "\u001b[0;31mKeyboardInterrupt\u001b[0m                         Traceback (most recent call last)",
      "Cell \u001b[0;32mIn[299], line 1\u001b[0m\n\u001b[0;32m----> 1\u001b[0m \u001b[43mexecution\u001b[49m\u001b[38;5;241;43m.\u001b[39;49m\u001b[43mwait\u001b[49m\u001b[43m(\u001b[49m\u001b[43m)\u001b[49m\n",
      "File \u001b[0;32m/opt/conda/lib/python3.11/site-packages/sagemaker/workflow/pipeline.py:934\u001b[0m, in \u001b[0;36m_PipelineExecution.wait\u001b[0;34m(self, delay, max_attempts)\u001b[0m\n\u001b[1;32m    905\u001b[0m model \u001b[38;5;241m=\u001b[39m botocore\u001b[38;5;241m.\u001b[39mwaiter\u001b[38;5;241m.\u001b[39mWaiterModel(\n\u001b[1;32m    906\u001b[0m     {\n\u001b[1;32m    907\u001b[0m         \u001b[38;5;124m\"\u001b[39m\u001b[38;5;124mversion\u001b[39m\u001b[38;5;124m\"\u001b[39m: \u001b[38;5;241m2\u001b[39m,\n\u001b[0;32m   (...)\u001b[0m\n\u001b[1;32m    929\u001b[0m     }\n\u001b[1;32m    930\u001b[0m )\n\u001b[1;32m    931\u001b[0m waiter \u001b[38;5;241m=\u001b[39m botocore\u001b[38;5;241m.\u001b[39mwaiter\u001b[38;5;241m.\u001b[39mcreate_waiter_with_client(\n\u001b[1;32m    932\u001b[0m     waiter_id, model, \u001b[38;5;28mself\u001b[39m\u001b[38;5;241m.\u001b[39msagemaker_session\u001b[38;5;241m.\u001b[39msagemaker_client\n\u001b[1;32m    933\u001b[0m )\n\u001b[0;32m--> 934\u001b[0m \u001b[43mwaiter\u001b[49m\u001b[38;5;241;43m.\u001b[39;49m\u001b[43mwait\u001b[49m\u001b[43m(\u001b[49m\u001b[43mPipelineExecutionArn\u001b[49m\u001b[38;5;241;43m=\u001b[39;49m\u001b[38;5;28;43mself\u001b[39;49m\u001b[38;5;241;43m.\u001b[39;49m\u001b[43marn\u001b[49m\u001b[43m)\u001b[49m\n",
      "File \u001b[0;32m/opt/conda/lib/python3.11/site-packages/botocore/waiter.py:55\u001b[0m, in \u001b[0;36mcreate_waiter_with_client.<locals>.wait\u001b[0;34m(self, **kwargs)\u001b[0m\n\u001b[1;32m     54\u001b[0m \u001b[38;5;28;01mdef\u001b[39;00m\u001b[38;5;250m \u001b[39m\u001b[38;5;21mwait\u001b[39m(\u001b[38;5;28mself\u001b[39m, \u001b[38;5;241m*\u001b[39m\u001b[38;5;241m*\u001b[39mkwargs):\n\u001b[0;32m---> 55\u001b[0m     \u001b[43mWaiter\u001b[49m\u001b[38;5;241;43m.\u001b[39;49m\u001b[43mwait\u001b[49m\u001b[43m(\u001b[49m\u001b[38;5;28;43mself\u001b[39;49m\u001b[43m,\u001b[49m\u001b[43m \u001b[49m\u001b[38;5;241;43m*\u001b[39;49m\u001b[38;5;241;43m*\u001b[39;49m\u001b[43mkwargs\u001b[49m\u001b[43m)\u001b[49m\n",
      "File \u001b[0;32m/opt/conda/lib/python3.11/site-packages/botocore/waiter.py:392\u001b[0m, in \u001b[0;36mWaiter.wait\u001b[0;34m(self, **kwargs)\u001b[0m\n\u001b[1;32m    383\u001b[0m         reason \u001b[38;5;241m=\u001b[39m (\n\u001b[1;32m    384\u001b[0m             \u001b[38;5;124mf\u001b[39m\u001b[38;5;124m'\u001b[39m\u001b[38;5;124mMax attempts exceeded. Previously accepted state: \u001b[39m\u001b[38;5;124m'\u001b[39m\n\u001b[1;32m    385\u001b[0m             \u001b[38;5;124mf\u001b[39m\u001b[38;5;124m'\u001b[39m\u001b[38;5;132;01m{\u001b[39;00macceptor\u001b[38;5;241m.\u001b[39mexplanation\u001b[38;5;132;01m}\u001b[39;00m\u001b[38;5;124m'\u001b[39m\n\u001b[1;32m    386\u001b[0m         )\n\u001b[1;32m    387\u001b[0m     \u001b[38;5;28;01mraise\u001b[39;00m WaiterError(\n\u001b[1;32m    388\u001b[0m         name\u001b[38;5;241m=\u001b[39m\u001b[38;5;28mself\u001b[39m\u001b[38;5;241m.\u001b[39mname,\n\u001b[1;32m    389\u001b[0m         reason\u001b[38;5;241m=\u001b[39mreason,\n\u001b[1;32m    390\u001b[0m         last_response\u001b[38;5;241m=\u001b[39mresponse,\n\u001b[1;32m    391\u001b[0m     )\n\u001b[0;32m--> 392\u001b[0m time\u001b[38;5;241m.\u001b[39msleep(sleep_amount)\n",
      "\u001b[0;31mKeyboardInterrupt\u001b[0m: "
     ]
    }
   ],
   "source": [
    "execution.wait()\n"
   ]
  },
  {
   "cell_type": "code",
   "execution_count": 127,
   "metadata": {},
   "outputs": [
    {
     "data": {
      "text/plain": [
       "[{'StepName': 'label-data-sorting-processing',\n",
       "  'StartTime': datetime.datetime(2025, 2, 27, 12, 1, 49, 258000, tzinfo=tzlocal()),\n",
       "  'EndTime': datetime.datetime(2025, 2, 27, 12, 7, 5, 273000, tzinfo=tzlocal()),\n",
       "  'StepStatus': 'Succeeded',\n",
       "  'Metadata': {'ProcessingJob': {'Arn': 'arn:aws:sagemaker:us-east-1:396913742348:processing-job/pipelines-zyqh52aoo7wi-label-data-sorting-p-1SWS2IKbQN'}},\n",
       "  'AttemptCount': 1},\n",
       " {'StepName': 'train-test-split-image-data-processing',\n",
       "  'StartTime': datetime.datetime(2025, 2, 27, 11, 59, 15, 531000, tzinfo=tzlocal()),\n",
       "  'EndTime': datetime.datetime(2025, 2, 27, 12, 1, 48, 775000, tzinfo=tzlocal()),\n",
       "  'StepStatus': 'Succeeded',\n",
       "  'Metadata': {'ProcessingJob': {'Arn': 'arn:aws:sagemaker:us-east-1:396913742348:processing-job/pipelines-zyqh52aoo7wi-train-test-split-ima-94lU5nGCPj'}},\n",
       "  'AttemptCount': 1}]"
      ]
     },
     "execution_count": 127,
     "metadata": {},
     "output_type": "execute_result"
    }
   ],
   "source": [
    "execution.list_steps()"
   ]
  }
 ],
 "metadata": {
  "kernelspec": {
   "display_name": "base",
   "language": "python",
   "name": "python3"
  },
  "language_info": {
   "codemirror_mode": {
    "name": "ipython",
    "version": 3
   },
   "file_extension": ".py",
   "mimetype": "text/x-python",
   "name": "python",
   "nbconvert_exporter": "python",
   "pygments_lexer": "ipython3",
   "version": "3.11.11"
  }
 },
 "nbformat": 4,
 "nbformat_minor": 2
}
