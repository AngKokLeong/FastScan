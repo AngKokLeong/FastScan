{
 "cells": [
  {
   "cell_type": "markdown",
   "metadata": {},
   "source": [
    "# FastScan AWS SageMaker Pipeline Implementation"
   ]
  },
  {
   "cell_type": "markdown",
   "metadata": {},
   "source": [
    "The implementation in this jupyter notebook can only be used in AWS SageMaker Studio Code Editor.\n",
    "\n",
    "https://sagemaker-examples.readthedocs.io/en/latest/sagemaker-pipelines/tabular/abalone_build_train_deploy/sagemaker-pipelines-preprocess-train-evaluate-batch-transform.html#Define-a-Processing-Step-for-Feature-Engineering"
   ]
  },
  {
   "cell_type": "markdown",
   "metadata": {},
   "source": [
    "## 1.2 Import Packages"
   ]
  },
  {
   "cell_type": "code",
   "execution_count": 1,
   "metadata": {},
   "outputs": [
    {
     "name": "stdout",
     "output_type": "stream",
     "text": [
      "sagemaker.config INFO - Not applying SDK defaults from location: /etc/xdg/sagemaker/config.yaml\n",
      "sagemaker.config INFO - Not applying SDK defaults from location: /home/sagemaker-user/.config/sagemaker/config.yaml\n"
     ]
    }
   ],
   "source": [
    "\n",
    "import os\n",
    "import numpy\n",
    "import sagemaker\n",
    "import sys\n",
    "\n",
    "\n"
   ]
  },
  {
   "cell_type": "markdown",
   "metadata": {},
   "source": [
    "# 2. Create SageMaker Pipeline Session"
   ]
  },
  {
   "cell_type": "code",
   "execution_count": 32,
   "metadata": {},
   "outputs": [],
   "source": [
    "from sagemaker.workflow.pipeline_context import PipelineSession\n",
    "\n",
    "sagemaker_session = sagemaker.session.Session()\n",
    "\n",
    "region = sagemaker_session.boto_region_name\n",
    "role = sagemaker.get_execution_role()\n",
    "\n",
    "pipeline_session = PipelineSession()\n",
    "\n",
    "default_bucket = sagemaker_session.default_bucket()\n",
    "\n",
    "model_package_group_name = f\"FastScanModelPackageGroupName\""
   ]
  },
  {
   "cell_type": "markdown",
   "metadata": {},
   "source": [
    "# 3. Define Parameters in the Pipeline for Pipeline Execution"
   ]
  },
  {
   "cell_type": "code",
   "execution_count": 85,
   "metadata": {},
   "outputs": [],
   "source": [
    "image_input_data_uri: str = \"s3://angkokleong-bucket/datasets/raw_custom_image_dataset/\"\n",
    "label_input_data_uri: str = \"s3://angkokleong-bucket/datasets/raw_label_data/\"\n",
    "\n",
    "train_image_dataset_input_uri: str = \"s3://angkokleong-bucket/datasets/fastscandataset/images/train/\"\n",
    "test_image_dataset_input_uri: str = \"s3://angkokleong-bucket/datasets/fastscandataset/images/test/\"\n",
    "val_image_dataset_input_uri: str = \"s3://angkokleong-bucket/datasets/fastscandataset/images/val/\""
   ]
  },
  {
   "cell_type": "code",
   "execution_count": 88,
   "metadata": {},
   "outputs": [],
   "source": [
    "from sagemaker.workflow.parameters import (\n",
    "    ParameterInteger,\n",
    "    ParameterString,\n",
    "    ParameterFloat,\n",
    ")\n",
    "\n",
    "#There can be multiple input data\n",
    "\n",
    "\n",
    "processing_instance_count = ParameterInteger(name=\"ProcessingInstanceCount\", default_value=1)\n",
    "instance_type = ParameterString(name=\"TrainingInstanceType\", default_value=\"ml.m5.xlarge\")\n",
    "model_approval_status = ParameterString(name=\"ModelApprovalStatus\", default_value=\"PendingManualApproval\")\n",
    "input_image_data = ParameterString(\n",
    "    name=\"InputImageData\",\n",
    "    default_value=image_input_data_uri\n",
    ")\n",
    "\n",
    "input_label_data = ParameterString(\n",
    "    name=\"InputLabelData\",\n",
    "    default_value=label_input_data_uri\n",
    ")\n",
    "\n",
    "input_train_image_dataset_s3_uri = ParameterString(\n",
    "    name=\"InputTrainImageDataset_S3_URI\",\n",
    "    default_value=train_image_dataset_uri\n",
    ")\n",
    "\n",
    "input_test_image_dataset_s3_uri = ParameterString(\n",
    "    name=\"InputTestImageDataset_S3_URI\",\n",
    "    default_value=test_image_dataset_uri\n",
    ")\n",
    "\n",
    "input_val_image_dataset_s3_uri = ParameterString(\n",
    "    name=\"InputValImageDataset_S3_URI\",\n",
    "    default_value=val_image_dataset_uri\n",
    ")\n",
    "\n",
    "\n",
    "mAP50_threshold = ParameterFloat(name=\"mAP50Threshold\", default_value=0.9)\n",
    "mAP50to95_threshold = ParameterFloat(name=\"mAP50to95threshold\", default_value=0.8)"
   ]
  },
  {
   "cell_type": "markdown",
   "metadata": {},
   "source": [
    "# 4. Video Data Processing to extract video frame and convert to images"
   ]
  },
  {
   "cell_type": "markdown",
   "metadata": {},
   "source": [
    "This process is the video frame extraction from video file and the extracted video frame will be converted to image.\n",
    "\n",
    "The image will be resized to 640 by 640 from 4K resolution."
   ]
  },
  {
   "cell_type": "code",
   "execution_count": null,
   "metadata": {},
   "outputs": [],
   "source": [
    "from sagemaker.processing import FrameworkProcessor\n",
    "from sagemaker.pytorch.estimator import PyTorch\n",
    "\n",
    "# Refer to https://github.com/aws/deep-learning-containers/blob/master/available_images.md\n",
    "# \n",
    "pytorch_processor = FrameworkProcessor(\n",
    "    estimator_cls=PyTorch,\n",
    "    framework_version=\"2.5.1\",\n",
    "    image_uri=\"763104351884.dkr.ecr.us-east-1.amazonaws.com/pytorch-training:2.5.1-gpu-py311-cu124-ubuntu22.04-sagemaker\",\n",
    "    role=role,\n",
    "    py_version=\"py3\",\n",
    "    instance_count=processing_instance_count,\n",
    "    instance_type=\"ml.m5.xlarge\",\n",
    "    sagemaker_session=pipeline_session,\n",
    "    base_job_name=\"stratified_splitting_image_data_processing\"\n",
    ")\n"
   ]
  },
  {
   "cell_type": "code",
   "execution_count": null,
   "metadata": {},
   "outputs": [],
   "source": [
    "from sagemaker.processing import ProcessingInput, ProcessingOutput\n",
    "from sagemaker.workflow.steps import ProcessingStep\n",
    "import project_library.file_manager\n",
    "\n",
    "# Project Directory in this project\n",
    "project_library_folder_path: str = str(project_library.file_manager.FileInformation.get_absolute_folder_location(\"/home/sagemaker-user/user-default-efs/FastScan/project_library\"))\n",
    "\n",
    "\n",
    "# Docker context\n",
    "ROOT_INPUT_FOLDER_PATH: str = str(project_library.file_manager.FileInformation.get_absolute_folder_location(\"/opt/ml/processing/input\"))\n",
    "ROOT_OUTPUT_FOLDER_PATH: str = str(project_library.file_manager.FileInformation.get_absolute_folder_location(\"/opt/ml/processing/output\"))\n",
    "\n",
    "aws_dataset_folder_path: str = str(project_library.file_manager.FileInformation.get_absolute_folder_location(\"/opt/ml/processing/input/aws_datasets\"))\n",
    "fastscan_dataset_folder_path: str = str(project_library.file_manager.FileInformation.get_absolute_folder_location(\"/opt/ml/processing/input/aws_datasets/fastscandataset\"))\n",
    "raw_image_dataset_folder_path: str = str(project_library.file_manager.FileInformation.get_absolute_folder_location(\"/opt/ml/processing/input/aws_datasets/fastscandataset/raw_custom_image_dataset\"))\n",
    "raw_label_dataset_folder_path: str = str(project_library.file_manager.FileInformation.get_absolute_folder_location(\"/opt/ml/processing/input/aws_datasets/fastscandataset/raw_custom_label_dataset\"))\n",
    "\n",
    "\n",
    "# https://docs.aws.amazon.com/sagemaker/latest/dg/byoc-input-and-output.html (How Amazon Sagemaker processing configures input and output for your processing container)\n",
    "# https://github.com/aws/amazon-sagemaker-examples/blob/main/sagemaker_processing/scikit_learn_data_processing_and_model_evaluation/scikit_learn_data_processing_and_model_evaluation.ipynb (visual guide for ProcessingInput and ProcessingOutput)\n",
    "video_data_processor_args = pytorch_processor.run(\n",
    "    inputs=[\n",
    "        ProcessingInput(source=input_image_data, destination=raw_image_dataset_folder_path),\n",
    "        ProcessingInput(source=input_label_data, destination=raw_label_dataset_folder_path)\n",
    "    ],\n",
    "    dependencies=[str(\"/home/sagemaker-user/user-default-efs/FastScan/project_library\"), str(\"/home/sagemaker-user/user-default-efs/FastScan/aws_sagemaker_pipeline/preprocessing/requirements.txt\")],\n",
    "    code=str(\"/home/sagemaker-user/user-default-efs/FastScan/aws_sagemaker_pipeline/preprocessing/image_preprocessing_script.py\"),\n",
    "    outputs=[\n",
    "        ProcessingOutput(output_name=\"train\", source=\"/opt/ml/processing/input/aws_datasets/fastscandataset/raw/train\", destination=\"s3://angkokleong-bucket/datasets/fastscandataset/images/train\"),\n",
    "        ProcessingOutput(output_name=\"test\", source=\"/opt/ml/processing/input/aws_datasets/fastscandataset/raw/test\", destination=\"s3://angkokleong-bucket/datasets/fastscandataset/images/test\"),\n",
    "        ProcessingOutput(output_name=\"val\", source=\"/opt/ml/processing/input/aws_datasets/fastscandataset/raw/val\", destination=\"s3://angkokleong-bucket/datasets/fastscandataset/images/val\"),\n",
    "        ProcessingOutput(output_name=\"train_label\", source=\"/opt/ml/processing/input/aws_datasets/fastscandataset/labels/train\", destination=\"s3://angkokleong-bucket/datasets/fastscandataset/labels/train\"),\n",
    "        ProcessingOutput(output_name=\"test_label\", source=\"/opt/ml/processing/input/aws_datasets/fastscandataset/labels/test\", destination=\"s3://angkokleong-bucket/datasets/fastscandataset/labels/test\"),\n",
    "        ProcessingOutput(output_name=\"val_label\", source=\"/opt/ml/processing/input/aws_datasets/fastscandataset/labels/val\", destination=\"s3://angkokleong-bucket/datasets/fastscandataset/labels/val\")\n",
    "    ]   \n",
    ")\n",
    "\n",
    "\n",
    "video_data_process_step = ProcessingStep(name=\"video_data_processing\", step_args=video_data_processor_args)"
   ]
  },
  {
   "cell_type": "code",
   "execution_count": 42,
   "metadata": {},
   "outputs": [
    {
     "name": "stderr",
     "output_type": "stream",
     "text": [
      "INFO:sagemaker.image_uris:Defaulting to only available Python version: py3\n",
      "INFO:sagemaker.image_uris:Defaulting to only supported image scope: cpu.\n"
     ]
    },
    {
     "data": {
      "text/plain": [
       "'683313688378.dkr.ecr.us-east-1.amazonaws.com/sagemaker-scikit-learn:1.2-1-cpu-py3'"
      ]
     },
     "execution_count": 42,
     "metadata": {},
     "output_type": "execute_result"
    }
   ],
   "source": [
    "from sagemaker import image_uris\n",
    "\n",
    "image_uris.retrieve(framework=\"sklearn\", region=\"us-east-1\", version=\"1.2-1\", image_scope=\"training\")"
   ]
  },
  {
   "cell_type": "markdown",
   "metadata": {},
   "source": [
    "# 5. Prepare Train, Val and Test dataset using train-test-split (done)"
   ]
  },
  {
   "cell_type": "markdown",
   "metadata": {},
   "source": [
    "Image file split to create train, test and val dataset for YOLO model training"
   ]
  },
  {
   "cell_type": "code",
   "execution_count": 74,
   "metadata": {},
   "outputs": [],
   "source": [
    "from sagemaker.processing import FrameworkProcessor\n",
    "from sagemaker.sklearn.estimator import SKLearn\n",
    "\n",
    "# Refer to https://github.com/aws/deep-learning-containers/blob/master/available_images.md\n",
    "\n",
    "sklearn_train_test_split_processor = FrameworkProcessor(\n",
    "    estimator_cls=SKLearn,\n",
    "    framework_version=\"1.2-1\",\n",
    "    role=role,\n",
    "    py_version=\"py3\",\n",
    "    instance_count=processing_instance_count,\n",
    "    instance_type=\"ml.m5.xlarge\",\n",
    "    sagemaker_session=pipeline_session,\n",
    "    base_job_name=\"train-test-split-image-data-processing-job\"\n",
    ")\n"
   ]
  },
  {
   "cell_type": "code",
   "execution_count": 75,
   "metadata": {},
   "outputs": [],
   "source": [
    "from sagemaker.processing import ProcessingInput, ProcessingOutput\n",
    "from sagemaker.workflow.steps import ProcessingStep\n",
    "import project_library.file_manager\n",
    "\n",
    "# Project Directory in this project\n",
    "project_library_folder_path: str = str(project_library.file_manager.FileInformation.get_absolute_folder_location(\"/home/sagemaker-user/user-default-efs/FastScan/project_library\"))\n",
    "\n",
    "\n",
    "# Docker context\n",
    "ROOT_INPUT_FOLDER_PATH: str = str(project_library.file_manager.FileInformation.get_absolute_folder_location(\"/opt/ml/processing/input\"))\n",
    "ROOT_OUTPUT_FOLDER_PATH: str = str(project_library.file_manager.FileInformation.get_absolute_folder_location(\"/opt/ml/processing/output\"))\n",
    "\n",
    "aws_dataset_folder_path: str = str(project_library.file_manager.FileInformation.get_absolute_folder_location(\"/opt/ml/processing/input/aws_datasets\"))\n",
    "fastscan_dataset_folder_path: str = str(project_library.file_manager.FileInformation.get_absolute_folder_location(\"/opt/ml/processing/input/aws_datasets/fastscandataset\"))\n",
    "raw_image_dataset_folder_path: str = str(project_library.file_manager.FileInformation.get_absolute_folder_location(\"/opt/ml/processing/input/aws_datasets/fastscandataset/raw_custom_image_dataset\"))\n",
    "raw_label_dataset_folder_path: str = str(project_library.file_manager.FileInformation.get_absolute_folder_location(\"/opt/ml/processing/input/aws_datasets/fastscandataset/raw_custom_label_dataset\"))\n",
    "\n",
    "\n",
    "# https://docs.aws.amazon.com/sagemaker/latest/dg/byoc-input-and-output.html (How Amazon Sagemaker processing configures input and output for your processing container)\n",
    "\n",
    "sklearn_train_test_split_processor_args = sklearn_train_test_split_processor.run(\n",
    "    inputs=[\n",
    "        ProcessingInput(source=input_image_data, destination=raw_image_dataset_folder_path)\n",
    "    ],\n",
    "    dependencies=[str(\"/home/sagemaker-user/user-default-efs/FastScan/project_library\"), str(\"/home/sagemaker-user/user-default-efs/FastScan/aws_sagemaker_pipeline/train_test_split_image_data_processing/requirements.txt\")],\n",
    "    code=str(\"/home/sagemaker-user/user-default-efs/FastScan/aws_sagemaker_pipeline/train_test_split_image_data_processing/processing_script.py\"),\n",
    "    outputs=[\n",
    "        ProcessingOutput(output_name=\"train\", source=\"/opt/ml/processing/input/aws_datasets/fastscandataset/raw/train\", destination=\"s3://angkokleong-bucket/datasets/fastscandataset/images/train\"),\n",
    "        ProcessingOutput(output_name=\"test\", source=\"/opt/ml/processing/input/aws_datasets/fastscandataset/raw/test\", destination=\"s3://angkokleong-bucket/datasets/fastscandataset/images/test\"),\n",
    "        ProcessingOutput(output_name=\"val\", source=\"/opt/ml/processing/input/aws_datasets/fastscandataset/raw/val\", destination=\"s3://angkokleong-bucket/datasets/fastscandataset/images/val\")\n",
    "    ]   \n",
    ")\n",
    "\n",
    "\n",
    "train_test_split_image_data_process_step = ProcessingStep(name=\"train-test-split-image-data-processing\", step_args=sklearn_train_test_split_processor_args)"
   ]
  },
  {
   "cell_type": "markdown",
   "metadata": {},
   "source": [
    "# 6. Prepare Label data for each image based on the dataset created by train-test-split"
   ]
  },
  {
   "cell_type": "markdown",
   "metadata": {},
   "source": [
    "This process step is to utilize the image data files residing in the train, val and test dataset folder as a reference and populate the label data file in the same way."
   ]
  },
  {
   "cell_type": "code",
   "execution_count": 95,
   "metadata": {},
   "outputs": [],
   "source": [
    "from sagemaker.processing import FrameworkProcessor\n",
    "from sagemaker.sklearn.estimator import SKLearn\n",
    "\n",
    "# Refer to https://github.com/aws/deep-learning-containers/blob/master/available_images.md\n",
    "\n",
    "sklearn_label_data_sorting_processor = FrameworkProcessor(\n",
    "    estimator_cls=SKLearn,\n",
    "    framework_version=\"1.2-1\",\n",
    "    role=role,\n",
    "    py_version=\"py3\",\n",
    "    instance_count=processing_instance_count,\n",
    "    instance_type=\"ml.m5.xlarge\",\n",
    "    sagemaker_session=pipeline_session,\n",
    "    base_job_name=\"label-data-sorting-processing-job\"\n",
    ")\n"
   ]
  },
  {
   "cell_type": "code",
   "execution_count": 96,
   "metadata": {},
   "outputs": [],
   "source": [
    "from sagemaker.processing import ProcessingInput, ProcessingOutput\n",
    "from sagemaker.workflow.steps import ProcessingStep\n",
    "import project_library.file_manager\n",
    "\n",
    "# Project Directory in this project\n",
    "project_library_folder_path: str = str(project_library.file_manager.FileInformation.get_absolute_folder_location(\"/home/sagemaker-user/user-default-efs/FastScan/project_library\"))\n",
    "\n",
    "\n",
    "# Docker context\n",
    "ROOT_INPUT_FOLDER_PATH: str = str(project_library.file_manager.FileInformation.get_absolute_folder_location(\"/opt/ml/processing/input\"))\n",
    "ROOT_OUTPUT_FOLDER_PATH: str = str(project_library.file_manager.FileInformation.get_absolute_folder_location(\"/opt/ml/processing/output\"))\n",
    "\n",
    "aws_dataset_folder_path: str = str(project_library.file_manager.FileInformation.get_absolute_folder_location(\"/opt/ml/processing/input/aws_datasets\"))\n",
    "fastscan_dataset_folder_path: str = str(project_library.file_manager.FileInformation.get_absolute_folder_location(\"/opt/ml/processing/input/aws_datasets/fastscandataset\"))\n",
    "raw_label_dataset_folder_path: str = str(project_library.file_manager.FileInformation.get_absolute_folder_location(\"/opt/ml/processing/input/aws_datasets/fastscandataset/raw_label_data\"))\n",
    "\n",
    "fastscan_dataset_train_folder_path: str = str(project_library.file_manager.FileInformation.get_absolute_folder_location(\"/opt/ml/processing/input/aws_datasets/fastscandataset/images/train\"))\n",
    "fastscan_dataset_test_folder_path: str = str(project_library.file_manager.FileInformation.get_absolute_folder_location(\"/opt/ml/processing/input/aws_datasets/fastscandataset/images/test\"))\n",
    "fastscan_dataset_val_folder_path: str = str(project_library.file_manager.FileInformation.get_absolute_folder_location(\"/opt/ml/processing/input/aws_datasets/fastscandataset/images/val\"))\n",
    "\n",
    "label_data_sorting_processor_args = sklearn_label_data_sorting_processor.run(\n",
    "    inputs=[\n",
    "        ProcessingInput(source=input_train_image_dataset_s3_uri, destination=fastscan_dataset_train_folder_path),\n",
    "        ProcessingInput(source=input_test_image_dataset_s3_uri, destination=fastscan_dataset_test_folder_path),\n",
    "        ProcessingInput(source=input_val_image_dataset_s3_uri, destination=fastscan_dataset_val_folder_path),\n",
    "        ProcessingInput(source=input_label_data, destination=raw_label_dataset_folder_path)\n",
    "    ],\n",
    "    dependencies=[str(\"/home/sagemaker-user/user-default-efs/FastScan/project_library\"), str(\"/home/sagemaker-user/user-default-efs/FastScan/aws_sagemaker_pipeline/label_data_processing/requirements.txt\")],\n",
    "    code=str(\"/home/sagemaker-user/user-default-efs/FastScan/aws_sagemaker_pipeline/label_data_processing/processing_script.py\"),\n",
    "    outputs=[\n",
    "        ProcessingOutput(output_name=\"train_label\", source=\"/opt/ml/processing/input/aws_datasets/fastscandataset/labels/train\", destination=\"s3://angkokleong-bucket/datasets/fastscandataset/labels/train\"),\n",
    "        ProcessingOutput(output_name=\"test_label\", source=\"/opt/ml/processing/input/aws_datasets/fastscandataset/labels/test\", destination=\"s3://angkokleong-bucket/datasets/fastscandataset/labels/test\"),\n",
    "        ProcessingOutput(output_name=\"val_label\", source=\"/opt/ml/processing/input/aws_datasets/fastscandataset/labels/val\", destination=\"s3://angkokleong-bucket/datasets/fastscandataset/labels/val\")\n",
    "    ]   \n",
    ")\n",
    "\n",
    "label_data_sorting_process_step = ProcessingStep(name=\"label-data-sorting-processing\", step_args=label_data_sorting_processor_args)"
   ]
  },
  {
   "cell_type": "markdown",
   "metadata": {},
   "source": [
    "## 4. Prepare YOLO Model Training"
   ]
  },
  {
   "cell_type": "code",
   "execution_count": null,
   "metadata": {},
   "outputs": [],
   "source": []
  },
  {
   "cell_type": "markdown",
   "metadata": {},
   "source": [
    "# 5. "
   ]
  },
  {
   "cell_type": "code",
   "execution_count": null,
   "metadata": {},
   "outputs": [],
   "source": []
  },
  {
   "cell_type": "markdown",
   "metadata": {},
   "source": [
    "# 12. Define the Pipeline"
   ]
  },
  {
   "cell_type": "code",
   "execution_count": 97,
   "metadata": {},
   "outputs": [],
   "source": [
    "from sagemaker.workflow.pipeline import Pipeline\n",
    "\n",
    "pipeline_name = f\"FastScanPipeline\"\n",
    "\n",
    "pipeline = Pipeline(\n",
    "    name=pipeline_name,\n",
    "    parameters=[\n",
    "        processing_instance_count,\n",
    "        instance_type,\n",
    "        model_approval_status,\n",
    "        input_image_data,\n",
    "        input_label_data,\n",
    "        input_train_image_dataset_s3_uri,\n",
    "        input_test_image_dataset_s3_uri,\n",
    "        input_val_image_dataset_s3_uri,\n",
    "        mAP50_threshold,\n",
    "        mAP50to95_threshold\n",
    "    ],\n",
    "    steps=[label_data_sorting_process_step]\n",
    ")"
   ]
  },
  {
   "cell_type": "code",
   "execution_count": 98,
   "metadata": {},
   "outputs": [
    {
     "name": "stderr",
     "output_type": "stream",
     "text": [
      "INFO:sagemaker.processing:Uploaded None to s3://sagemaker-us-east-1-396913742348/FastScanPipeline/code/f6ccfee3220fcc37f69d16d1e9d672ee/sourcedir.tar.gz\n",
      "INFO:sagemaker.processing:runproc.sh uploaded to s3://sagemaker-us-east-1-396913742348/FastScanPipeline/code/b8249c70fd4046bced02d085bf7bcbf8/runproc.sh\n",
      "WARNING:sagemaker.workflow.utilities:Popping out 'ProcessingJobName' from the pipeline definition by default since it will be overridden at pipeline execution time. Please utilize the PipelineDefinitionConfig to persist this field in the pipeline definition if desired.\n",
      "INFO:sagemaker.processing:Uploaded None to s3://sagemaker-us-east-1-396913742348/FastScanPipeline/code/f6ccfee3220fcc37f69d16d1e9d672ee/sourcedir.tar.gz\n",
      "INFO:sagemaker.processing:runproc.sh uploaded to s3://sagemaker-us-east-1-396913742348/FastScanPipeline/code/b8249c70fd4046bced02d085bf7bcbf8/runproc.sh\n",
      "WARNING:sagemaker.workflow.utilities:Popping out 'ProcessingJobName' from the pipeline definition by default since it will be overridden at pipeline execution time. Please utilize the PipelineDefinitionConfig to persist this field in the pipeline definition if desired.\n"
     ]
    },
    {
     "data": {
      "text/plain": [
       "{'PipelineArn': 'arn:aws:sagemaker:us-east-1:396913742348:pipeline/FastScanPipeline',\n",
       " 'ResponseMetadata': {'RequestId': '4ad7fab1-42ec-4020-aeb3-8537311eb927',\n",
       "  'HTTPStatusCode': 200,\n",
       "  'HTTPHeaders': {'x-amzn-requestid': '4ad7fab1-42ec-4020-aeb3-8537311eb927',\n",
       "   'content-type': 'application/x-amz-json-1.1',\n",
       "   'content-length': '84',\n",
       "   'date': 'Thu, 27 Feb 2025 11:23:55 GMT'},\n",
       "  'RetryAttempts': 0}}"
      ]
     },
     "execution_count": 98,
     "metadata": {},
     "output_type": "execute_result"
    }
   ],
   "source": [
    "pipeline.upsert(role_arn=role)"
   ]
  },
  {
   "cell_type": "code",
   "execution_count": null,
   "metadata": {},
   "outputs": [],
   "source": []
  },
  {
   "cell_type": "markdown",
   "metadata": {},
   "source": [
    "# Start the pipeline"
   ]
  },
  {
   "cell_type": "code",
   "execution_count": 99,
   "metadata": {},
   "outputs": [],
   "source": [
    "execution = pipeline.start()"
   ]
  },
  {
   "cell_type": "code",
   "execution_count": 100,
   "metadata": {},
   "outputs": [
    {
     "data": {
      "text/plain": [
       "{'PipelineArn': 'arn:aws:sagemaker:us-east-1:396913742348:pipeline/FastScanPipeline',\n",
       " 'PipelineExecutionArn': 'arn:aws:sagemaker:us-east-1:396913742348:pipeline/FastScanPipeline/execution/giemklan3xb7',\n",
       " 'PipelineExecutionDisplayName': 'execution-1740655439241',\n",
       " 'PipelineExecutionStatus': 'Succeeded',\n",
       " 'PipelineExperimentConfig': {'ExperimentName': 'fastscanpipeline',\n",
       "  'TrialName': 'giemklan3xb7'},\n",
       " 'CreationTime': datetime.datetime(2025, 2, 27, 11, 23, 59, 180000, tzinfo=tzlocal()),\n",
       " 'LastModifiedTime': datetime.datetime(2025, 2, 27, 11, 26, 32, 917000, tzinfo=tzlocal()),\n",
       " 'CreatedBy': {'UserProfileArn': 'arn:aws:sagemaker:us-east-1:396913742348:user-profile/d-3gd8xgeqnewi/kokleong-1739789074256',\n",
       "  'UserProfileName': 'kokleong-1739789074256',\n",
       "  'DomainId': 'd-3gd8xgeqnewi',\n",
       "  'IamIdentity': {'Arn': 'arn:aws:sts::396913742348:assumed-role/AmazonSageMaker-ExecutionRole-20250217T183323/SageMaker',\n",
       "   'PrincipalId': 'AROAVY2PHCIGFAVRENP5G:SageMaker'}},\n",
       " 'LastModifiedBy': {'UserProfileArn': 'arn:aws:sagemaker:us-east-1:396913742348:user-profile/d-3gd8xgeqnewi/kokleong-1739789074256',\n",
       "  'UserProfileName': 'kokleong-1739789074256',\n",
       "  'DomainId': 'd-3gd8xgeqnewi',\n",
       "  'IamIdentity': {'Arn': 'arn:aws:sts::396913742348:assumed-role/AmazonSageMaker-ExecutionRole-20250217T183323/SageMaker',\n",
       "   'PrincipalId': 'AROAVY2PHCIGFAVRENP5G:SageMaker'}},\n",
       " 'ResponseMetadata': {'RequestId': '78c9b18b-f5dd-40ac-b871-bde2311a4d40',\n",
       "  'HTTPStatusCode': 200,\n",
       "  'HTTPHeaders': {'x-amzn-requestid': '78c9b18b-f5dd-40ac-b871-bde2311a4d40',\n",
       "   'content-type': 'application/x-amz-json-1.1',\n",
       "   'content-length': '1184',\n",
       "   'date': 'Thu, 27 Feb 2025 11:27:00 GMT'},\n",
       "  'RetryAttempts': 0}}"
      ]
     },
     "execution_count": 100,
     "metadata": {},
     "output_type": "execute_result"
    }
   ],
   "source": [
    "execution.wait()\n",
    "execution.describe()"
   ]
  },
  {
   "cell_type": "code",
   "execution_count": 1,
   "metadata": {},
   "outputs": [
    {
     "ename": "NameError",
     "evalue": "name 'execution' is not defined",
     "output_type": "error",
     "traceback": [
      "\u001b[0;31m---------------------------------------------------------------------------\u001b[0m",
      "\u001b[0;31mNameError\u001b[0m                                 Traceback (most recent call last)",
      "Cell \u001b[0;32mIn[1], line 1\u001b[0m\n\u001b[0;32m----> 1\u001b[0m \u001b[43mexecution\u001b[49m\u001b[38;5;241m.\u001b[39mlist_steps()\n",
      "\u001b[0;31mNameError\u001b[0m: name 'execution' is not defined"
     ]
    }
   ],
   "source": [
    "execution.list_steps()"
   ]
  }
 ],
 "metadata": {
  "kernelspec": {
   "display_name": "base",
   "language": "python",
   "name": "python3"
  },
  "language_info": {
   "codemirror_mode": {
    "name": "ipython",
    "version": 3
   },
   "file_extension": ".py",
   "mimetype": "text/x-python",
   "name": "python",
   "nbconvert_exporter": "python",
   "pygments_lexer": "ipython3",
   "version": "3.11.11"
  }
 },
 "nbformat": 4,
 "nbformat_minor": 2
}
